{
  "nbformat": 4,
  "nbformat_minor": 0,
  "metadata": {
    "colab": {
      "name": "Industry Analysis",
      "provenance": [],
      "collapsed_sections": [],
      "authorship_tag": "ABX9TyOsa6NKRXeLNfNZ1IQBM0f2",
      "include_colab_link": true
    },
    "kernelspec": {
      "name": "python3",
      "display_name": "Python 3"
    },
    "language_info": {
      "name": "python"
    },
    "accelerator": "GPU"
  },
  "cells": [
    {
      "cell_type": "markdown",
      "metadata": {
        "id": "view-in-github",
        "colab_type": "text"
      },
      "source": [
        "<a href=\"https://colab.research.google.com/github/siddley1001/Investing/blob/main/Industry_Analysis.ipynb\" target=\"_parent\"><img src=\"https://colab.research.google.com/assets/colab-badge.svg\" alt=\"Open In Colab\"/></a>"
      ]
    },
    {
      "cell_type": "code",
      "metadata": {
        "id": "4OCTJd_GnuHV",
        "colab": {
          "base_uri": "https://localhost:8080/"
        },
        "outputId": "062a700e-a918-4733-b20a-11b990e14e76"
      },
      "source": [
        "%pip install yfinance\n",
        "import yfinance as yf\n",
        "import pandas as pd\n",
        "import numpy as np\n",
        "import matplotlib.pyplot as plt\n",
        "import seaborn as sns\n",
        "\n",
        "from itertools import product\n",
        "\n",
        "\n",
        "# %pip install ta-lib\n",
        "# %pip install zipline\n",
        "#Trading Libraries\n",
        "# import talib #Technical Analysis Libraries: Bollinger Bands, Aroon Oscillator, MACD (MA Convergence/Divergence), RSI (Relative Strength Index)\n",
        "# import zipline #Backtesting and Live Trading"
      ],
      "execution_count": 1,
      "outputs": [
        {
          "output_type": "stream",
          "text": [
            "Requirement already satisfied: yfinance in /usr/local/lib/python3.7/dist-packages (0.1.59)\n",
            "Requirement already satisfied: multitasking>=0.0.7 in /usr/local/lib/python3.7/dist-packages (from yfinance) (0.0.9)\n",
            "Requirement already satisfied: requests>=2.20 in /usr/local/lib/python3.7/dist-packages (from yfinance) (2.23.0)\n",
            "Requirement already satisfied: pandas>=0.24 in /usr/local/lib/python3.7/dist-packages (from yfinance) (1.1.5)\n",
            "Requirement already satisfied: lxml>=4.5.1 in /usr/local/lib/python3.7/dist-packages (from yfinance) (4.6.3)\n",
            "Requirement already satisfied: numpy>=1.15 in /usr/local/lib/python3.7/dist-packages (from yfinance) (1.19.5)\n",
            "Requirement already satisfied: urllib3!=1.25.0,!=1.25.1,<1.26,>=1.21.1 in /usr/local/lib/python3.7/dist-packages (from requests>=2.20->yfinance) (1.24.3)\n",
            "Requirement already satisfied: idna<3,>=2.5 in /usr/local/lib/python3.7/dist-packages (from requests>=2.20->yfinance) (2.10)\n",
            "Requirement already satisfied: certifi>=2017.4.17 in /usr/local/lib/python3.7/dist-packages (from requests>=2.20->yfinance) (2020.12.5)\n",
            "Requirement already satisfied: chardet<4,>=3.0.2 in /usr/local/lib/python3.7/dist-packages (from requests>=2.20->yfinance) (3.0.4)\n",
            "Requirement already satisfied: python-dateutil>=2.7.3 in /usr/local/lib/python3.7/dist-packages (from pandas>=0.24->yfinance) (2.8.1)\n",
            "Requirement already satisfied: pytz>=2017.2 in /usr/local/lib/python3.7/dist-packages (from pandas>=0.24->yfinance) (2018.9)\n",
            "Requirement already satisfied: six>=1.5 in /usr/local/lib/python3.7/dist-packages (from python-dateutil>=2.7.3->pandas>=0.24->yfinance) (1.15.0)\n"
          ],
          "name": "stdout"
        }
      ]
    },
    {
      "cell_type": "markdown",
      "metadata": {
        "id": "gePw-guxQwR0"
      },
      "source": [
        "#Backtesting Helper Functions"
      ]
    },
    {
      "cell_type": "code",
      "metadata": {
        "id": "hflXz6MCQw33"
      },
      "source": [
        "def backtest_strategy(data, sma, lma):\n",
        "    data['daily_returns'] = data['Adj Close'].pct_change()\n",
        "\n",
        "    data['sma'] = data['Adj Close'].rolling(sma).mean()\n",
        "    data['lma'] = data['Adj Close'].rolling(lma).mean()\n",
        "\n",
        "    data['signals'] = np.where(data['sma'] >= data['lma'], 1, -1)\n",
        "\n",
        "    data.dropna(inplace = True)\n",
        "\n",
        "    data['strategic_returns'] = data['daily_returns'] * data['signals'].shift(1)\n",
        "    \n",
        "    cum_s_returns = (data['strategic_returns']+ 1).cumprod()\n",
        "\n",
        "    return round(cum_s_returns.iloc[-1] -1, 3)\n",
        "\n",
        "def cumm_returns(ticker_list, sma, lma, start_string, end_string):\n",
        "    returns = dict()\n",
        "    for ticker in ticker_list:\n",
        "        data = yf.download(ticker, start_string, end_string)\n",
        "\n",
        "        ticker_return = backtest_strategy(data, sma, lma)\n",
        "\n",
        "        print(f'Cummulative Strategy Returns for {ticker}:', ticker_return)\n",
        "\n",
        "        returns[ticker] = ticker_return\n",
        "    else:\n",
        "        print('Computations Completed!')\n",
        "\n",
        "def visualize_returns(ticker_list, sma, lma, start_string, end_string):\n",
        "    returns = dict()\n",
        "    colors = list()\n",
        "\n",
        "    for ticker in ticker_list:\n",
        "        data = yf.download(ticker, start_string, end_string)\n",
        "\n",
        "        ticker_return = backtest_strategy(data, sma, lma)\n",
        "\n",
        "        print(f'Cummulative Strategy Returns for {ticker}:', ticker_return)\n",
        "\n",
        "        returns[ticker] = ticker_return\n",
        "    \n",
        "    #colors for visualization\n",
        "    for k, v in returns.items():\n",
        "        if v > 0:\n",
        "            colors.append('lightgreen')\n",
        "        else:\n",
        "            colors.append('lightcoral')\n",
        "    \n",
        "    plt.figure(figsize = (14,7))\n",
        "    plt.bar(returns.keys(), returns.values(), color = colors)\n",
        "    plt.title('MAC Returns on stocks')\n",
        "    plt.xlabel('Stocks')\n",
        "    plt.ylabel('Returns')\n",
        "    plt.show()\n",
        "\n",
        "def optimize(data, sma_range, lma_range):\n",
        "    best_returns = -.99\n",
        "    best_sma = 0\n",
        "    best_lma = 0\n",
        "    \n",
        "    for x in product(sma_range, lma_range):\n",
        "        sma_val = x[0]\n",
        "        lma_val = x[1]\n",
        "       \n",
        "        print(f'SMA value: {sma_val} and LMA value: {lma_val}')\n",
        "        returns = backtest_strategy(data, sma_val, lma_val)\n",
        "\n",
        "        if returns > best_returns:\n",
        "            best_returns = returns\n",
        "            best_sma = sma_val\n",
        "            best_lma = lma_val\n",
        "        \n",
        "    return best_returns, best_sma, best_lma\n",
        "\n",
        "def test_optimize(stock_list, start_string, end_string, sma_range, lma_range):\n",
        "    ret_values = {}\n",
        "    sma_values = {}\n",
        "    lma_values = {}\n",
        "\n",
        "    for stock in stock_list:\n",
        "        data = yf.download(stock, start = start_string, end = end_string)\n",
        "\n",
        "        net_returns, b_sma, b_lma = optimize(data, sma_range, lma_range)\n",
        "\n",
        "        print(f'Cummulative strategy returns for {stock}:', net_returns)\n",
        "\n",
        "        ret_values[stock] = net_returns\n",
        "        sma_values[stock] = b_sma\n",
        "        lma_values[stock] = b_lma\n",
        "    else:\n",
        "        print('Computations completed!')\n",
        "        print(f'The final values are as follows: \\n{ret_values}\\n {sma_values}\\n {lma_values}')"
      ],
      "execution_count": 22,
      "outputs": []
    },
    {
      "cell_type": "code",
      "metadata": {
        "id": "HhDbt9d_Uc5N"
      },
      "source": [
        "sma = 14\n",
        "lma = 60\n",
        "\n",
        "start = '2016-01-01'\n",
        "end = '2021-10-21'\n",
        "\n",
        "#current total range is 20?\n",
        "sma_range = range(2, 12, 2)\n",
        "lma_range = range(60, 80, 5)"
      ],
      "execution_count": 3,
      "outputs": []
    },
    {
      "cell_type": "markdown",
      "metadata": {
        "id": "pEk-IlCwmVEm"
      },
      "source": [
        "# Travel (Airlines)\n",
        "- Delta (DAL)\n",
        "- United Airlines (UAL)\n",
        "- Spirit (SAVE)\n",
        "- American Airlines (AAL)\n",
        "- Alaska Airlines (ALK)"
      ]
    },
    {
      "cell_type": "code",
      "metadata": {
        "id": "OcAksUL5mSRG"
      },
      "source": [
        "airlines = ['DAL', 'UAL', 'SAVE', 'AAL', 'ALK']\n",
        "# airlines = ['DAL']"
      ],
      "execution_count": 4,
      "outputs": []
    },
    {
      "cell_type": "code",
      "metadata": {
        "colab": {
          "base_uri": "https://localhost:8080/",
          "height": 622
        },
        "id": "OksG2-vU1GtW",
        "outputId": "90f8fab5-074e-46d8-da50-2980d87125dd"
      },
      "source": [
        "visualize_returns(airlines, sma, lma, start, end)"
      ],
      "execution_count": 5,
      "outputs": [
        {
          "output_type": "stream",
          "text": [
            "[*********************100%***********************]  1 of 1 completed\n",
            "Cummulative Strategy Returns for DAL: -0.679\n",
            "[*********************100%***********************]  1 of 1 completed\n",
            "Cummulative Strategy Returns for UAL: -0.908\n",
            "[*********************100%***********************]  1 of 1 completed\n",
            "Cummulative Strategy Returns for SAVE: -0.586\n",
            "[*********************100%***********************]  1 of 1 completed\n",
            "Cummulative Strategy Returns for AAL: -0.958\n",
            "[*********************100%***********************]  1 of 1 completed\n",
            "Cummulative Strategy Returns for ALK: -0.53\n"
          ],
          "name": "stdout"
        },
        {
          "output_type": "display_data",
          "data": {
            "image/png": "[encoded data removed]",
            "text/plain": [
              "<Figure size 1008x504 with 1 Axes>"
            ]
          },
          "metadata": {
            "tags": [],
            "needs_background": "light"
          }
        }
      ]
    },
    {
      "cell_type": "code",
      "metadata": {
        "colab": {
          "base_uri": "https://localhost:8080/"
        },
        "id": "ojRRXEGfJb5H",
        "outputId": "f3d8e7fa-7f4b-4aa0-8129-5d89cc30db18"
      },
      "source": [
        "test_optimize(airlines, start, end, sma_range, lma_range)"
      ],
      "execution_count": 6,
      "outputs": [
        {
          "output_type": "stream",
          "text": [
            "\r[*********************100%***********************]  1 of 1 completed\n",
            "Cummulative strategy returns for DAL: 0.189\n",
            "[*********************100%***********************]  1 of 1 completed\n",
            "Cummulative strategy returns for UAL: -0.01\n",
            "[*********************100%***********************]  1 of 1 completed\n",
            "Cummulative strategy returns for SAVE: 0.646\n",
            "[*********************100%***********************]  1 of 1 completed\n",
            "Cummulative strategy returns for AAL: 0.423\n",
            "[*********************100%***********************]  1 of 1 completed\n",
            "Cummulative strategy returns for ALK: 0.37\n",
            "Computations completed!\n",
            "The final values are as follows: \n",
            "{'DAL': 0.189, 'UAL': -0.01, 'SAVE': 0.646, 'AAL': 0.423, 'ALK': 0.37}\n",
            " {'DAL': 10, 'UAL': 10, 'SAVE': 4, 'AAL': 10, 'ALK': 6}\n",
            " {'DAL': 70, 'UAL': 75, 'SAVE': 60, 'AAL': 70, 'ALK': 70}\n"
          ],
          "name": "stdout"
        }
      ]
    },
    {
      "cell_type": "markdown",
      "metadata": {
        "id": "uy0TkRkpma4r"
      },
      "source": [
        "# Finance (Traditional - Banks)\n",
        "\n",
        "- Wells Fargo (WF)\n",
        "- JPMorgan Chase (JPM)\n",
        "- Bank of America (BAC)\n",
        "- Citi (C)\n",
        "\n",
        "\n",
        "\n",
        "\n",
        "\n"
      ]
    },
    {
      "cell_type": "code",
      "metadata": {
        "id": "5JZ18vN5me-j"
      },
      "source": [
        "banks = ['WF', 'JPM', 'BAC', 'C']"
      ],
      "execution_count": 7,
      "outputs": []
    },
    {
      "cell_type": "code",
      "metadata": {
        "colab": {
          "base_uri": "https://localhost:8080/",
          "height": 589
        },
        "id": "khkOLzQm2SXG",
        "outputId": "6bdc436b-5daa-4b56-98e3-3f13d44ed2bc"
      },
      "source": [
        "visualize_returns(banks, sma, lma, start, end)"
      ],
      "execution_count": 8,
      "outputs": [
        {
          "output_type": "stream",
          "text": [
            "\r[*********************100%***********************]  1 of 1 completed\n",
            "Cummulative Strategy Returns for WF: -0.02\n",
            "[*********************100%***********************]  1 of 1 completed\n",
            "Cummulative Strategy Returns for JPM: -0.011\n",
            "[*********************100%***********************]  1 of 1 completed\n",
            "Cummulative Strategy Returns for BAC: 0.051\n",
            "[*********************100%***********************]  1 of 1 completed\n",
            "Cummulative Strategy Returns for C: 0.127\n"
          ],
          "name": "stdout"
        },
        {
          "output_type": "display_data",
          "data": {
            "image/png": "[encoded data removed]",
            "text/plain": [
              "<Figure size 1008x504 with 1 Axes>"
            ]
          },
          "metadata": {
            "tags": [],
            "needs_background": "light"
          }
        }
      ]
    },
    {
      "cell_type": "code",
      "metadata": {
        "colab": {
          "base_uri": "https://localhost:8080/"
        },
        "id": "T8_36TQxTcwY",
        "outputId": "a9879145-6a0b-435a-c8a5-3af5a01f715b"
      },
      "source": [
        "test_optimize(banks, start, end, sma_range, lma_range)"
      ],
      "execution_count": 9,
      "outputs": [
        {
          "output_type": "stream",
          "text": [
            "[*********************100%***********************]  1 of 1 completed\n",
            "Cummulative strategy returns for WF: 0.106\n",
            "[*********************100%***********************]  1 of 1 completed\n",
            "Cummulative strategy returns for JPM: 0.529\n",
            "[*********************100%***********************]  1 of 1 completed\n",
            "Cummulative strategy returns for BAC: 0.42\n",
            "[*********************100%***********************]  1 of 1 completed\n",
            "Cummulative strategy returns for C: 0.953\n",
            "Computations completed!\n",
            "The final values are as follows: \n",
            "{'WF': 0.106, 'JPM': 0.529, 'BAC': 0.42, 'C': 0.953}\n",
            " {'WF': 10, 'JPM': 6, 'BAC': 10, 'C': 4}\n",
            " {'WF': 75, 'JPM': 75, 'BAC': 70, 'C': 60}\n"
          ],
          "name": "stdout"
        }
      ]
    },
    {
      "cell_type": "markdown",
      "metadata": {
        "id": "YYWuDxSBmfzs"
      },
      "source": [
        "# Telecommunications (Wireless Carriers)\n",
        "- AT&T (T)\n",
        "- Verizon (VZ)\n",
        "- T-mobile (TMUS)"
      ]
    },
    {
      "cell_type": "code",
      "metadata": {
        "id": "BgLP525CooAk"
      },
      "source": [
        "telecoms = ['T', 'VZ', 'TMUS']"
      ],
      "execution_count": 10,
      "outputs": []
    },
    {
      "cell_type": "code",
      "metadata": {
        "colab": {
          "base_uri": "https://localhost:8080/",
          "height": 556
        },
        "id": "AFNOG4gXTQSh",
        "outputId": "732f2867-0750-4ba0-d7a4-57bab6e46083"
      },
      "source": [
        "visualize_returns(telecoms, sma, lma, start, end)"
      ],
      "execution_count": 11,
      "outputs": [
        {
          "output_type": "stream",
          "text": [
            "[*********************100%***********************]  1 of 1 completed\n",
            "Cummulative Strategy Returns for T: -0.237\n",
            "[*********************100%***********************]  1 of 1 completed\n",
            "Cummulative Strategy Returns for VZ: -0.661\n",
            "[*********************100%***********************]  1 of 1 completed\n",
            "Cummulative Strategy Returns for TMUS: -0.208\n"
          ],
          "name": "stdout"
        },
        {
          "output_type": "display_data",
          "data": {
            "image/png": "[encoded data removed]",
            "text/plain": [
              "<Figure size 1008x504 with 1 Axes>"
            ]
          },
          "metadata": {
            "tags": [],
            "needs_background": "light"
          }
        }
      ]
    },
    {
      "cell_type": "code",
      "metadata": {
        "colab": {
          "base_uri": "https://localhost:8080/"
        },
        "id": "n094CG_ynPaz",
        "outputId": "2753900c-813c-4b88-c69f-f303a23a7c2e"
      },
      "source": [
        "test_optimize(telecoms, start, end, sma_range, lma_range)"
      ],
      "execution_count": 12,
      "outputs": [
        {
          "output_type": "stream",
          "text": [
            "[*********************100%***********************]  1 of 1 completed\n",
            "Cummulative strategy returns for T: 0.012\n",
            "[*********************100%***********************]  1 of 1 completed\n",
            "Cummulative strategy returns for VZ: -0.024\n",
            "[*********************100%***********************]  1 of 1 completed\n",
            "Cummulative strategy returns for TMUS: 0.101\n",
            "Computations completed!\n",
            "The final values are as follows: \n",
            "{'T': 0.012, 'VZ': -0.024, 'TMUS': 0.101}\n",
            " {'T': 4, 'VZ': 10, 'TMUS': 8}\n",
            " {'T': 75, 'VZ': 75, 'TMUS': 75}\n"
          ],
          "name": "stdout"
        }
      ]
    },
    {
      "cell_type": "markdown",
      "metadata": {
        "id": "11ufzWnZooAV"
      },
      "source": [
        "# Travel (Auto)\n",
        "- Tesla (TSLA)\n",
        "- Ford (F)\n",
        "- BMW (BMWYY)\n",
        "- Toyota (TM)\n",
        "- Honda (HMC)\n",
        "- Nio (NIO)"
      ]
    },
    {
      "cell_type": "code",
      "metadata": {
        "id": "CObWgPATmkfZ"
      },
      "source": [
        "autos = ['TSLA', 'F', 'TM', 'HMC', 'NIO', 'BMWYY']"
      ],
      "execution_count": 13,
      "outputs": []
    },
    {
      "cell_type": "code",
      "metadata": {
        "colab": {
          "base_uri": "https://localhost:8080/",
          "height": 655
        },
        "id": "5Z-olIbdVJ6Y",
        "outputId": "be0557e1-8769-4a2b-8bbe-ad186bd61565"
      },
      "source": [
        "visualize_returns(autos, sma, lma, start, end)"
      ],
      "execution_count": 14,
      "outputs": [
        {
          "output_type": "stream",
          "text": [
            "\r[*********************100%***********************]  1 of 1 completed\n",
            "Cummulative Strategy Returns for TSLA: -0.519\n",
            "[*********************100%***********************]  1 of 1 completed\n",
            "Cummulative Strategy Returns for F: 0.19\n",
            "[*********************100%***********************]  1 of 1 completed\n",
            "Cummulative Strategy Returns for TM: -0.394\n",
            "[*********************100%***********************]  1 of 1 completed\n",
            "Cummulative Strategy Returns for HMC: -0.162\n",
            "[*********************100%***********************]  1 of 1 completed\n",
            "Cummulative Strategy Returns for NIO: 5.335\n",
            "[*********************100%***********************]  1 of 1 completed\n",
            "Cummulative Strategy Returns for BMWYY: -0.344\n"
          ],
          "name": "stdout"
        },
        {
          "output_type": "display_data",
          "data": {
            "image/png": "[encoded data removed]",
            "text/plain": [
              "<Figure size 1008x504 with 1 Axes>"
            ]
          },
          "metadata": {
            "tags": [],
            "needs_background": "light"
          }
        }
      ]
    },
    {
      "cell_type": "code",
      "metadata": {
        "colab": {
          "base_uri": "https://localhost:8080/",
          "height": 1000
        },
        "id": "iPqOO7L5nRrf",
        "outputId": "c627037f-8108-4337-e667-ceecac4c00f8"
      },
      "source": [
        "test_optimize(autos, start, end, sma_range, lma_range)"
      ],
      "execution_count": 23,
      "outputs": [
        {
          "output_type": "stream",
          "text": [
            "\r[*********************100%***********************]  1 of 1 completed\n",
            "SMA value: 2 and LMA value: 60\n",
            "SMA value: 2 and LMA value: 65\n",
            "SMA value: 2 and LMA value: 70\n",
            "SMA value: 2 and LMA value: 75\n",
            "SMA value: 4 and LMA value: 60\n",
            "SMA value: 4 and LMA value: 65\n",
            "SMA value: 4 and LMA value: 70\n",
            "SMA value: 4 and LMA value: 75\n",
            "SMA value: 6 and LMA value: 60\n",
            "SMA value: 6 and LMA value: 65\n",
            "SMA value: 6 and LMA value: 70\n",
            "SMA value: 6 and LMA value: 75\n",
            "SMA value: 8 and LMA value: 60\n",
            "SMA value: 8 and LMA value: 65\n",
            "SMA value: 8 and LMA value: 70\n",
            "SMA value: 8 and LMA value: 75\n",
            "SMA value: 10 and LMA value: 60\n",
            "SMA value: 10 and LMA value: 65\n",
            "SMA value: 10 and LMA value: 70\n",
            "SMA value: 10 and LMA value: 75\n",
            "Cummulative strategy returns for TSLA: 3.362\n",
            "[*********************100%***********************]  1 of 1 completed\n",
            "SMA value: 2 and LMA value: 60\n",
            "SMA value: 2 and LMA value: 65\n",
            "SMA value: 2 and LMA value: 70\n",
            "SMA value: 2 and LMA value: 75\n",
            "SMA value: 4 and LMA value: 60\n",
            "SMA value: 4 and LMA value: 65\n",
            "SMA value: 4 and LMA value: 70\n",
            "SMA value: 4 and LMA value: 75\n",
            "SMA value: 6 and LMA value: 60\n",
            "SMA value: 6 and LMA value: 65\n",
            "SMA value: 6 and LMA value: 70\n",
            "SMA value: 6 and LMA value: 75\n",
            "SMA value: 8 and LMA value: 60\n",
            "SMA value: 8 and LMA value: 65\n",
            "SMA value: 8 and LMA value: 70\n",
            "SMA value: 8 and LMA value: 75\n",
            "SMA value: 10 and LMA value: 60\n",
            "SMA value: 10 and LMA value: 65\n",
            "SMA value: 10 and LMA value: 70\n",
            "SMA value: 10 and LMA value: 75\n",
            "Cummulative strategy returns for F: 0.947\n",
            "[*********************100%***********************]  1 of 1 completed\n",
            "SMA value: 2 and LMA value: 60\n",
            "SMA value: 2 and LMA value: 65\n",
            "SMA value: 2 and LMA value: 70\n",
            "SMA value: 2 and LMA value: 75\n",
            "SMA value: 4 and LMA value: 60\n",
            "SMA value: 4 and LMA value: 65\n",
            "SMA value: 4 and LMA value: 70\n",
            "SMA value: 4 and LMA value: 75\n",
            "SMA value: 6 and LMA value: 60\n",
            "SMA value: 6 and LMA value: 65\n",
            "SMA value: 6 and LMA value: 70\n",
            "SMA value: 6 and LMA value: 75\n",
            "SMA value: 8 and LMA value: 60\n",
            "SMA value: 8 and LMA value: 65\n",
            "SMA value: 8 and LMA value: 70\n",
            "SMA value: 8 and LMA value: 75\n",
            "SMA value: 10 and LMA value: 60\n",
            "SMA value: 10 and LMA value: 65\n",
            "SMA value: 10 and LMA value: 70\n",
            "SMA value: 10 and LMA value: 75\n",
            "Cummulative strategy returns for TM: 0.025\n",
            "[*********************100%***********************]  1 of 1 completed\n",
            "SMA value: 2 and LMA value: 60\n",
            "SMA value: 2 and LMA value: 65\n",
            "SMA value: 2 and LMA value: 70\n",
            "SMA value: 2 and LMA value: 75\n",
            "SMA value: 4 and LMA value: 60\n",
            "SMA value: 4 and LMA value: 65\n",
            "SMA value: 4 and LMA value: 70\n",
            "SMA value: 4 and LMA value: 75\n",
            "SMA value: 6 and LMA value: 60\n",
            "SMA value: 6 and LMA value: 65\n",
            "SMA value: 6 and LMA value: 70\n",
            "SMA value: 6 and LMA value: 75\n",
            "SMA value: 8 and LMA value: 60\n",
            "SMA value: 8 and LMA value: 65\n",
            "SMA value: 8 and LMA value: 70\n",
            "SMA value: 8 and LMA value: 75\n",
            "SMA value: 10 and LMA value: 60\n",
            "SMA value: 10 and LMA value: 65\n",
            "SMA value: 10 and LMA value: 70\n",
            "SMA value: 10 and LMA value: 75\n",
            "Cummulative strategy returns for HMC: 0.01\n",
            "[*********************100%***********************]  1 of 1 completed\n",
            "SMA value: 2 and LMA value: 60\n",
            "SMA value: 2 and LMA value: 65\n",
            "SMA value: 2 and LMA value: 70\n",
            "SMA value: 2 and LMA value: 75\n",
            "SMA value: 4 and LMA value: 60\n",
            "SMA value: 4 and LMA value: 65\n",
            "SMA value: 4 and LMA value: 70\n",
            "SMA value: 4 and LMA value: 75\n",
            "SMA value: 6 and LMA value: 60\n",
            "SMA value: 6 and LMA value: 65\n",
            "SMA value: 6 and LMA value: 70\n"
          ],
          "name": "stdout"
        },
        {
          "output_type": "error",
          "ename": "IndexError",
          "evalue": "ignored",
          "traceback": [
            "\u001b[0;31m---------------------------------------------------------------------------\u001b[0m",
            "\u001b[0;31mIndexError\u001b[0m                                Traceback (most recent call last)",
            "\u001b[0;32m<ipython-input-23-c0305902bfce>\u001b[0m in \u001b[0;36m<module>\u001b[0;34m()\u001b[0m\n\u001b[0;32m----> 1\u001b[0;31m \u001b[0mtest_optimize\u001b[0m\u001b[0;34m(\u001b[0m\u001b[0mautos\u001b[0m\u001b[0;34m,\u001b[0m \u001b[0mstart\u001b[0m\u001b[0;34m,\u001b[0m \u001b[0mend\u001b[0m\u001b[0;34m,\u001b[0m \u001b[0msma_range\u001b[0m\u001b[0;34m,\u001b[0m \u001b[0mlma_range\u001b[0m\u001b[0;34m)\u001b[0m\u001b[0;34m\u001b[0m\u001b[0;34m\u001b[0m\u001b[0m\n\u001b[0m",
            "\u001b[0;32m<ipython-input-22-edfc7a433e26>\u001b[0m in \u001b[0;36mtest_optimize\u001b[0;34m(stock_list, start_string, end_string, sma_range, lma_range)\u001b[0m\n\u001b[1;32m     82\u001b[0m         \u001b[0mdata\u001b[0m \u001b[0;34m=\u001b[0m \u001b[0myf\u001b[0m\u001b[0;34m.\u001b[0m\u001b[0mdownload\u001b[0m\u001b[0;34m(\u001b[0m\u001b[0mstock\u001b[0m\u001b[0;34m,\u001b[0m \u001b[0mstart\u001b[0m \u001b[0;34m=\u001b[0m \u001b[0mstart_string\u001b[0m\u001b[0;34m,\u001b[0m \u001b[0mend\u001b[0m \u001b[0;34m=\u001b[0m \u001b[0mend_string\u001b[0m\u001b[0;34m)\u001b[0m\u001b[0;34m\u001b[0m\u001b[0;34m\u001b[0m\u001b[0m\n\u001b[1;32m     83\u001b[0m \u001b[0;34m\u001b[0m\u001b[0m\n\u001b[0;32m---> 84\u001b[0;31m         \u001b[0mnet_returns\u001b[0m\u001b[0;34m,\u001b[0m \u001b[0mb_sma\u001b[0m\u001b[0;34m,\u001b[0m \u001b[0mb_lma\u001b[0m \u001b[0;34m=\u001b[0m \u001b[0moptimize\u001b[0m\u001b[0;34m(\u001b[0m\u001b[0mdata\u001b[0m\u001b[0;34m,\u001b[0m \u001b[0msma_range\u001b[0m\u001b[0;34m,\u001b[0m \u001b[0mlma_range\u001b[0m\u001b[0;34m)\u001b[0m\u001b[0;34m\u001b[0m\u001b[0;34m\u001b[0m\u001b[0m\n\u001b[0m\u001b[1;32m     85\u001b[0m \u001b[0;34m\u001b[0m\u001b[0m\n\u001b[1;32m     86\u001b[0m         \u001b[0mprint\u001b[0m\u001b[0;34m(\u001b[0m\u001b[0;34mf'Cummulative strategy returns for {stock}:'\u001b[0m\u001b[0;34m,\u001b[0m \u001b[0mnet_returns\u001b[0m\u001b[0;34m)\u001b[0m\u001b[0;34m\u001b[0m\u001b[0;34m\u001b[0m\u001b[0m\n",
            "\u001b[0;32m<ipython-input-22-edfc7a433e26>\u001b[0m in \u001b[0;36moptimize\u001b[0;34m(data, sma_range, lma_range)\u001b[0m\n\u001b[1;32m     65\u001b[0m \u001b[0;34m\u001b[0m\u001b[0m\n\u001b[1;32m     66\u001b[0m         \u001b[0mprint\u001b[0m\u001b[0;34m(\u001b[0m\u001b[0;34mf'SMA value: {sma_val} and LMA value: {lma_val}'\u001b[0m\u001b[0;34m)\u001b[0m\u001b[0;34m\u001b[0m\u001b[0;34m\u001b[0m\u001b[0m\n\u001b[0;32m---> 67\u001b[0;31m         \u001b[0mreturns\u001b[0m \u001b[0;34m=\u001b[0m \u001b[0mbacktest_strategy\u001b[0m\u001b[0;34m(\u001b[0m\u001b[0mdata\u001b[0m\u001b[0;34m,\u001b[0m \u001b[0msma_val\u001b[0m\u001b[0;34m,\u001b[0m \u001b[0mlma_val\u001b[0m\u001b[0;34m)\u001b[0m\u001b[0;34m\u001b[0m\u001b[0;34m\u001b[0m\u001b[0m\n\u001b[0m\u001b[1;32m     68\u001b[0m \u001b[0;34m\u001b[0m\u001b[0m\n\u001b[1;32m     69\u001b[0m         \u001b[0;32mif\u001b[0m \u001b[0mreturns\u001b[0m \u001b[0;34m>\u001b[0m \u001b[0mbest_returns\u001b[0m\u001b[0;34m:\u001b[0m\u001b[0;34m\u001b[0m\u001b[0;34m\u001b[0m\u001b[0m\n",
            "\u001b[0;32m<ipython-input-22-edfc7a433e26>\u001b[0m in \u001b[0;36mbacktest_strategy\u001b[0;34m(data, sma, lma)\u001b[0m\n\u001b[1;32m     13\u001b[0m     \u001b[0mcum_s_returns\u001b[0m \u001b[0;34m=\u001b[0m \u001b[0;34m(\u001b[0m\u001b[0mdata\u001b[0m\u001b[0;34m[\u001b[0m\u001b[0;34m'strategic_returns'\u001b[0m\u001b[0;34m]\u001b[0m\u001b[0;34m+\u001b[0m \u001b[0;36m1\u001b[0m\u001b[0;34m)\u001b[0m\u001b[0;34m.\u001b[0m\u001b[0mcumprod\u001b[0m\u001b[0;34m(\u001b[0m\u001b[0;34m)\u001b[0m\u001b[0;34m\u001b[0m\u001b[0;34m\u001b[0m\u001b[0m\n\u001b[1;32m     14\u001b[0m \u001b[0;34m\u001b[0m\u001b[0m\n\u001b[0;32m---> 15\u001b[0;31m     \u001b[0;32mreturn\u001b[0m \u001b[0mround\u001b[0m\u001b[0;34m(\u001b[0m\u001b[0mcum_s_returns\u001b[0m\u001b[0;34m.\u001b[0m\u001b[0miloc\u001b[0m\u001b[0;34m[\u001b[0m\u001b[0;34m-\u001b[0m\u001b[0;36m1\u001b[0m\u001b[0;34m]\u001b[0m \u001b[0;34m-\u001b[0m\u001b[0;36m1\u001b[0m\u001b[0;34m,\u001b[0m \u001b[0;36m3\u001b[0m\u001b[0;34m)\u001b[0m\u001b[0;34m\u001b[0m\u001b[0;34m\u001b[0m\u001b[0m\n\u001b[0m\u001b[1;32m     16\u001b[0m \u001b[0;34m\u001b[0m\u001b[0m\n\u001b[1;32m     17\u001b[0m \u001b[0;32mdef\u001b[0m \u001b[0mcumm_returns\u001b[0m\u001b[0;34m(\u001b[0m\u001b[0mticker_list\u001b[0m\u001b[0;34m,\u001b[0m \u001b[0msma\u001b[0m\u001b[0;34m,\u001b[0m \u001b[0mlma\u001b[0m\u001b[0;34m,\u001b[0m \u001b[0mstart_string\u001b[0m\u001b[0;34m,\u001b[0m \u001b[0mend_string\u001b[0m\u001b[0;34m)\u001b[0m\u001b[0;34m:\u001b[0m\u001b[0;34m\u001b[0m\u001b[0;34m\u001b[0m\u001b[0m\n",
            "\u001b[0;32m/usr/local/lib/python3.7/dist-packages/pandas/core/indexing.py\u001b[0m in \u001b[0;36m__getitem__\u001b[0;34m(self, key)\u001b[0m\n\u001b[1;32m    877\u001b[0m \u001b[0;34m\u001b[0m\u001b[0m\n\u001b[1;32m    878\u001b[0m             \u001b[0mmaybe_callable\u001b[0m \u001b[0;34m=\u001b[0m \u001b[0mcom\u001b[0m\u001b[0;34m.\u001b[0m\u001b[0mapply_if_callable\u001b[0m\u001b[0;34m(\u001b[0m\u001b[0mkey\u001b[0m\u001b[0;34m,\u001b[0m \u001b[0mself\u001b[0m\u001b[0;34m.\u001b[0m\u001b[0mobj\u001b[0m\u001b[0;34m)\u001b[0m\u001b[0;34m\u001b[0m\u001b[0;34m\u001b[0m\u001b[0m\n\u001b[0;32m--> 879\u001b[0;31m             \u001b[0;32mreturn\u001b[0m \u001b[0mself\u001b[0m\u001b[0;34m.\u001b[0m\u001b[0m_getitem_axis\u001b[0m\u001b[0;34m(\u001b[0m\u001b[0mmaybe_callable\u001b[0m\u001b[0;34m,\u001b[0m \u001b[0maxis\u001b[0m\u001b[0;34m=\u001b[0m\u001b[0maxis\u001b[0m\u001b[0;34m)\u001b[0m\u001b[0;34m\u001b[0m\u001b[0;34m\u001b[0m\u001b[0m\n\u001b[0m\u001b[1;32m    880\u001b[0m \u001b[0;34m\u001b[0m\u001b[0m\n\u001b[1;32m    881\u001b[0m     \u001b[0;32mdef\u001b[0m \u001b[0m_is_scalar_access\u001b[0m\u001b[0;34m(\u001b[0m\u001b[0mself\u001b[0m\u001b[0;34m,\u001b[0m \u001b[0mkey\u001b[0m\u001b[0;34m:\u001b[0m \u001b[0mTuple\u001b[0m\u001b[0;34m)\u001b[0m\u001b[0;34m:\u001b[0m\u001b[0;34m\u001b[0m\u001b[0;34m\u001b[0m\u001b[0m\n",
            "\u001b[0;32m/usr/local/lib/python3.7/dist-packages/pandas/core/indexing.py\u001b[0m in \u001b[0;36m_getitem_axis\u001b[0;34m(self, key, axis)\u001b[0m\n\u001b[1;32m   1494\u001b[0m \u001b[0;34m\u001b[0m\u001b[0m\n\u001b[1;32m   1495\u001b[0m             \u001b[0;31m# validate the location\u001b[0m\u001b[0;34m\u001b[0m\u001b[0;34m\u001b[0m\u001b[0;34m\u001b[0m\u001b[0m\n\u001b[0;32m-> 1496\u001b[0;31m             \u001b[0mself\u001b[0m\u001b[0;34m.\u001b[0m\u001b[0m_validate_integer\u001b[0m\u001b[0;34m(\u001b[0m\u001b[0mkey\u001b[0m\u001b[0;34m,\u001b[0m \u001b[0maxis\u001b[0m\u001b[0;34m)\u001b[0m\u001b[0;34m\u001b[0m\u001b[0;34m\u001b[0m\u001b[0m\n\u001b[0m\u001b[1;32m   1497\u001b[0m \u001b[0;34m\u001b[0m\u001b[0m\n\u001b[1;32m   1498\u001b[0m             \u001b[0;32mreturn\u001b[0m \u001b[0mself\u001b[0m\u001b[0;34m.\u001b[0m\u001b[0mobj\u001b[0m\u001b[0;34m.\u001b[0m\u001b[0m_ixs\u001b[0m\u001b[0;34m(\u001b[0m\u001b[0mkey\u001b[0m\u001b[0;34m,\u001b[0m \u001b[0maxis\u001b[0m\u001b[0;34m=\u001b[0m\u001b[0maxis\u001b[0m\u001b[0;34m)\u001b[0m\u001b[0;34m\u001b[0m\u001b[0;34m\u001b[0m\u001b[0m\n",
            "\u001b[0;32m/usr/local/lib/python3.7/dist-packages/pandas/core/indexing.py\u001b[0m in \u001b[0;36m_validate_integer\u001b[0;34m(self, key, axis)\u001b[0m\n\u001b[1;32m   1435\u001b[0m         \u001b[0mlen_axis\u001b[0m \u001b[0;34m=\u001b[0m \u001b[0mlen\u001b[0m\u001b[0;34m(\u001b[0m\u001b[0mself\u001b[0m\u001b[0;34m.\u001b[0m\u001b[0mobj\u001b[0m\u001b[0;34m.\u001b[0m\u001b[0m_get_axis\u001b[0m\u001b[0;34m(\u001b[0m\u001b[0maxis\u001b[0m\u001b[0;34m)\u001b[0m\u001b[0;34m)\u001b[0m\u001b[0;34m\u001b[0m\u001b[0;34m\u001b[0m\u001b[0m\n\u001b[1;32m   1436\u001b[0m         \u001b[0;32mif\u001b[0m \u001b[0mkey\u001b[0m \u001b[0;34m>=\u001b[0m \u001b[0mlen_axis\u001b[0m \u001b[0;32mor\u001b[0m \u001b[0mkey\u001b[0m \u001b[0;34m<\u001b[0m \u001b[0;34m-\u001b[0m\u001b[0mlen_axis\u001b[0m\u001b[0;34m:\u001b[0m\u001b[0;34m\u001b[0m\u001b[0;34m\u001b[0m\u001b[0m\n\u001b[0;32m-> 1437\u001b[0;31m             \u001b[0;32mraise\u001b[0m \u001b[0mIndexError\u001b[0m\u001b[0;34m(\u001b[0m\u001b[0;34m\"single positional indexer is out-of-bounds\"\u001b[0m\u001b[0;34m)\u001b[0m\u001b[0;34m\u001b[0m\u001b[0;34m\u001b[0m\u001b[0m\n\u001b[0m\u001b[1;32m   1438\u001b[0m \u001b[0;34m\u001b[0m\u001b[0m\n\u001b[1;32m   1439\u001b[0m     \u001b[0;31m# -------------------------------------------------------------------\u001b[0m\u001b[0;34m\u001b[0m\u001b[0;34m\u001b[0m\u001b[0;34m\u001b[0m\u001b[0m\n",
            "\u001b[0;31mIndexError\u001b[0m: single positional indexer is out-of-bounds"
          ]
        }
      ]
    },
    {
      "cell_type": "code",
      "metadata": {
        "colab": {
          "base_uri": "https://localhost:8080/"
        },
        "id": "VSCkp_1SuHhP",
        "outputId": "14a20a9b-7607-4fee-9646-86af9d624878"
      },
      "source": [
        "data = yf.download('TSLA', start, end)\n",
        "# len(data)\n",
        "backtest_strategy(data, 6, 75)\n",
        "# start"
      ],
      "execution_count": 21,
      "outputs": [
        {
          "output_type": "stream",
          "text": [
            "\r[*********************100%***********************]  1 of 1 completed\n"
          ],
          "name": "stdout"
        },
        {
          "output_type": "execute_result",
          "data": {
            "text/plain": [
              "678"
            ]
          },
          "metadata": {
            "tags": []
          },
          "execution_count": 21
        }
      ]
    },
    {
      "cell_type": "markdown",
      "metadata": {
        "id": "hHyFGtkLV1SA"
      },
      "source": [
        "# HealthCare\n",
        "\n",
        "*   Hospital conglomerates\n",
        "\n",
        "*   Insurance companies\n",
        "\n",
        "*   Institutional services\n",
        "\n",
        "* Drug Manufacturers\n",
        "\n",
        "*   Medical instrument makers\n",
        "\n",
        "*   Biomedical companies\n",
        "\n",
        "**52.3% CAGR** with advent of AI"
      ]
    },
    {
      "cell_type": "markdown",
      "metadata": {
        "id": "kWV59-2Yb5Ue"
      },
      "source": [
        ""
      ]
    },
    {
      "cell_type": "code",
      "metadata": {
        "id": "eju-I9L4VXrK"
      },
      "source": [
        "healthcare = ['SNSE', 'PDSB', 'LFMD', 'PROG', 'GTH', 'DBTX', 'IMMP', 'PRPO', 'IMAB']"
      ],
      "execution_count": 24,
      "outputs": []
    },
    {
      "cell_type": "code",
      "metadata": {
        "colab": {
          "base_uri": "https://localhost:8080/",
          "height": 754
        },
        "id": "4j1B_VLfV0oW",
        "outputId": "3a5183e8-2a36-447e-ba53-1cc6a21ee6f3"
      },
      "source": [
        "visualize_returns(healthcare, sma, lma, start, end)"
      ],
      "execution_count": 25,
      "outputs": [
        {
          "output_type": "stream",
          "text": [
            "[*********************100%***********************]  1 of 1 completed\n",
            "Cummulative Strategy Returns for SNSE: -0.106\n",
            "[*********************100%***********************]  1 of 1 completed\n",
            "Cummulative Strategy Returns for PDSB: -0.968\n",
            "[*********************100%***********************]  1 of 1 completed\n",
            "Cummulative Strategy Returns for LFMD: -0.999\n",
            "[*********************100%***********************]  1 of 1 completed\n",
            "Cummulative Strategy Returns for PROG: 0.175\n",
            "[*********************100%***********************]  1 of 1 completed\n",
            "Cummulative Strategy Returns for GTH: 0.093\n",
            "[*********************100%***********************]  1 of 1 completed\n",
            "Cummulative Strategy Returns for DBTX: -0.19\n",
            "[*********************100%***********************]  1 of 1 completed\n",
            "Cummulative Strategy Returns for IMMP: -0.6\n",
            "[*********************100%***********************]  1 of 1 completed\n",
            "Cummulative Strategy Returns for PRPO: -1.111\n",
            "[*********************100%***********************]  1 of 1 completed\n",
            "Cummulative Strategy Returns for IMAB: 1.173\n"
          ],
          "name": "stdout"
        },
        {
          "output_type": "display_data",
          "data": {
            "image/png": "[encoded data removed]",
            "text/plain": [
              "<Figure size 1008x504 with 1 Axes>"
            ]
          },
          "metadata": {
            "tags": [],
            "needs_background": "light"
          }
        }
      ]
    },
    {
      "cell_type": "code",
      "metadata": {
        "colab": {
          "base_uri": "https://localhost:8080/",
          "height": 351
        },
        "id": "uLUyDauknT7-",
        "outputId": "54214777-a0f8-410c-9927-eb7eba1971e5"
      },
      "source": [
        "test_optimize(healthcare, start, end, sma_range, lma_range)"
      ],
      "execution_count": 26,
      "outputs": [
        {
          "output_type": "stream",
          "text": [
            "\r[*********************100%***********************]  1 of 1 completed\n",
            "SMA value: 2 and LMA value: 60\n",
            "SMA value: 2 and LMA value: 65\n"
          ],
          "name": "stdout"
        },
        {
          "output_type": "error",
          "ename": "IndexError",
          "evalue": "ignored",
          "traceback": [
            "\u001b[0;31m---------------------------------------------------------------------------\u001b[0m",
            "\u001b[0;31mIndexError\u001b[0m                                Traceback (most recent call last)",
            "\u001b[0;32m<ipython-input-26-c81d62b20c8d>\u001b[0m in \u001b[0;36m<module>\u001b[0;34m()\u001b[0m\n\u001b[0;32m----> 1\u001b[0;31m \u001b[0mtest_optimize\u001b[0m\u001b[0;34m(\u001b[0m\u001b[0mhealthcare\u001b[0m\u001b[0;34m,\u001b[0m \u001b[0mstart\u001b[0m\u001b[0;34m,\u001b[0m \u001b[0mend\u001b[0m\u001b[0;34m,\u001b[0m \u001b[0msma_range\u001b[0m\u001b[0;34m,\u001b[0m \u001b[0mlma_range\u001b[0m\u001b[0;34m)\u001b[0m\u001b[0;34m\u001b[0m\u001b[0;34m\u001b[0m\u001b[0m\n\u001b[0m",
            "\u001b[0;32m<ipython-input-22-edfc7a433e26>\u001b[0m in \u001b[0;36mtest_optimize\u001b[0;34m(stock_list, start_string, end_string, sma_range, lma_range)\u001b[0m\n\u001b[1;32m     82\u001b[0m         \u001b[0mdata\u001b[0m \u001b[0;34m=\u001b[0m \u001b[0myf\u001b[0m\u001b[0;34m.\u001b[0m\u001b[0mdownload\u001b[0m\u001b[0;34m(\u001b[0m\u001b[0mstock\u001b[0m\u001b[0;34m,\u001b[0m \u001b[0mstart\u001b[0m \u001b[0;34m=\u001b[0m \u001b[0mstart_string\u001b[0m\u001b[0;34m,\u001b[0m \u001b[0mend\u001b[0m \u001b[0;34m=\u001b[0m \u001b[0mend_string\u001b[0m\u001b[0;34m)\u001b[0m\u001b[0;34m\u001b[0m\u001b[0;34m\u001b[0m\u001b[0m\n\u001b[1;32m     83\u001b[0m \u001b[0;34m\u001b[0m\u001b[0m\n\u001b[0;32m---> 84\u001b[0;31m         \u001b[0mnet_returns\u001b[0m\u001b[0;34m,\u001b[0m \u001b[0mb_sma\u001b[0m\u001b[0;34m,\u001b[0m \u001b[0mb_lma\u001b[0m \u001b[0;34m=\u001b[0m \u001b[0moptimize\u001b[0m\u001b[0;34m(\u001b[0m\u001b[0mdata\u001b[0m\u001b[0;34m,\u001b[0m \u001b[0msma_range\u001b[0m\u001b[0;34m,\u001b[0m \u001b[0mlma_range\u001b[0m\u001b[0;34m)\u001b[0m\u001b[0;34m\u001b[0m\u001b[0;34m\u001b[0m\u001b[0m\n\u001b[0m\u001b[1;32m     85\u001b[0m \u001b[0;34m\u001b[0m\u001b[0m\n\u001b[1;32m     86\u001b[0m         \u001b[0mprint\u001b[0m\u001b[0;34m(\u001b[0m\u001b[0;34mf'Cummulative strategy returns for {stock}:'\u001b[0m\u001b[0;34m,\u001b[0m \u001b[0mnet_returns\u001b[0m\u001b[0;34m)\u001b[0m\u001b[0;34m\u001b[0m\u001b[0;34m\u001b[0m\u001b[0m\n",
            "\u001b[0;32m<ipython-input-22-edfc7a433e26>\u001b[0m in \u001b[0;36moptimize\u001b[0;34m(data, sma_range, lma_range)\u001b[0m\n\u001b[1;32m     65\u001b[0m \u001b[0;34m\u001b[0m\u001b[0m\n\u001b[1;32m     66\u001b[0m         \u001b[0mprint\u001b[0m\u001b[0;34m(\u001b[0m\u001b[0;34mf'SMA value: {sma_val} and LMA value: {lma_val}'\u001b[0m\u001b[0;34m)\u001b[0m\u001b[0;34m\u001b[0m\u001b[0;34m\u001b[0m\u001b[0m\n\u001b[0;32m---> 67\u001b[0;31m         \u001b[0mreturns\u001b[0m \u001b[0;34m=\u001b[0m \u001b[0mbacktest_strategy\u001b[0m\u001b[0;34m(\u001b[0m\u001b[0mdata\u001b[0m\u001b[0;34m,\u001b[0m \u001b[0msma_val\u001b[0m\u001b[0;34m,\u001b[0m \u001b[0mlma_val\u001b[0m\u001b[0;34m)\u001b[0m\u001b[0;34m\u001b[0m\u001b[0;34m\u001b[0m\u001b[0m\n\u001b[0m\u001b[1;32m     68\u001b[0m \u001b[0;34m\u001b[0m\u001b[0m\n\u001b[1;32m     69\u001b[0m         \u001b[0;32mif\u001b[0m \u001b[0mreturns\u001b[0m \u001b[0;34m>\u001b[0m \u001b[0mbest_returns\u001b[0m\u001b[0;34m:\u001b[0m\u001b[0;34m\u001b[0m\u001b[0;34m\u001b[0m\u001b[0m\n",
            "\u001b[0;32m<ipython-input-22-edfc7a433e26>\u001b[0m in \u001b[0;36mbacktest_strategy\u001b[0;34m(data, sma, lma)\u001b[0m\n\u001b[1;32m     13\u001b[0m     \u001b[0mcum_s_returns\u001b[0m \u001b[0;34m=\u001b[0m \u001b[0;34m(\u001b[0m\u001b[0mdata\u001b[0m\u001b[0;34m[\u001b[0m\u001b[0;34m'strategic_returns'\u001b[0m\u001b[0;34m]\u001b[0m\u001b[0;34m+\u001b[0m \u001b[0;36m1\u001b[0m\u001b[0;34m)\u001b[0m\u001b[0;34m.\u001b[0m\u001b[0mcumprod\u001b[0m\u001b[0;34m(\u001b[0m\u001b[0;34m)\u001b[0m\u001b[0;34m\u001b[0m\u001b[0;34m\u001b[0m\u001b[0m\n\u001b[1;32m     14\u001b[0m \u001b[0;34m\u001b[0m\u001b[0m\n\u001b[0;32m---> 15\u001b[0;31m     \u001b[0;32mreturn\u001b[0m \u001b[0mround\u001b[0m\u001b[0;34m(\u001b[0m\u001b[0mcum_s_returns\u001b[0m\u001b[0;34m.\u001b[0m\u001b[0miloc\u001b[0m\u001b[0;34m[\u001b[0m\u001b[0;34m-\u001b[0m\u001b[0;36m1\u001b[0m\u001b[0;34m]\u001b[0m \u001b[0;34m-\u001b[0m\u001b[0;36m1\u001b[0m\u001b[0;34m,\u001b[0m \u001b[0;36m3\u001b[0m\u001b[0;34m)\u001b[0m\u001b[0;34m\u001b[0m\u001b[0;34m\u001b[0m\u001b[0m\n\u001b[0m\u001b[1;32m     16\u001b[0m \u001b[0;34m\u001b[0m\u001b[0m\n\u001b[1;32m     17\u001b[0m \u001b[0;32mdef\u001b[0m \u001b[0mcumm_returns\u001b[0m\u001b[0;34m(\u001b[0m\u001b[0mticker_list\u001b[0m\u001b[0;34m,\u001b[0m \u001b[0msma\u001b[0m\u001b[0;34m,\u001b[0m \u001b[0mlma\u001b[0m\u001b[0;34m,\u001b[0m \u001b[0mstart_string\u001b[0m\u001b[0;34m,\u001b[0m \u001b[0mend_string\u001b[0m\u001b[0;34m)\u001b[0m\u001b[0;34m:\u001b[0m\u001b[0;34m\u001b[0m\u001b[0;34m\u001b[0m\u001b[0m\n",
            "\u001b[0;32m/usr/local/lib/python3.7/dist-packages/pandas/core/indexing.py\u001b[0m in \u001b[0;36m__getitem__\u001b[0;34m(self, key)\u001b[0m\n\u001b[1;32m    877\u001b[0m \u001b[0;34m\u001b[0m\u001b[0m\n\u001b[1;32m    878\u001b[0m             \u001b[0mmaybe_callable\u001b[0m \u001b[0;34m=\u001b[0m \u001b[0mcom\u001b[0m\u001b[0;34m.\u001b[0m\u001b[0mapply_if_callable\u001b[0m\u001b[0;34m(\u001b[0m\u001b[0mkey\u001b[0m\u001b[0;34m,\u001b[0m \u001b[0mself\u001b[0m\u001b[0;34m.\u001b[0m\u001b[0mobj\u001b[0m\u001b[0;34m)\u001b[0m\u001b[0;34m\u001b[0m\u001b[0;34m\u001b[0m\u001b[0m\n\u001b[0;32m--> 879\u001b[0;31m             \u001b[0;32mreturn\u001b[0m \u001b[0mself\u001b[0m\u001b[0;34m.\u001b[0m\u001b[0m_getitem_axis\u001b[0m\u001b[0;34m(\u001b[0m\u001b[0mmaybe_callable\u001b[0m\u001b[0;34m,\u001b[0m \u001b[0maxis\u001b[0m\u001b[0;34m=\u001b[0m\u001b[0maxis\u001b[0m\u001b[0;34m)\u001b[0m\u001b[0;34m\u001b[0m\u001b[0;34m\u001b[0m\u001b[0m\n\u001b[0m\u001b[1;32m    880\u001b[0m \u001b[0;34m\u001b[0m\u001b[0m\n\u001b[1;32m    881\u001b[0m     \u001b[0;32mdef\u001b[0m \u001b[0m_is_scalar_access\u001b[0m\u001b[0;34m(\u001b[0m\u001b[0mself\u001b[0m\u001b[0;34m,\u001b[0m \u001b[0mkey\u001b[0m\u001b[0;34m:\u001b[0m \u001b[0mTuple\u001b[0m\u001b[0;34m)\u001b[0m\u001b[0;34m:\u001b[0m\u001b[0;34m\u001b[0m\u001b[0;34m\u001b[0m\u001b[0m\n",
            "\u001b[0;32m/usr/local/lib/python3.7/dist-packages/pandas/core/indexing.py\u001b[0m in \u001b[0;36m_getitem_axis\u001b[0;34m(self, key, axis)\u001b[0m\n\u001b[1;32m   1494\u001b[0m \u001b[0;34m\u001b[0m\u001b[0m\n\u001b[1;32m   1495\u001b[0m             \u001b[0;31m# validate the location\u001b[0m\u001b[0;34m\u001b[0m\u001b[0;34m\u001b[0m\u001b[0;34m\u001b[0m\u001b[0m\n\u001b[0;32m-> 1496\u001b[0;31m             \u001b[0mself\u001b[0m\u001b[0;34m.\u001b[0m\u001b[0m_validate_integer\u001b[0m\u001b[0;34m(\u001b[0m\u001b[0mkey\u001b[0m\u001b[0;34m,\u001b[0m \u001b[0maxis\u001b[0m\u001b[0;34m)\u001b[0m\u001b[0;34m\u001b[0m\u001b[0;34m\u001b[0m\u001b[0m\n\u001b[0m\u001b[1;32m   1497\u001b[0m \u001b[0;34m\u001b[0m\u001b[0m\n\u001b[1;32m   1498\u001b[0m             \u001b[0;32mreturn\u001b[0m \u001b[0mself\u001b[0m\u001b[0;34m.\u001b[0m\u001b[0mobj\u001b[0m\u001b[0;34m.\u001b[0m\u001b[0m_ixs\u001b[0m\u001b[0;34m(\u001b[0m\u001b[0mkey\u001b[0m\u001b[0;34m,\u001b[0m \u001b[0maxis\u001b[0m\u001b[0;34m=\u001b[0m\u001b[0maxis\u001b[0m\u001b[0;34m)\u001b[0m\u001b[0;34m\u001b[0m\u001b[0;34m\u001b[0m\u001b[0m\n",
            "\u001b[0;32m/usr/local/lib/python3.7/dist-packages/pandas/core/indexing.py\u001b[0m in \u001b[0;36m_validate_integer\u001b[0;34m(self, key, axis)\u001b[0m\n\u001b[1;32m   1435\u001b[0m         \u001b[0mlen_axis\u001b[0m \u001b[0;34m=\u001b[0m \u001b[0mlen\u001b[0m\u001b[0;34m(\u001b[0m\u001b[0mself\u001b[0m\u001b[0;34m.\u001b[0m\u001b[0mobj\u001b[0m\u001b[0;34m.\u001b[0m\u001b[0m_get_axis\u001b[0m\u001b[0;34m(\u001b[0m\u001b[0maxis\u001b[0m\u001b[0;34m)\u001b[0m\u001b[0;34m)\u001b[0m\u001b[0;34m\u001b[0m\u001b[0;34m\u001b[0m\u001b[0m\n\u001b[1;32m   1436\u001b[0m         \u001b[0;32mif\u001b[0m \u001b[0mkey\u001b[0m \u001b[0;34m>=\u001b[0m \u001b[0mlen_axis\u001b[0m \u001b[0;32mor\u001b[0m \u001b[0mkey\u001b[0m \u001b[0;34m<\u001b[0m \u001b[0;34m-\u001b[0m\u001b[0mlen_axis\u001b[0m\u001b[0;34m:\u001b[0m\u001b[0;34m\u001b[0m\u001b[0;34m\u001b[0m\u001b[0m\n\u001b[0;32m-> 1437\u001b[0;31m             \u001b[0;32mraise\u001b[0m \u001b[0mIndexError\u001b[0m\u001b[0;34m(\u001b[0m\u001b[0;34m\"single positional indexer is out-of-bounds\"\u001b[0m\u001b[0;34m)\u001b[0m\u001b[0;34m\u001b[0m\u001b[0;34m\u001b[0m\u001b[0m\n\u001b[0m\u001b[1;32m   1438\u001b[0m \u001b[0;34m\u001b[0m\u001b[0m\n\u001b[1;32m   1439\u001b[0m     \u001b[0;31m# -------------------------------------------------------------------\u001b[0m\u001b[0;34m\u001b[0m\u001b[0;34m\u001b[0m\u001b[0;34m\u001b[0m\u001b[0m\n",
            "\u001b[0;31mIndexError\u001b[0m: single positional indexer is out-of-bounds"
          ]
        }
      ]
    },
    {
      "cell_type": "markdown",
      "metadata": {
        "id": "wx3D3C_JWsD5"
      },
      "source": [
        "# Computer and Tech (IT)\n",
        "\n",
        "*   Product Manufacturers\n",
        "*   Service Providers\n",
        "\n",
        "**22% CAGR potential**\n"
      ]
    },
    {
      "cell_type": "code",
      "metadata": {
        "id": "6Fc7tGhlWxVd"
      },
      "source": [
        "it = ['INTZ', 'LSPD', 'TLS', 'AUUD', 'CPSH', 'TAIT', 'AMPG', 'QRVO']"
      ],
      "execution_count": 27,
      "outputs": []
    },
    {
      "cell_type": "code",
      "metadata": {
        "colab": {
          "base_uri": "https://localhost:8080/",
          "height": 721
        },
        "id": "F52krVZCdnqT",
        "outputId": "4ea087a2-5f4d-4685-92b9-7292e6745258"
      },
      "source": [
        "visualize_returns(it, sma, lma, start, end)"
      ],
      "execution_count": 28,
      "outputs": [
        {
          "output_type": "stream",
          "text": [
            "[*********************100%***********************]  1 of 1 completed\n",
            "Cummulative Strategy Returns for INTZ: -0.999\n",
            "[*********************100%***********************]  1 of 1 completed\n",
            "Cummulative Strategy Returns for LSPD: -0.328\n",
            "[*********************100%***********************]  1 of 1 completed\n",
            "Cummulative Strategy Returns for TLS: -0.172\n",
            "[*********************100%***********************]  1 of 1 completed\n",
            "Cummulative Strategy Returns for AUUD: 0.021\n",
            "[*********************100%***********************]  1 of 1 completed\n",
            "Cummulative Strategy Returns for CPSH: -0.972\n",
            "[*********************100%***********************]  1 of 1 completed\n",
            "Cummulative Strategy Returns for TAIT: 0.176\n",
            "[*********************100%***********************]  1 of 1 completed\n",
            "Cummulative Strategy Returns for AMPG: 1.058\n",
            "[*********************100%***********************]  1 of 1 completed\n",
            "Cummulative Strategy Returns for QRVO: -0.146\n"
          ],
          "name": "stdout"
        },
        {
          "output_type": "display_data",
          "data": {
            "image/png": "[encoded data removed]",
            "text/plain": [
              "<Figure size 1008x504 with 1 Axes>"
            ]
          },
          "metadata": {
            "tags": [],
            "needs_background": "light"
          }
        }
      ]
    },
    {
      "cell_type": "code",
      "metadata": {
        "colab": {
          "base_uri": "https://localhost:8080/",
          "height": 730
        },
        "id": "S3hMRxirnWA-",
        "outputId": "24c5ce36-41bb-4264-b37b-f43241bae9e6"
      },
      "source": [
        "test_optimize(it, start, end, sma_range, lma_range)"
      ],
      "execution_count": 29,
      "outputs": [
        {
          "output_type": "stream",
          "text": [
            "[*********************100%***********************]  1 of 1 completed\n",
            "SMA value: 2 and LMA value: 60\n",
            "SMA value: 2 and LMA value: 65\n",
            "SMA value: 2 and LMA value: 70\n",
            "SMA value: 2 and LMA value: 75\n",
            "SMA value: 4 and LMA value: 60\n",
            "SMA value: 4 and LMA value: 65\n",
            "SMA value: 4 and LMA value: 70\n",
            "SMA value: 4 and LMA value: 75\n",
            "SMA value: 6 and LMA value: 60\n",
            "SMA value: 6 and LMA value: 65\n",
            "SMA value: 6 and LMA value: 70\n",
            "SMA value: 6 and LMA value: 75\n",
            "SMA value: 8 and LMA value: 60\n",
            "SMA value: 8 and LMA value: 65\n",
            "SMA value: 8 and LMA value: 70\n",
            "SMA value: 8 and LMA value: 75\n",
            "SMA value: 10 and LMA value: 60\n",
            "SMA value: 10 and LMA value: 65\n",
            "SMA value: 10 and LMA value: 70\n",
            "SMA value: 10 and LMA value: 75\n",
            "Cummulative strategy returns for INTZ: 2.634\n",
            "[*********************100%***********************]  1 of 1 completed\n",
            "SMA value: 2 and LMA value: 60\n",
            "SMA value: 2 and LMA value: 65\n",
            "SMA value: 2 and LMA value: 70\n"
          ],
          "name": "stdout"
        },
        {
          "output_type": "error",
          "ename": "IndexError",
          "evalue": "ignored",
          "traceback": [
            "\u001b[0;31m---------------------------------------------------------------------------\u001b[0m",
            "\u001b[0;31mIndexError\u001b[0m                                Traceback (most recent call last)",
            "\u001b[0;32m<ipython-input-29-21fc2b25b23d>\u001b[0m in \u001b[0;36m<module>\u001b[0;34m()\u001b[0m\n\u001b[0;32m----> 1\u001b[0;31m \u001b[0mtest_optimize\u001b[0m\u001b[0;34m(\u001b[0m\u001b[0mit\u001b[0m\u001b[0;34m,\u001b[0m \u001b[0mstart\u001b[0m\u001b[0;34m,\u001b[0m \u001b[0mend\u001b[0m\u001b[0;34m,\u001b[0m \u001b[0msma_range\u001b[0m\u001b[0;34m,\u001b[0m \u001b[0mlma_range\u001b[0m\u001b[0;34m)\u001b[0m\u001b[0;34m\u001b[0m\u001b[0;34m\u001b[0m\u001b[0m\n\u001b[0m",
            "\u001b[0;32m<ipython-input-22-edfc7a433e26>\u001b[0m in \u001b[0;36mtest_optimize\u001b[0;34m(stock_list, start_string, end_string, sma_range, lma_range)\u001b[0m\n\u001b[1;32m     82\u001b[0m         \u001b[0mdata\u001b[0m \u001b[0;34m=\u001b[0m \u001b[0myf\u001b[0m\u001b[0;34m.\u001b[0m\u001b[0mdownload\u001b[0m\u001b[0;34m(\u001b[0m\u001b[0mstock\u001b[0m\u001b[0;34m,\u001b[0m \u001b[0mstart\u001b[0m \u001b[0;34m=\u001b[0m \u001b[0mstart_string\u001b[0m\u001b[0;34m,\u001b[0m \u001b[0mend\u001b[0m \u001b[0;34m=\u001b[0m \u001b[0mend_string\u001b[0m\u001b[0;34m)\u001b[0m\u001b[0;34m\u001b[0m\u001b[0;34m\u001b[0m\u001b[0m\n\u001b[1;32m     83\u001b[0m \u001b[0;34m\u001b[0m\u001b[0m\n\u001b[0;32m---> 84\u001b[0;31m         \u001b[0mnet_returns\u001b[0m\u001b[0;34m,\u001b[0m \u001b[0mb_sma\u001b[0m\u001b[0;34m,\u001b[0m \u001b[0mb_lma\u001b[0m \u001b[0;34m=\u001b[0m \u001b[0moptimize\u001b[0m\u001b[0;34m(\u001b[0m\u001b[0mdata\u001b[0m\u001b[0;34m,\u001b[0m \u001b[0msma_range\u001b[0m\u001b[0;34m,\u001b[0m \u001b[0mlma_range\u001b[0m\u001b[0;34m)\u001b[0m\u001b[0;34m\u001b[0m\u001b[0;34m\u001b[0m\u001b[0m\n\u001b[0m\u001b[1;32m     85\u001b[0m \u001b[0;34m\u001b[0m\u001b[0m\n\u001b[1;32m     86\u001b[0m         \u001b[0mprint\u001b[0m\u001b[0;34m(\u001b[0m\u001b[0;34mf'Cummulative strategy returns for {stock}:'\u001b[0m\u001b[0;34m,\u001b[0m \u001b[0mnet_returns\u001b[0m\u001b[0;34m)\u001b[0m\u001b[0;34m\u001b[0m\u001b[0;34m\u001b[0m\u001b[0m\n",
            "\u001b[0;32m<ipython-input-22-edfc7a433e26>\u001b[0m in \u001b[0;36moptimize\u001b[0;34m(data, sma_range, lma_range)\u001b[0m\n\u001b[1;32m     65\u001b[0m \u001b[0;34m\u001b[0m\u001b[0m\n\u001b[1;32m     66\u001b[0m         \u001b[0mprint\u001b[0m\u001b[0;34m(\u001b[0m\u001b[0;34mf'SMA value: {sma_val} and LMA value: {lma_val}'\u001b[0m\u001b[0;34m)\u001b[0m\u001b[0;34m\u001b[0m\u001b[0;34m\u001b[0m\u001b[0m\n\u001b[0;32m---> 67\u001b[0;31m         \u001b[0mreturns\u001b[0m \u001b[0;34m=\u001b[0m \u001b[0mbacktest_strategy\u001b[0m\u001b[0;34m(\u001b[0m\u001b[0mdata\u001b[0m\u001b[0;34m,\u001b[0m \u001b[0msma_val\u001b[0m\u001b[0;34m,\u001b[0m \u001b[0mlma_val\u001b[0m\u001b[0;34m)\u001b[0m\u001b[0;34m\u001b[0m\u001b[0;34m\u001b[0m\u001b[0m\n\u001b[0m\u001b[1;32m     68\u001b[0m \u001b[0;34m\u001b[0m\u001b[0m\n\u001b[1;32m     69\u001b[0m         \u001b[0;32mif\u001b[0m \u001b[0mreturns\u001b[0m \u001b[0;34m>\u001b[0m \u001b[0mbest_returns\u001b[0m\u001b[0;34m:\u001b[0m\u001b[0;34m\u001b[0m\u001b[0;34m\u001b[0m\u001b[0m\n",
            "\u001b[0;32m<ipython-input-22-edfc7a433e26>\u001b[0m in \u001b[0;36mbacktest_strategy\u001b[0;34m(data, sma, lma)\u001b[0m\n\u001b[1;32m     13\u001b[0m     \u001b[0mcum_s_returns\u001b[0m \u001b[0;34m=\u001b[0m \u001b[0;34m(\u001b[0m\u001b[0mdata\u001b[0m\u001b[0;34m[\u001b[0m\u001b[0;34m'strategic_returns'\u001b[0m\u001b[0;34m]\u001b[0m\u001b[0;34m+\u001b[0m \u001b[0;36m1\u001b[0m\u001b[0;34m)\u001b[0m\u001b[0;34m.\u001b[0m\u001b[0mcumprod\u001b[0m\u001b[0;34m(\u001b[0m\u001b[0;34m)\u001b[0m\u001b[0;34m\u001b[0m\u001b[0;34m\u001b[0m\u001b[0m\n\u001b[1;32m     14\u001b[0m \u001b[0;34m\u001b[0m\u001b[0m\n\u001b[0;32m---> 15\u001b[0;31m     \u001b[0;32mreturn\u001b[0m \u001b[0mround\u001b[0m\u001b[0;34m(\u001b[0m\u001b[0mcum_s_returns\u001b[0m\u001b[0;34m.\u001b[0m\u001b[0miloc\u001b[0m\u001b[0;34m[\u001b[0m\u001b[0;34m-\u001b[0m\u001b[0;36m1\u001b[0m\u001b[0;34m]\u001b[0m \u001b[0;34m-\u001b[0m\u001b[0;36m1\u001b[0m\u001b[0;34m,\u001b[0m \u001b[0;36m3\u001b[0m\u001b[0;34m)\u001b[0m\u001b[0;34m\u001b[0m\u001b[0;34m\u001b[0m\u001b[0m\n\u001b[0m\u001b[1;32m     16\u001b[0m \u001b[0;34m\u001b[0m\u001b[0m\n\u001b[1;32m     17\u001b[0m \u001b[0;32mdef\u001b[0m \u001b[0mcumm_returns\u001b[0m\u001b[0;34m(\u001b[0m\u001b[0mticker_list\u001b[0m\u001b[0;34m,\u001b[0m \u001b[0msma\u001b[0m\u001b[0;34m,\u001b[0m \u001b[0mlma\u001b[0m\u001b[0;34m,\u001b[0m \u001b[0mstart_string\u001b[0m\u001b[0;34m,\u001b[0m \u001b[0mend_string\u001b[0m\u001b[0;34m)\u001b[0m\u001b[0;34m:\u001b[0m\u001b[0;34m\u001b[0m\u001b[0;34m\u001b[0m\u001b[0m\n",
            "\u001b[0;32m/usr/local/lib/python3.7/dist-packages/pandas/core/indexing.py\u001b[0m in \u001b[0;36m__getitem__\u001b[0;34m(self, key)\u001b[0m\n\u001b[1;32m    877\u001b[0m \u001b[0;34m\u001b[0m\u001b[0m\n\u001b[1;32m    878\u001b[0m             \u001b[0mmaybe_callable\u001b[0m \u001b[0;34m=\u001b[0m \u001b[0mcom\u001b[0m\u001b[0;34m.\u001b[0m\u001b[0mapply_if_callable\u001b[0m\u001b[0;34m(\u001b[0m\u001b[0mkey\u001b[0m\u001b[0;34m,\u001b[0m \u001b[0mself\u001b[0m\u001b[0;34m.\u001b[0m\u001b[0mobj\u001b[0m\u001b[0;34m)\u001b[0m\u001b[0;34m\u001b[0m\u001b[0;34m\u001b[0m\u001b[0m\n\u001b[0;32m--> 879\u001b[0;31m             \u001b[0;32mreturn\u001b[0m \u001b[0mself\u001b[0m\u001b[0;34m.\u001b[0m\u001b[0m_getitem_axis\u001b[0m\u001b[0;34m(\u001b[0m\u001b[0mmaybe_callable\u001b[0m\u001b[0;34m,\u001b[0m \u001b[0maxis\u001b[0m\u001b[0;34m=\u001b[0m\u001b[0maxis\u001b[0m\u001b[0;34m)\u001b[0m\u001b[0;34m\u001b[0m\u001b[0;34m\u001b[0m\u001b[0m\n\u001b[0m\u001b[1;32m    880\u001b[0m \u001b[0;34m\u001b[0m\u001b[0m\n\u001b[1;32m    881\u001b[0m     \u001b[0;32mdef\u001b[0m \u001b[0m_is_scalar_access\u001b[0m\u001b[0;34m(\u001b[0m\u001b[0mself\u001b[0m\u001b[0;34m,\u001b[0m \u001b[0mkey\u001b[0m\u001b[0;34m:\u001b[0m \u001b[0mTuple\u001b[0m\u001b[0;34m)\u001b[0m\u001b[0;34m:\u001b[0m\u001b[0;34m\u001b[0m\u001b[0;34m\u001b[0m\u001b[0m\n",
            "\u001b[0;32m/usr/local/lib/python3.7/dist-packages/pandas/core/indexing.py\u001b[0m in \u001b[0;36m_getitem_axis\u001b[0;34m(self, key, axis)\u001b[0m\n\u001b[1;32m   1494\u001b[0m \u001b[0;34m\u001b[0m\u001b[0m\n\u001b[1;32m   1495\u001b[0m             \u001b[0;31m# validate the location\u001b[0m\u001b[0;34m\u001b[0m\u001b[0;34m\u001b[0m\u001b[0;34m\u001b[0m\u001b[0m\n\u001b[0;32m-> 1496\u001b[0;31m             \u001b[0mself\u001b[0m\u001b[0;34m.\u001b[0m\u001b[0m_validate_integer\u001b[0m\u001b[0;34m(\u001b[0m\u001b[0mkey\u001b[0m\u001b[0;34m,\u001b[0m \u001b[0maxis\u001b[0m\u001b[0;34m)\u001b[0m\u001b[0;34m\u001b[0m\u001b[0;34m\u001b[0m\u001b[0m\n\u001b[0m\u001b[1;32m   1497\u001b[0m \u001b[0;34m\u001b[0m\u001b[0m\n\u001b[1;32m   1498\u001b[0m             \u001b[0;32mreturn\u001b[0m \u001b[0mself\u001b[0m\u001b[0;34m.\u001b[0m\u001b[0mobj\u001b[0m\u001b[0;34m.\u001b[0m\u001b[0m_ixs\u001b[0m\u001b[0;34m(\u001b[0m\u001b[0mkey\u001b[0m\u001b[0;34m,\u001b[0m \u001b[0maxis\u001b[0m\u001b[0;34m=\u001b[0m\u001b[0maxis\u001b[0m\u001b[0;34m)\u001b[0m\u001b[0;34m\u001b[0m\u001b[0;34m\u001b[0m\u001b[0m\n",
            "\u001b[0;32m/usr/local/lib/python3.7/dist-packages/pandas/core/indexing.py\u001b[0m in \u001b[0;36m_validate_integer\u001b[0;34m(self, key, axis)\u001b[0m\n\u001b[1;32m   1435\u001b[0m         \u001b[0mlen_axis\u001b[0m \u001b[0;34m=\u001b[0m \u001b[0mlen\u001b[0m\u001b[0;34m(\u001b[0m\u001b[0mself\u001b[0m\u001b[0;34m.\u001b[0m\u001b[0mobj\u001b[0m\u001b[0;34m.\u001b[0m\u001b[0m_get_axis\u001b[0m\u001b[0;34m(\u001b[0m\u001b[0maxis\u001b[0m\u001b[0;34m)\u001b[0m\u001b[0;34m)\u001b[0m\u001b[0;34m\u001b[0m\u001b[0;34m\u001b[0m\u001b[0m\n\u001b[1;32m   1436\u001b[0m         \u001b[0;32mif\u001b[0m \u001b[0mkey\u001b[0m \u001b[0;34m>=\u001b[0m \u001b[0mlen_axis\u001b[0m \u001b[0;32mor\u001b[0m \u001b[0mkey\u001b[0m \u001b[0;34m<\u001b[0m \u001b[0;34m-\u001b[0m\u001b[0mlen_axis\u001b[0m\u001b[0;34m:\u001b[0m\u001b[0;34m\u001b[0m\u001b[0;34m\u001b[0m\u001b[0m\n\u001b[0;32m-> 1437\u001b[0;31m             \u001b[0;32mraise\u001b[0m \u001b[0mIndexError\u001b[0m\u001b[0;34m(\u001b[0m\u001b[0;34m\"single positional indexer is out-of-bounds\"\u001b[0m\u001b[0;34m)\u001b[0m\u001b[0;34m\u001b[0m\u001b[0;34m\u001b[0m\u001b[0m\n\u001b[0m\u001b[1;32m   1438\u001b[0m \u001b[0;34m\u001b[0m\u001b[0m\n\u001b[1;32m   1439\u001b[0m     \u001b[0;31m# -------------------------------------------------------------------\u001b[0m\u001b[0;34m\u001b[0m\u001b[0;34m\u001b[0m\u001b[0;34m\u001b[0m\u001b[0m\n",
            "\u001b[0;31mIndexError\u001b[0m: single positional indexer is out-of-bounds"
          ]
        }
      ]
    },
    {
      "cell_type": "markdown",
      "metadata": {
        "id": "b4DL3OckfC70"
      },
      "source": [
        "# Business Services"
      ]
    },
    {
      "cell_type": "code",
      "metadata": {
        "id": "ZoxymLEtfDZ3"
      },
      "source": [
        "busiserv = ['BRPA', 'LMFA', 'OXBR', 'GHVI', 'BTCM', 'TIG', 'MFH', 'LYL', 'AMRK', 'FDBC']\n",
        "busiserv_down = ['HFBL', 'BHV', 'RICE', 'ASPS', 'VERY', 'EMCF', 'MN', 'AEL']"
      ],
      "execution_count": 30,
      "outputs": []
    },
    {
      "cell_type": "code",
      "metadata": {
        "colab": {
          "base_uri": "https://localhost:8080/",
          "height": 787
        },
        "id": "1JPXXqiuu6sJ",
        "outputId": "65525fa9-2706-402f-f430-d41204ca72b1"
      },
      "source": [
        "visualize_returns(busiserv, sma, lma, start, end)"
      ],
      "execution_count": 31,
      "outputs": [
        {
          "output_type": "stream",
          "text": [
            "[*********************100%***********************]  1 of 1 completed\n",
            "Cummulative Strategy Returns for BRPA: -0.892\n",
            "[*********************100%***********************]  1 of 1 completed\n",
            "Cummulative Strategy Returns for LMFA: -0.966\n",
            "[*********************100%***********************]  1 of 1 completed\n",
            "Cummulative Strategy Returns for OXBR: -1.182\n",
            "[*********************100%***********************]  1 of 1 completed\n",
            "Cummulative Strategy Returns for GHVI: -0.064\n",
            "[*********************100%***********************]  1 of 1 completed\n",
            "Cummulative Strategy Returns for BTCM: -0.077\n",
            "[*********************100%***********************]  1 of 1 completed\n",
            "Cummulative Strategy Returns for TIG: -0.149\n",
            "[*********************100%***********************]  1 of 1 completed\n",
            "Cummulative Strategy Returns for MFH: -0.259\n",
            "[*********************100%***********************]  1 of 1 completed\n",
            "Cummulative Strategy Returns for LYL: -0.963\n",
            "[*********************100%***********************]  1 of 1 completed\n",
            "Cummulative Strategy Returns for AMRK: 0.571\n",
            "[*********************100%***********************]  1 of 1 completed\n",
            "Cummulative Strategy Returns for FDBC: -0.33\n"
          ],
          "name": "stdout"
        },
        {
          "output_type": "display_data",
          "data": {
            "image/png": "[encoded data removed]",
            "text/plain": [
              "<Figure size 1008x504 with 1 Axes>"
            ]
          },
          "metadata": {
            "tags": [],
            "needs_background": "light"
          }
        }
      ]
    },
    {
      "cell_type": "code",
      "metadata": {
        "colab": {
          "base_uri": "https://localhost:8080/"
        },
        "id": "5HtbGvWcwQNQ",
        "outputId": "72b9b447-5f5f-4292-ae05-b9a808cd61ac"
      },
      "source": [
        "cumm_returns(busiserv_down, sma, lma, start, end)"
      ],
      "execution_count": 32,
      "outputs": [
        {
          "output_type": "stream",
          "text": [
            "[*********************100%***********************]  1 of 1 completed\n",
            "Cummulative Strategy Returns for HFBL: 0.716\n",
            "[*********************100%***********************]  1 of 1 completed\n",
            "Cummulative Strategy Returns for BHV: -0.057\n",
            "[*********************100%***********************]  1 of 1 completed\n",
            "Cummulative Strategy Returns for RICE: -0.551\n",
            "[*********************100%***********************]  1 of 1 completed\n",
            "Cummulative Strategy Returns for ASPS: -0.955\n",
            "[*********************100%***********************]  1 of 1 completed\n",
            "Cummulative Strategy Returns for VERY: -0.787\n",
            "[*********************100%***********************]  1 of 1 completed\n",
            "Cummulative Strategy Returns for EMCF: -0.394\n",
            "[*********************100%***********************]  1 of 1 completed\n",
            "Cummulative Strategy Returns for MN: -0.97\n",
            "[*********************100%***********************]  1 of 1 completed\n",
            "Cummulative Strategy Returns for AEL: -0.945\n",
            "Computations Completed!\n"
          ],
          "name": "stdout"
        }
      ]
    },
    {
      "cell_type": "code",
      "metadata": {
        "colab": {
          "base_uri": "https://localhost:8080/",
          "height": 549
        },
        "id": "_re6cHaJnZpe",
        "outputId": "634c9345-dd5a-4516-94a0-429171735d24"
      },
      "source": [
        "test_optimize(busiserv, start, end, sma_range, lma_range)"
      ],
      "execution_count": 33,
      "outputs": [
        {
          "output_type": "stream",
          "text": [
            "\r[*********************100%***********************]  1 of 1 completed\n",
            "SMA value: 2 and LMA value: 60\n",
            "SMA value: 2 and LMA value: 65\n",
            "SMA value: 2 and LMA value: 70\n",
            "SMA value: 2 and LMA value: 75\n",
            "SMA value: 4 and LMA value: 60\n",
            "SMA value: 4 and LMA value: 65\n",
            "SMA value: 4 and LMA value: 70\n",
            "SMA value: 4 and LMA value: 75\n",
            "SMA value: 6 and LMA value: 60\n",
            "SMA value: 6 and LMA value: 65\n",
            "SMA value: 6 and LMA value: 70\n",
            "SMA value: 6 and LMA value: 75\n",
            "SMA value: 8 and LMA value: 60\n",
            "SMA value: 8 and LMA value: 65\n"
          ],
          "name": "stdout"
        },
        {
          "output_type": "error",
          "ename": "IndexError",
          "evalue": "ignored",
          "traceback": [
            "\u001b[0;31m---------------------------------------------------------------------------\u001b[0m",
            "\u001b[0;31mIndexError\u001b[0m                                Traceback (most recent call last)",
            "\u001b[0;32m<ipython-input-33-4cd930edad2f>\u001b[0m in \u001b[0;36m<module>\u001b[0;34m()\u001b[0m\n\u001b[0;32m----> 1\u001b[0;31m \u001b[0mtest_optimize\u001b[0m\u001b[0;34m(\u001b[0m\u001b[0mbusiserv\u001b[0m\u001b[0;34m,\u001b[0m \u001b[0mstart\u001b[0m\u001b[0;34m,\u001b[0m \u001b[0mend\u001b[0m\u001b[0;34m,\u001b[0m \u001b[0msma_range\u001b[0m\u001b[0;34m,\u001b[0m \u001b[0mlma_range\u001b[0m\u001b[0;34m)\u001b[0m\u001b[0;34m\u001b[0m\u001b[0;34m\u001b[0m\u001b[0m\n\u001b[0m",
            "\u001b[0;32m<ipython-input-22-edfc7a433e26>\u001b[0m in \u001b[0;36mtest_optimize\u001b[0;34m(stock_list, start_string, end_string, sma_range, lma_range)\u001b[0m\n\u001b[1;32m     82\u001b[0m         \u001b[0mdata\u001b[0m \u001b[0;34m=\u001b[0m \u001b[0myf\u001b[0m\u001b[0;34m.\u001b[0m\u001b[0mdownload\u001b[0m\u001b[0;34m(\u001b[0m\u001b[0mstock\u001b[0m\u001b[0;34m,\u001b[0m \u001b[0mstart\u001b[0m \u001b[0;34m=\u001b[0m \u001b[0mstart_string\u001b[0m\u001b[0;34m,\u001b[0m \u001b[0mend\u001b[0m \u001b[0;34m=\u001b[0m \u001b[0mend_string\u001b[0m\u001b[0;34m)\u001b[0m\u001b[0;34m\u001b[0m\u001b[0;34m\u001b[0m\u001b[0m\n\u001b[1;32m     83\u001b[0m \u001b[0;34m\u001b[0m\u001b[0m\n\u001b[0;32m---> 84\u001b[0;31m         \u001b[0mnet_returns\u001b[0m\u001b[0;34m,\u001b[0m \u001b[0mb_sma\u001b[0m\u001b[0;34m,\u001b[0m \u001b[0mb_lma\u001b[0m \u001b[0;34m=\u001b[0m \u001b[0moptimize\u001b[0m\u001b[0;34m(\u001b[0m\u001b[0mdata\u001b[0m\u001b[0;34m,\u001b[0m \u001b[0msma_range\u001b[0m\u001b[0;34m,\u001b[0m \u001b[0mlma_range\u001b[0m\u001b[0;34m)\u001b[0m\u001b[0;34m\u001b[0m\u001b[0;34m\u001b[0m\u001b[0m\n\u001b[0m\u001b[1;32m     85\u001b[0m \u001b[0;34m\u001b[0m\u001b[0m\n\u001b[1;32m     86\u001b[0m         \u001b[0mprint\u001b[0m\u001b[0;34m(\u001b[0m\u001b[0;34mf'Cummulative strategy returns for {stock}:'\u001b[0m\u001b[0;34m,\u001b[0m \u001b[0mnet_returns\u001b[0m\u001b[0;34m)\u001b[0m\u001b[0;34m\u001b[0m\u001b[0;34m\u001b[0m\u001b[0m\n",
            "\u001b[0;32m<ipython-input-22-edfc7a433e26>\u001b[0m in \u001b[0;36moptimize\u001b[0;34m(data, sma_range, lma_range)\u001b[0m\n\u001b[1;32m     65\u001b[0m \u001b[0;34m\u001b[0m\u001b[0m\n\u001b[1;32m     66\u001b[0m         \u001b[0mprint\u001b[0m\u001b[0;34m(\u001b[0m\u001b[0;34mf'SMA value: {sma_val} and LMA value: {lma_val}'\u001b[0m\u001b[0;34m)\u001b[0m\u001b[0;34m\u001b[0m\u001b[0;34m\u001b[0m\u001b[0m\n\u001b[0;32m---> 67\u001b[0;31m         \u001b[0mreturns\u001b[0m \u001b[0;34m=\u001b[0m \u001b[0mbacktest_strategy\u001b[0m\u001b[0;34m(\u001b[0m\u001b[0mdata\u001b[0m\u001b[0;34m,\u001b[0m \u001b[0msma_val\u001b[0m\u001b[0;34m,\u001b[0m \u001b[0mlma_val\u001b[0m\u001b[0;34m)\u001b[0m\u001b[0;34m\u001b[0m\u001b[0;34m\u001b[0m\u001b[0m\n\u001b[0m\u001b[1;32m     68\u001b[0m \u001b[0;34m\u001b[0m\u001b[0m\n\u001b[1;32m     69\u001b[0m         \u001b[0;32mif\u001b[0m \u001b[0mreturns\u001b[0m \u001b[0;34m>\u001b[0m \u001b[0mbest_returns\u001b[0m\u001b[0;34m:\u001b[0m\u001b[0;34m\u001b[0m\u001b[0;34m\u001b[0m\u001b[0m\n",
            "\u001b[0;32m<ipython-input-22-edfc7a433e26>\u001b[0m in \u001b[0;36mbacktest_strategy\u001b[0;34m(data, sma, lma)\u001b[0m\n\u001b[1;32m     13\u001b[0m     \u001b[0mcum_s_returns\u001b[0m \u001b[0;34m=\u001b[0m \u001b[0;34m(\u001b[0m\u001b[0mdata\u001b[0m\u001b[0;34m[\u001b[0m\u001b[0;34m'strategic_returns'\u001b[0m\u001b[0;34m]\u001b[0m\u001b[0;34m+\u001b[0m \u001b[0;36m1\u001b[0m\u001b[0;34m)\u001b[0m\u001b[0;34m.\u001b[0m\u001b[0mcumprod\u001b[0m\u001b[0;34m(\u001b[0m\u001b[0;34m)\u001b[0m\u001b[0;34m\u001b[0m\u001b[0;34m\u001b[0m\u001b[0m\n\u001b[1;32m     14\u001b[0m \u001b[0;34m\u001b[0m\u001b[0m\n\u001b[0;32m---> 15\u001b[0;31m     \u001b[0;32mreturn\u001b[0m \u001b[0mround\u001b[0m\u001b[0;34m(\u001b[0m\u001b[0mcum_s_returns\u001b[0m\u001b[0;34m.\u001b[0m\u001b[0miloc\u001b[0m\u001b[0;34m[\u001b[0m\u001b[0;34m-\u001b[0m\u001b[0;36m1\u001b[0m\u001b[0;34m]\u001b[0m \u001b[0;34m-\u001b[0m\u001b[0;36m1\u001b[0m\u001b[0;34m,\u001b[0m \u001b[0;36m3\u001b[0m\u001b[0;34m)\u001b[0m\u001b[0;34m\u001b[0m\u001b[0;34m\u001b[0m\u001b[0m\n\u001b[0m\u001b[1;32m     16\u001b[0m \u001b[0;34m\u001b[0m\u001b[0m\n\u001b[1;32m     17\u001b[0m \u001b[0;32mdef\u001b[0m \u001b[0mcumm_returns\u001b[0m\u001b[0;34m(\u001b[0m\u001b[0mticker_list\u001b[0m\u001b[0;34m,\u001b[0m \u001b[0msma\u001b[0m\u001b[0;34m,\u001b[0m \u001b[0mlma\u001b[0m\u001b[0;34m,\u001b[0m \u001b[0mstart_string\u001b[0m\u001b[0;34m,\u001b[0m \u001b[0mend_string\u001b[0m\u001b[0;34m)\u001b[0m\u001b[0;34m:\u001b[0m\u001b[0;34m\u001b[0m\u001b[0;34m\u001b[0m\u001b[0m\n",
            "\u001b[0;32m/usr/local/lib/python3.7/dist-packages/pandas/core/indexing.py\u001b[0m in \u001b[0;36m__getitem__\u001b[0;34m(self, key)\u001b[0m\n\u001b[1;32m    877\u001b[0m \u001b[0;34m\u001b[0m\u001b[0m\n\u001b[1;32m    878\u001b[0m             \u001b[0mmaybe_callable\u001b[0m \u001b[0;34m=\u001b[0m \u001b[0mcom\u001b[0m\u001b[0;34m.\u001b[0m\u001b[0mapply_if_callable\u001b[0m\u001b[0;34m(\u001b[0m\u001b[0mkey\u001b[0m\u001b[0;34m,\u001b[0m \u001b[0mself\u001b[0m\u001b[0;34m.\u001b[0m\u001b[0mobj\u001b[0m\u001b[0;34m)\u001b[0m\u001b[0;34m\u001b[0m\u001b[0;34m\u001b[0m\u001b[0m\n\u001b[0;32m--> 879\u001b[0;31m             \u001b[0;32mreturn\u001b[0m \u001b[0mself\u001b[0m\u001b[0;34m.\u001b[0m\u001b[0m_getitem_axis\u001b[0m\u001b[0;34m(\u001b[0m\u001b[0mmaybe_callable\u001b[0m\u001b[0;34m,\u001b[0m \u001b[0maxis\u001b[0m\u001b[0;34m=\u001b[0m\u001b[0maxis\u001b[0m\u001b[0;34m)\u001b[0m\u001b[0;34m\u001b[0m\u001b[0;34m\u001b[0m\u001b[0m\n\u001b[0m\u001b[1;32m    880\u001b[0m \u001b[0;34m\u001b[0m\u001b[0m\n\u001b[1;32m    881\u001b[0m     \u001b[0;32mdef\u001b[0m \u001b[0m_is_scalar_access\u001b[0m\u001b[0;34m(\u001b[0m\u001b[0mself\u001b[0m\u001b[0;34m,\u001b[0m \u001b[0mkey\u001b[0m\u001b[0;34m:\u001b[0m \u001b[0mTuple\u001b[0m\u001b[0;34m)\u001b[0m\u001b[0;34m:\u001b[0m\u001b[0;34m\u001b[0m\u001b[0;34m\u001b[0m\u001b[0m\n",
            "\u001b[0;32m/usr/local/lib/python3.7/dist-packages/pandas/core/indexing.py\u001b[0m in \u001b[0;36m_getitem_axis\u001b[0;34m(self, key, axis)\u001b[0m\n\u001b[1;32m   1494\u001b[0m \u001b[0;34m\u001b[0m\u001b[0m\n\u001b[1;32m   1495\u001b[0m             \u001b[0;31m# validate the location\u001b[0m\u001b[0;34m\u001b[0m\u001b[0;34m\u001b[0m\u001b[0;34m\u001b[0m\u001b[0m\n\u001b[0;32m-> 1496\u001b[0;31m             \u001b[0mself\u001b[0m\u001b[0;34m.\u001b[0m\u001b[0m_validate_integer\u001b[0m\u001b[0;34m(\u001b[0m\u001b[0mkey\u001b[0m\u001b[0;34m,\u001b[0m \u001b[0maxis\u001b[0m\u001b[0;34m)\u001b[0m\u001b[0;34m\u001b[0m\u001b[0;34m\u001b[0m\u001b[0m\n\u001b[0m\u001b[1;32m   1497\u001b[0m \u001b[0;34m\u001b[0m\u001b[0m\n\u001b[1;32m   1498\u001b[0m             \u001b[0;32mreturn\u001b[0m \u001b[0mself\u001b[0m\u001b[0;34m.\u001b[0m\u001b[0mobj\u001b[0m\u001b[0;34m.\u001b[0m\u001b[0m_ixs\u001b[0m\u001b[0;34m(\u001b[0m\u001b[0mkey\u001b[0m\u001b[0;34m,\u001b[0m \u001b[0maxis\u001b[0m\u001b[0;34m=\u001b[0m\u001b[0maxis\u001b[0m\u001b[0;34m)\u001b[0m\u001b[0;34m\u001b[0m\u001b[0;34m\u001b[0m\u001b[0m\n",
            "\u001b[0;32m/usr/local/lib/python3.7/dist-packages/pandas/core/indexing.py\u001b[0m in \u001b[0;36m_validate_integer\u001b[0;34m(self, key, axis)\u001b[0m\n\u001b[1;32m   1435\u001b[0m         \u001b[0mlen_axis\u001b[0m \u001b[0;34m=\u001b[0m \u001b[0mlen\u001b[0m\u001b[0;34m(\u001b[0m\u001b[0mself\u001b[0m\u001b[0;34m.\u001b[0m\u001b[0mobj\u001b[0m\u001b[0;34m.\u001b[0m\u001b[0m_get_axis\u001b[0m\u001b[0;34m(\u001b[0m\u001b[0maxis\u001b[0m\u001b[0;34m)\u001b[0m\u001b[0;34m)\u001b[0m\u001b[0;34m\u001b[0m\u001b[0;34m\u001b[0m\u001b[0m\n\u001b[1;32m   1436\u001b[0m         \u001b[0;32mif\u001b[0m \u001b[0mkey\u001b[0m \u001b[0;34m>=\u001b[0m \u001b[0mlen_axis\u001b[0m \u001b[0;32mor\u001b[0m \u001b[0mkey\u001b[0m \u001b[0;34m<\u001b[0m \u001b[0;34m-\u001b[0m\u001b[0mlen_axis\u001b[0m\u001b[0;34m:\u001b[0m\u001b[0;34m\u001b[0m\u001b[0;34m\u001b[0m\u001b[0m\n\u001b[0;32m-> 1437\u001b[0;31m             \u001b[0;32mraise\u001b[0m \u001b[0mIndexError\u001b[0m\u001b[0;34m(\u001b[0m\u001b[0;34m\"single positional indexer is out-of-bounds\"\u001b[0m\u001b[0;34m)\u001b[0m\u001b[0;34m\u001b[0m\u001b[0;34m\u001b[0m\u001b[0m\n\u001b[0m\u001b[1;32m   1438\u001b[0m \u001b[0;34m\u001b[0m\u001b[0m\n\u001b[1;32m   1439\u001b[0m     \u001b[0;31m# -------------------------------------------------------------------\u001b[0m\u001b[0;34m\u001b[0m\u001b[0;34m\u001b[0m\u001b[0;34m\u001b[0m\u001b[0m\n",
            "\u001b[0;31mIndexError\u001b[0m: single positional indexer is out-of-bounds"
          ]
        }
      ]
    },
    {
      "cell_type": "markdown",
      "metadata": {
        "id": "33XfqKfFW3TC"
      },
      "source": [
        "# Fast Moving Consumer Goods (FMCG)"
      ]
    },
    {
      "cell_type": "code",
      "metadata": {
        "id": "p40-Ssr6W60Y"
      },
      "source": [
        "fmcg = ['PLIN', 'REDU', 'HIMS', 'HRL', 'UG', 'AMBO', 'FEDU', 'CELH', 'PETZ', 'CLEU']\n",
        "fmcg_down = ['COE', 'LXEH', 'PME', 'REED', 'BJ', 'METX', 'ONE', 'RLX']"
      ],
      "execution_count": 34,
      "outputs": []
    },
    {
      "cell_type": "code",
      "metadata": {
        "colab": {
          "base_uri": "https://localhost:8080/",
          "height": 787
        },
        "id": "O0KIvHrwW7nZ",
        "outputId": "9796b248-3710-44a6-9886-133ccab54764"
      },
      "source": [
        "visualize_returns(fmcg, sma, lma, start, end)"
      ],
      "execution_count": 35,
      "outputs": [
        {
          "output_type": "stream",
          "text": [
            "[*********************100%***********************]  1 of 1 completed\n",
            "Cummulative Strategy Returns for PLIN: -0.26\n",
            "[*********************100%***********************]  1 of 1 completed\n",
            "Cummulative Strategy Returns for REDU: -0.662\n",
            "[*********************100%***********************]  1 of 1 completed\n",
            "Cummulative Strategy Returns for HIMS: -0.21\n",
            "[*********************100%***********************]  1 of 1 completed\n",
            "Cummulative Strategy Returns for HRL: -0.625\n",
            "[*********************100%***********************]  1 of 1 completed\n",
            "Cummulative Strategy Returns for UG: -0.686\n",
            "[*********************100%***********************]  1 of 1 completed\n",
            "Cummulative Strategy Returns for AMBO: -1.014\n",
            "[*********************100%***********************]  1 of 1 completed\n",
            "Cummulative Strategy Returns for FEDU: -0.128\n",
            "[*********************100%***********************]  1 of 1 completed\n",
            "Cummulative Strategy Returns for CELH: -0.728\n",
            "[*********************100%***********************]  1 of 1 completed\n",
            "Cummulative Strategy Returns for PETZ: -1.0\n",
            "[*********************100%***********************]  1 of 1 completed\n",
            "Cummulative Strategy Returns for CLEU: -0.911\n"
          ],
          "name": "stdout"
        },
        {
          "output_type": "display_data",
          "data": {
            "image/png": "[encoded data removed]",
            "text/plain": [
              "<Figure size 1008x504 with 1 Axes>"
            ]
          },
          "metadata": {
            "tags": [],
            "needs_background": "light"
          }
        }
      ]
    },
    {
      "cell_type": "code",
      "metadata": {
        "colab": {
          "base_uri": "https://localhost:8080/"
        },
        "id": "KKKpv-fAvs56",
        "outputId": "c08c696a-cab2-491c-9612-6c96ef949a6e"
      },
      "source": [
        "cumm_returns(fmcg_down, sma, lma, start, end)"
      ],
      "execution_count": 36,
      "outputs": [
        {
          "output_type": "stream",
          "text": [
            "[*********************100%***********************]  1 of 1 completed\n",
            "Cummulative Strategy Returns for COE: -0.899\n",
            "[*********************100%***********************]  1 of 1 completed\n",
            "Cummulative Strategy Returns for LXEH: -0.36\n",
            "[*********************100%***********************]  1 of 1 completed\n",
            "Cummulative Strategy Returns for PME: -0.845\n",
            "[*********************100%***********************]  1 of 1 completed\n",
            "Cummulative Strategy Returns for REED: 1.035\n",
            "[*********************100%***********************]  1 of 1 completed\n",
            "Cummulative Strategy Returns for BJ: -0.47\n",
            "[*********************100%***********************]  1 of 1 completed\n",
            "Cummulative Strategy Returns for METX: 0.385\n",
            "[*********************100%***********************]  1 of 1 completed\n",
            "Cummulative Strategy Returns for ONE: -0.267\n",
            "[*********************100%***********************]  1 of 1 completed\n",
            "Cummulative Strategy Returns for RLX: -0.263\n",
            "Computations Completed!\n"
          ],
          "name": "stdout"
        }
      ]
    },
    {
      "cell_type": "code",
      "metadata": {
        "colab": {
          "base_uri": "https://localhost:8080/",
          "height": 433
        },
        "id": "aZu4jh7tnd7H",
        "outputId": "c8505e84-2420-4454-cf5e-492d1265c1e1"
      },
      "source": [
        "test_optimize(fmcg, start, end, sma_range, lma_range)"
      ],
      "execution_count": 37,
      "outputs": [
        {
          "output_type": "stream",
          "text": [
            "\r[*********************100%***********************]  1 of 1 completed\n",
            "SMA value: 2 and LMA value: 60\n",
            "SMA value: 2 and LMA value: 65\n",
            "SMA value: 2 and LMA value: 70\n",
            "SMA value: 2 and LMA value: 75\n",
            "SMA value: 4 and LMA value: 60\n",
            "SMA value: 4 and LMA value: 65\n",
            "SMA value: 4 and LMA value: 70\n"
          ],
          "name": "stdout"
        },
        {
          "output_type": "error",
          "ename": "IndexError",
          "evalue": "ignored",
          "traceback": [
            "\u001b[0;31m---------------------------------------------------------------------------\u001b[0m",
            "\u001b[0;31mIndexError\u001b[0m                                Traceback (most recent call last)",
            "\u001b[0;32m<ipython-input-37-565e233d4d43>\u001b[0m in \u001b[0;36m<module>\u001b[0;34m()\u001b[0m\n\u001b[0;32m----> 1\u001b[0;31m \u001b[0mtest_optimize\u001b[0m\u001b[0;34m(\u001b[0m\u001b[0mfmcg\u001b[0m\u001b[0;34m,\u001b[0m \u001b[0mstart\u001b[0m\u001b[0;34m,\u001b[0m \u001b[0mend\u001b[0m\u001b[0;34m,\u001b[0m \u001b[0msma_range\u001b[0m\u001b[0;34m,\u001b[0m \u001b[0mlma_range\u001b[0m\u001b[0;34m)\u001b[0m\u001b[0;34m\u001b[0m\u001b[0;34m\u001b[0m\u001b[0m\n\u001b[0m",
            "\u001b[0;32m<ipython-input-22-edfc7a433e26>\u001b[0m in \u001b[0;36mtest_optimize\u001b[0;34m(stock_list, start_string, end_string, sma_range, lma_range)\u001b[0m\n\u001b[1;32m     82\u001b[0m         \u001b[0mdata\u001b[0m \u001b[0;34m=\u001b[0m \u001b[0myf\u001b[0m\u001b[0;34m.\u001b[0m\u001b[0mdownload\u001b[0m\u001b[0;34m(\u001b[0m\u001b[0mstock\u001b[0m\u001b[0;34m,\u001b[0m \u001b[0mstart\u001b[0m \u001b[0;34m=\u001b[0m \u001b[0mstart_string\u001b[0m\u001b[0;34m,\u001b[0m \u001b[0mend\u001b[0m \u001b[0;34m=\u001b[0m \u001b[0mend_string\u001b[0m\u001b[0;34m)\u001b[0m\u001b[0;34m\u001b[0m\u001b[0;34m\u001b[0m\u001b[0m\n\u001b[1;32m     83\u001b[0m \u001b[0;34m\u001b[0m\u001b[0m\n\u001b[0;32m---> 84\u001b[0;31m         \u001b[0mnet_returns\u001b[0m\u001b[0;34m,\u001b[0m \u001b[0mb_sma\u001b[0m\u001b[0;34m,\u001b[0m \u001b[0mb_lma\u001b[0m \u001b[0;34m=\u001b[0m \u001b[0moptimize\u001b[0m\u001b[0;34m(\u001b[0m\u001b[0mdata\u001b[0m\u001b[0;34m,\u001b[0m \u001b[0msma_range\u001b[0m\u001b[0;34m,\u001b[0m \u001b[0mlma_range\u001b[0m\u001b[0;34m)\u001b[0m\u001b[0;34m\u001b[0m\u001b[0;34m\u001b[0m\u001b[0m\n\u001b[0m\u001b[1;32m     85\u001b[0m \u001b[0;34m\u001b[0m\u001b[0m\n\u001b[1;32m     86\u001b[0m         \u001b[0mprint\u001b[0m\u001b[0;34m(\u001b[0m\u001b[0;34mf'Cummulative strategy returns for {stock}:'\u001b[0m\u001b[0;34m,\u001b[0m \u001b[0mnet_returns\u001b[0m\u001b[0;34m)\u001b[0m\u001b[0;34m\u001b[0m\u001b[0;34m\u001b[0m\u001b[0m\n",
            "\u001b[0;32m<ipython-input-22-edfc7a433e26>\u001b[0m in \u001b[0;36moptimize\u001b[0;34m(data, sma_range, lma_range)\u001b[0m\n\u001b[1;32m     65\u001b[0m \u001b[0;34m\u001b[0m\u001b[0m\n\u001b[1;32m     66\u001b[0m         \u001b[0mprint\u001b[0m\u001b[0;34m(\u001b[0m\u001b[0;34mf'SMA value: {sma_val} and LMA value: {lma_val}'\u001b[0m\u001b[0;34m)\u001b[0m\u001b[0;34m\u001b[0m\u001b[0;34m\u001b[0m\u001b[0m\n\u001b[0;32m---> 67\u001b[0;31m         \u001b[0mreturns\u001b[0m \u001b[0;34m=\u001b[0m \u001b[0mbacktest_strategy\u001b[0m\u001b[0;34m(\u001b[0m\u001b[0mdata\u001b[0m\u001b[0;34m,\u001b[0m \u001b[0msma_val\u001b[0m\u001b[0;34m,\u001b[0m \u001b[0mlma_val\u001b[0m\u001b[0;34m)\u001b[0m\u001b[0;34m\u001b[0m\u001b[0;34m\u001b[0m\u001b[0m\n\u001b[0m\u001b[1;32m     68\u001b[0m \u001b[0;34m\u001b[0m\u001b[0m\n\u001b[1;32m     69\u001b[0m         \u001b[0;32mif\u001b[0m \u001b[0mreturns\u001b[0m \u001b[0;34m>\u001b[0m \u001b[0mbest_returns\u001b[0m\u001b[0;34m:\u001b[0m\u001b[0;34m\u001b[0m\u001b[0;34m\u001b[0m\u001b[0m\n",
            "\u001b[0;32m<ipython-input-22-edfc7a433e26>\u001b[0m in \u001b[0;36mbacktest_strategy\u001b[0;34m(data, sma, lma)\u001b[0m\n\u001b[1;32m     13\u001b[0m     \u001b[0mcum_s_returns\u001b[0m \u001b[0;34m=\u001b[0m \u001b[0;34m(\u001b[0m\u001b[0mdata\u001b[0m\u001b[0;34m[\u001b[0m\u001b[0;34m'strategic_returns'\u001b[0m\u001b[0;34m]\u001b[0m\u001b[0;34m+\u001b[0m \u001b[0;36m1\u001b[0m\u001b[0;34m)\u001b[0m\u001b[0;34m.\u001b[0m\u001b[0mcumprod\u001b[0m\u001b[0;34m(\u001b[0m\u001b[0;34m)\u001b[0m\u001b[0;34m\u001b[0m\u001b[0;34m\u001b[0m\u001b[0m\n\u001b[1;32m     14\u001b[0m \u001b[0;34m\u001b[0m\u001b[0m\n\u001b[0;32m---> 15\u001b[0;31m     \u001b[0;32mreturn\u001b[0m \u001b[0mround\u001b[0m\u001b[0;34m(\u001b[0m\u001b[0mcum_s_returns\u001b[0m\u001b[0;34m.\u001b[0m\u001b[0miloc\u001b[0m\u001b[0;34m[\u001b[0m\u001b[0;34m-\u001b[0m\u001b[0;36m1\u001b[0m\u001b[0;34m]\u001b[0m \u001b[0;34m-\u001b[0m\u001b[0;36m1\u001b[0m\u001b[0;34m,\u001b[0m \u001b[0;36m3\u001b[0m\u001b[0;34m)\u001b[0m\u001b[0;34m\u001b[0m\u001b[0;34m\u001b[0m\u001b[0m\n\u001b[0m\u001b[1;32m     16\u001b[0m \u001b[0;34m\u001b[0m\u001b[0m\n\u001b[1;32m     17\u001b[0m \u001b[0;32mdef\u001b[0m \u001b[0mcumm_returns\u001b[0m\u001b[0;34m(\u001b[0m\u001b[0mticker_list\u001b[0m\u001b[0;34m,\u001b[0m \u001b[0msma\u001b[0m\u001b[0;34m,\u001b[0m \u001b[0mlma\u001b[0m\u001b[0;34m,\u001b[0m \u001b[0mstart_string\u001b[0m\u001b[0;34m,\u001b[0m \u001b[0mend_string\u001b[0m\u001b[0;34m)\u001b[0m\u001b[0;34m:\u001b[0m\u001b[0;34m\u001b[0m\u001b[0;34m\u001b[0m\u001b[0m\n",
            "\u001b[0;32m/usr/local/lib/python3.7/dist-packages/pandas/core/indexing.py\u001b[0m in \u001b[0;36m__getitem__\u001b[0;34m(self, key)\u001b[0m\n\u001b[1;32m    877\u001b[0m \u001b[0;34m\u001b[0m\u001b[0m\n\u001b[1;32m    878\u001b[0m             \u001b[0mmaybe_callable\u001b[0m \u001b[0;34m=\u001b[0m \u001b[0mcom\u001b[0m\u001b[0;34m.\u001b[0m\u001b[0mapply_if_callable\u001b[0m\u001b[0;34m(\u001b[0m\u001b[0mkey\u001b[0m\u001b[0;34m,\u001b[0m \u001b[0mself\u001b[0m\u001b[0;34m.\u001b[0m\u001b[0mobj\u001b[0m\u001b[0;34m)\u001b[0m\u001b[0;34m\u001b[0m\u001b[0;34m\u001b[0m\u001b[0m\n\u001b[0;32m--> 879\u001b[0;31m             \u001b[0;32mreturn\u001b[0m \u001b[0mself\u001b[0m\u001b[0;34m.\u001b[0m\u001b[0m_getitem_axis\u001b[0m\u001b[0;34m(\u001b[0m\u001b[0mmaybe_callable\u001b[0m\u001b[0;34m,\u001b[0m \u001b[0maxis\u001b[0m\u001b[0;34m=\u001b[0m\u001b[0maxis\u001b[0m\u001b[0;34m)\u001b[0m\u001b[0;34m\u001b[0m\u001b[0;34m\u001b[0m\u001b[0m\n\u001b[0m\u001b[1;32m    880\u001b[0m \u001b[0;34m\u001b[0m\u001b[0m\n\u001b[1;32m    881\u001b[0m     \u001b[0;32mdef\u001b[0m \u001b[0m_is_scalar_access\u001b[0m\u001b[0;34m(\u001b[0m\u001b[0mself\u001b[0m\u001b[0;34m,\u001b[0m \u001b[0mkey\u001b[0m\u001b[0;34m:\u001b[0m \u001b[0mTuple\u001b[0m\u001b[0;34m)\u001b[0m\u001b[0;34m:\u001b[0m\u001b[0;34m\u001b[0m\u001b[0;34m\u001b[0m\u001b[0m\n",
            "\u001b[0;32m/usr/local/lib/python3.7/dist-packages/pandas/core/indexing.py\u001b[0m in \u001b[0;36m_getitem_axis\u001b[0;34m(self, key, axis)\u001b[0m\n\u001b[1;32m   1494\u001b[0m \u001b[0;34m\u001b[0m\u001b[0m\n\u001b[1;32m   1495\u001b[0m             \u001b[0;31m# validate the location\u001b[0m\u001b[0;34m\u001b[0m\u001b[0;34m\u001b[0m\u001b[0;34m\u001b[0m\u001b[0m\n\u001b[0;32m-> 1496\u001b[0;31m             \u001b[0mself\u001b[0m\u001b[0;34m.\u001b[0m\u001b[0m_validate_integer\u001b[0m\u001b[0;34m(\u001b[0m\u001b[0mkey\u001b[0m\u001b[0;34m,\u001b[0m \u001b[0maxis\u001b[0m\u001b[0;34m)\u001b[0m\u001b[0;34m\u001b[0m\u001b[0;34m\u001b[0m\u001b[0m\n\u001b[0m\u001b[1;32m   1497\u001b[0m \u001b[0;34m\u001b[0m\u001b[0m\n\u001b[1;32m   1498\u001b[0m             \u001b[0;32mreturn\u001b[0m \u001b[0mself\u001b[0m\u001b[0;34m.\u001b[0m\u001b[0mobj\u001b[0m\u001b[0;34m.\u001b[0m\u001b[0m_ixs\u001b[0m\u001b[0;34m(\u001b[0m\u001b[0mkey\u001b[0m\u001b[0;34m,\u001b[0m \u001b[0maxis\u001b[0m\u001b[0;34m=\u001b[0m\u001b[0maxis\u001b[0m\u001b[0;34m)\u001b[0m\u001b[0;34m\u001b[0m\u001b[0;34m\u001b[0m\u001b[0m\n",
            "\u001b[0;32m/usr/local/lib/python3.7/dist-packages/pandas/core/indexing.py\u001b[0m in \u001b[0;36m_validate_integer\u001b[0;34m(self, key, axis)\u001b[0m\n\u001b[1;32m   1435\u001b[0m         \u001b[0mlen_axis\u001b[0m \u001b[0;34m=\u001b[0m \u001b[0mlen\u001b[0m\u001b[0;34m(\u001b[0m\u001b[0mself\u001b[0m\u001b[0;34m.\u001b[0m\u001b[0mobj\u001b[0m\u001b[0;34m.\u001b[0m\u001b[0m_get_axis\u001b[0m\u001b[0;34m(\u001b[0m\u001b[0maxis\u001b[0m\u001b[0;34m)\u001b[0m\u001b[0;34m)\u001b[0m\u001b[0;34m\u001b[0m\u001b[0;34m\u001b[0m\u001b[0m\n\u001b[1;32m   1436\u001b[0m         \u001b[0;32mif\u001b[0m \u001b[0mkey\u001b[0m \u001b[0;34m>=\u001b[0m \u001b[0mlen_axis\u001b[0m \u001b[0;32mor\u001b[0m \u001b[0mkey\u001b[0m \u001b[0;34m<\u001b[0m \u001b[0;34m-\u001b[0m\u001b[0mlen_axis\u001b[0m\u001b[0;34m:\u001b[0m\u001b[0;34m\u001b[0m\u001b[0;34m\u001b[0m\u001b[0m\n\u001b[0;32m-> 1437\u001b[0;31m             \u001b[0;32mraise\u001b[0m \u001b[0mIndexError\u001b[0m\u001b[0;34m(\u001b[0m\u001b[0;34m\"single positional indexer is out-of-bounds\"\u001b[0m\u001b[0;34m)\u001b[0m\u001b[0;34m\u001b[0m\u001b[0;34m\u001b[0m\u001b[0m\n\u001b[0m\u001b[1;32m   1438\u001b[0m \u001b[0;34m\u001b[0m\u001b[0m\n\u001b[1;32m   1439\u001b[0m     \u001b[0;31m# -------------------------------------------------------------------\u001b[0m\u001b[0;34m\u001b[0m\u001b[0;34m\u001b[0m\u001b[0;34m\u001b[0m\u001b[0m\n",
            "\u001b[0;31mIndexError\u001b[0m: single positional indexer is out-of-bounds"
          ]
        }
      ]
    },
    {
      "cell_type": "markdown",
      "metadata": {
        "id": "fWdVOAU0W8DO"
      },
      "source": [
        "# Consumer Discretionary\n",
        "AKA cylical consumer stocks"
      ]
    },
    {
      "cell_type": "code",
      "metadata": {
        "id": "ayl83fFJW-7x"
      },
      "source": [
        "cd = ['BBQ', 'BBIG', 'MRM', 'FORD', 'OCG', 'CATO', 'AUVI', 'RICK', 'POSH', \n",
        "      'DIS', 'HLT', 'WMT']\n",
        "cd_down = ['RIDE', 'FOSL', 'KSS', 'ANF', 'RL', 'URBN', 'JWN', 'LOTZ', 'LCUT']"
      ],
      "execution_count": 38,
      "outputs": []
    },
    {
      "cell_type": "code",
      "metadata": {
        "colab": {
          "base_uri": "https://localhost:8080/",
          "height": 853
        },
        "id": "FQgaE_O6W_kg",
        "outputId": "6ec5f509-4d56-4267-ebd4-de81eb7cbbbd"
      },
      "source": [
        "visualize_returns(cd, sma, lma, start, end)"
      ],
      "execution_count": 39,
      "outputs": [
        {
          "output_type": "stream",
          "text": [
            "[*********************100%***********************]  1 of 1 completed\n",
            "Cummulative Strategy Returns for BBQ: -0.839\n",
            "[*********************100%***********************]  1 of 1 completed\n",
            "Cummulative Strategy Returns for BBIG: -1.053\n",
            "[*********************100%***********************]  1 of 1 completed\n",
            "Cummulative Strategy Returns for MRM: -0.059\n",
            "[*********************100%***********************]  1 of 1 completed\n",
            "Cummulative Strategy Returns for FORD: -1.117\n",
            "[*********************100%***********************]  1 of 1 completed\n",
            "Cummulative Strategy Returns for OCG: -1.056\n",
            "[*********************100%***********************]  1 of 1 completed\n",
            "Cummulative Strategy Returns for CATO: 2.91\n",
            "[*********************100%***********************]  1 of 1 completed\n",
            "Cummulative Strategy Returns for AUVI: 0.82\n",
            "[*********************100%***********************]  1 of 1 completed\n",
            "Cummulative Strategy Returns for RICK: -0.626\n",
            "[*********************100%***********************]  1 of 1 completed\n",
            "Cummulative Strategy Returns for POSH: -0.095\n",
            "[*********************100%***********************]  1 of 1 completed\n",
            "Cummulative Strategy Returns for DIS: 0.254\n",
            "[*********************100%***********************]  1 of 1 completed\n",
            "Cummulative Strategy Returns for HLT: -0.188\n",
            "[*********************100%***********************]  1 of 1 completed\n",
            "Cummulative Strategy Returns for WMT: 0.134\n"
          ],
          "name": "stdout"
        },
        {
          "output_type": "display_data",
          "data": {
            "image/png": "[encoded data removed]",
            "text/plain": [
              "<Figure size 1008x504 with 1 Axes>"
            ]
          },
          "metadata": {
            "tags": [],
            "needs_background": "light"
          }
        }
      ]
    },
    {
      "cell_type": "code",
      "metadata": {
        "colab": {
          "base_uri": "https://localhost:8080/",
          "height": 754
        },
        "id": "HvbDk94LxSFo",
        "outputId": "845581ec-f6ee-402d-92f1-acd361592059"
      },
      "source": [
        "visualize_returns(cd_down, sma, lma, start, end)"
      ],
      "execution_count": 40,
      "outputs": [
        {
          "output_type": "stream",
          "text": [
            "[*********************100%***********************]  1 of 1 completed\n",
            "Cummulative Strategy Returns for RIDE: -0.649\n",
            "[*********************100%***********************]  1 of 1 completed\n",
            "Cummulative Strategy Returns for FOSL: -0.93\n",
            "[*********************100%***********************]  1 of 1 completed\n",
            "Cummulative Strategy Returns for KSS: -0.499\n",
            "[*********************100%***********************]  1 of 1 completed\n",
            "Cummulative Strategy Returns for ANF: 0.078\n",
            "[*********************100%***********************]  1 of 1 completed\n",
            "Cummulative Strategy Returns for RL: -0.379\n",
            "[*********************100%***********************]  1 of 1 completed\n",
            "Cummulative Strategy Returns for URBN: 1.167\n",
            "[*********************100%***********************]  1 of 1 completed\n",
            "Cummulative Strategy Returns for JWN: -0.178\n",
            "[*********************100%***********************]  1 of 1 completed\n",
            "Cummulative Strategy Returns for LOTZ: 0.27\n",
            "[*********************100%***********************]  1 of 1 completed\n",
            "Cummulative Strategy Returns for LCUT: -0.873\n"
          ],
          "name": "stdout"
        },
        {
          "output_type": "display_data",
          "data": {
            "image/png": "[encoded data removed]",
            "text/plain": [
              "<Figure size 1008x504 with 1 Axes>"
            ]
          },
          "metadata": {
            "tags": [],
            "needs_background": "light"
          }
        }
      ]
    },
    {
      "cell_type": "code",
      "metadata": {
        "colab": {
          "base_uri": "https://localhost:8080/",
          "height": 879
        },
        "id": "ptNbu8wZniuX",
        "outputId": "82874503-8fbf-4213-d8d6-bcab0dcd964d"
      },
      "source": [
        "test_optimize(cd, start, end, sma_range, lma_range)"
      ],
      "execution_count": 41,
      "outputs": [
        {
          "output_type": "stream",
          "text": [
            "[*********************100%***********************]  1 of 1 completed\n",
            "SMA value: 2 and LMA value: 60\n",
            "SMA value: 2 and LMA value: 65\n",
            "SMA value: 2 and LMA value: 70\n",
            "SMA value: 2 and LMA value: 75\n",
            "SMA value: 4 and LMA value: 60\n",
            "SMA value: 4 and LMA value: 65\n",
            "SMA value: 4 and LMA value: 70\n",
            "SMA value: 4 and LMA value: 75\n",
            "SMA value: 6 and LMA value: 60\n",
            "SMA value: 6 and LMA value: 65\n",
            "SMA value: 6 and LMA value: 70\n",
            "SMA value: 6 and LMA value: 75\n",
            "SMA value: 8 and LMA value: 60\n",
            "SMA value: 8 and LMA value: 65\n",
            "SMA value: 8 and LMA value: 70\n",
            "SMA value: 8 and LMA value: 75\n",
            "SMA value: 10 and LMA value: 60\n",
            "SMA value: 10 and LMA value: 65\n",
            "SMA value: 10 and LMA value: 70\n",
            "SMA value: 10 and LMA value: 75\n",
            "Cummulative strategy returns for BBQ: 2.154\n",
            "[*********************100%***********************]  1 of 1 completed\n",
            "SMA value: 2 and LMA value: 60\n",
            "SMA value: 2 and LMA value: 65\n",
            "SMA value: 2 and LMA value: 70\n",
            "SMA value: 2 and LMA value: 75\n",
            "SMA value: 4 and LMA value: 60\n",
            "SMA value: 4 and LMA value: 65\n",
            "SMA value: 4 and LMA value: 70\n",
            "SMA value: 4 and LMA value: 75\n",
            "SMA value: 6 and LMA value: 60\n",
            "SMA value: 6 and LMA value: 65\n",
            "SMA value: 6 and LMA value: 70\n",
            "SMA value: 6 and LMA value: 75\n"
          ],
          "name": "stdout"
        },
        {
          "output_type": "error",
          "ename": "IndexError",
          "evalue": "ignored",
          "traceback": [
            "\u001b[0;31m---------------------------------------------------------------------------\u001b[0m",
            "\u001b[0;31mIndexError\u001b[0m                                Traceback (most recent call last)",
            "\u001b[0;32m<ipython-input-41-5185c5d43e76>\u001b[0m in \u001b[0;36m<module>\u001b[0;34m()\u001b[0m\n\u001b[0;32m----> 1\u001b[0;31m \u001b[0mtest_optimize\u001b[0m\u001b[0;34m(\u001b[0m\u001b[0mcd\u001b[0m\u001b[0;34m,\u001b[0m \u001b[0mstart\u001b[0m\u001b[0;34m,\u001b[0m \u001b[0mend\u001b[0m\u001b[0;34m,\u001b[0m \u001b[0msma_range\u001b[0m\u001b[0;34m,\u001b[0m \u001b[0mlma_range\u001b[0m\u001b[0;34m)\u001b[0m\u001b[0;34m\u001b[0m\u001b[0;34m\u001b[0m\u001b[0m\n\u001b[0m",
            "\u001b[0;32m<ipython-input-22-edfc7a433e26>\u001b[0m in \u001b[0;36mtest_optimize\u001b[0;34m(stock_list, start_string, end_string, sma_range, lma_range)\u001b[0m\n\u001b[1;32m     82\u001b[0m         \u001b[0mdata\u001b[0m \u001b[0;34m=\u001b[0m \u001b[0myf\u001b[0m\u001b[0;34m.\u001b[0m\u001b[0mdownload\u001b[0m\u001b[0;34m(\u001b[0m\u001b[0mstock\u001b[0m\u001b[0;34m,\u001b[0m \u001b[0mstart\u001b[0m \u001b[0;34m=\u001b[0m \u001b[0mstart_string\u001b[0m\u001b[0;34m,\u001b[0m \u001b[0mend\u001b[0m \u001b[0;34m=\u001b[0m \u001b[0mend_string\u001b[0m\u001b[0;34m)\u001b[0m\u001b[0;34m\u001b[0m\u001b[0;34m\u001b[0m\u001b[0m\n\u001b[1;32m     83\u001b[0m \u001b[0;34m\u001b[0m\u001b[0m\n\u001b[0;32m---> 84\u001b[0;31m         \u001b[0mnet_returns\u001b[0m\u001b[0;34m,\u001b[0m \u001b[0mb_sma\u001b[0m\u001b[0;34m,\u001b[0m \u001b[0mb_lma\u001b[0m \u001b[0;34m=\u001b[0m \u001b[0moptimize\u001b[0m\u001b[0;34m(\u001b[0m\u001b[0mdata\u001b[0m\u001b[0;34m,\u001b[0m \u001b[0msma_range\u001b[0m\u001b[0;34m,\u001b[0m \u001b[0mlma_range\u001b[0m\u001b[0;34m)\u001b[0m\u001b[0;34m\u001b[0m\u001b[0;34m\u001b[0m\u001b[0m\n\u001b[0m\u001b[1;32m     85\u001b[0m \u001b[0;34m\u001b[0m\u001b[0m\n\u001b[1;32m     86\u001b[0m         \u001b[0mprint\u001b[0m\u001b[0;34m(\u001b[0m\u001b[0;34mf'Cummulative strategy returns for {stock}:'\u001b[0m\u001b[0;34m,\u001b[0m \u001b[0mnet_returns\u001b[0m\u001b[0;34m)\u001b[0m\u001b[0;34m\u001b[0m\u001b[0;34m\u001b[0m\u001b[0m\n",
            "\u001b[0;32m<ipython-input-22-edfc7a433e26>\u001b[0m in \u001b[0;36moptimize\u001b[0;34m(data, sma_range, lma_range)\u001b[0m\n\u001b[1;32m     65\u001b[0m \u001b[0;34m\u001b[0m\u001b[0m\n\u001b[1;32m     66\u001b[0m         \u001b[0mprint\u001b[0m\u001b[0;34m(\u001b[0m\u001b[0;34mf'SMA value: {sma_val} and LMA value: {lma_val}'\u001b[0m\u001b[0;34m)\u001b[0m\u001b[0;34m\u001b[0m\u001b[0;34m\u001b[0m\u001b[0m\n\u001b[0;32m---> 67\u001b[0;31m         \u001b[0mreturns\u001b[0m \u001b[0;34m=\u001b[0m \u001b[0mbacktest_strategy\u001b[0m\u001b[0;34m(\u001b[0m\u001b[0mdata\u001b[0m\u001b[0;34m,\u001b[0m \u001b[0msma_val\u001b[0m\u001b[0;34m,\u001b[0m \u001b[0mlma_val\u001b[0m\u001b[0;34m)\u001b[0m\u001b[0;34m\u001b[0m\u001b[0;34m\u001b[0m\u001b[0m\n\u001b[0m\u001b[1;32m     68\u001b[0m \u001b[0;34m\u001b[0m\u001b[0m\n\u001b[1;32m     69\u001b[0m         \u001b[0;32mif\u001b[0m \u001b[0mreturns\u001b[0m \u001b[0;34m>\u001b[0m \u001b[0mbest_returns\u001b[0m\u001b[0;34m:\u001b[0m\u001b[0;34m\u001b[0m\u001b[0;34m\u001b[0m\u001b[0m\n",
            "\u001b[0;32m<ipython-input-22-edfc7a433e26>\u001b[0m in \u001b[0;36mbacktest_strategy\u001b[0;34m(data, sma, lma)\u001b[0m\n\u001b[1;32m     13\u001b[0m     \u001b[0mcum_s_returns\u001b[0m \u001b[0;34m=\u001b[0m \u001b[0;34m(\u001b[0m\u001b[0mdata\u001b[0m\u001b[0;34m[\u001b[0m\u001b[0;34m'strategic_returns'\u001b[0m\u001b[0;34m]\u001b[0m\u001b[0;34m+\u001b[0m \u001b[0;36m1\u001b[0m\u001b[0;34m)\u001b[0m\u001b[0;34m.\u001b[0m\u001b[0mcumprod\u001b[0m\u001b[0;34m(\u001b[0m\u001b[0;34m)\u001b[0m\u001b[0;34m\u001b[0m\u001b[0;34m\u001b[0m\u001b[0m\n\u001b[1;32m     14\u001b[0m \u001b[0;34m\u001b[0m\u001b[0m\n\u001b[0;32m---> 15\u001b[0;31m     \u001b[0;32mreturn\u001b[0m \u001b[0mround\u001b[0m\u001b[0;34m(\u001b[0m\u001b[0mcum_s_returns\u001b[0m\u001b[0;34m.\u001b[0m\u001b[0miloc\u001b[0m\u001b[0;34m[\u001b[0m\u001b[0;34m-\u001b[0m\u001b[0;36m1\u001b[0m\u001b[0;34m]\u001b[0m \u001b[0;34m-\u001b[0m\u001b[0;36m1\u001b[0m\u001b[0;34m,\u001b[0m \u001b[0;36m3\u001b[0m\u001b[0;34m)\u001b[0m\u001b[0;34m\u001b[0m\u001b[0;34m\u001b[0m\u001b[0m\n\u001b[0m\u001b[1;32m     16\u001b[0m \u001b[0;34m\u001b[0m\u001b[0m\n\u001b[1;32m     17\u001b[0m \u001b[0;32mdef\u001b[0m \u001b[0mcumm_returns\u001b[0m\u001b[0;34m(\u001b[0m\u001b[0mticker_list\u001b[0m\u001b[0;34m,\u001b[0m \u001b[0msma\u001b[0m\u001b[0;34m,\u001b[0m \u001b[0mlma\u001b[0m\u001b[0;34m,\u001b[0m \u001b[0mstart_string\u001b[0m\u001b[0;34m,\u001b[0m \u001b[0mend_string\u001b[0m\u001b[0;34m)\u001b[0m\u001b[0;34m:\u001b[0m\u001b[0;34m\u001b[0m\u001b[0;34m\u001b[0m\u001b[0m\n",
            "\u001b[0;32m/usr/local/lib/python3.7/dist-packages/pandas/core/indexing.py\u001b[0m in \u001b[0;36m__getitem__\u001b[0;34m(self, key)\u001b[0m\n\u001b[1;32m    877\u001b[0m \u001b[0;34m\u001b[0m\u001b[0m\n\u001b[1;32m    878\u001b[0m             \u001b[0mmaybe_callable\u001b[0m \u001b[0;34m=\u001b[0m \u001b[0mcom\u001b[0m\u001b[0;34m.\u001b[0m\u001b[0mapply_if_callable\u001b[0m\u001b[0;34m(\u001b[0m\u001b[0mkey\u001b[0m\u001b[0;34m,\u001b[0m \u001b[0mself\u001b[0m\u001b[0;34m.\u001b[0m\u001b[0mobj\u001b[0m\u001b[0;34m)\u001b[0m\u001b[0;34m\u001b[0m\u001b[0;34m\u001b[0m\u001b[0m\n\u001b[0;32m--> 879\u001b[0;31m             \u001b[0;32mreturn\u001b[0m \u001b[0mself\u001b[0m\u001b[0;34m.\u001b[0m\u001b[0m_getitem_axis\u001b[0m\u001b[0;34m(\u001b[0m\u001b[0mmaybe_callable\u001b[0m\u001b[0;34m,\u001b[0m \u001b[0maxis\u001b[0m\u001b[0;34m=\u001b[0m\u001b[0maxis\u001b[0m\u001b[0;34m)\u001b[0m\u001b[0;34m\u001b[0m\u001b[0;34m\u001b[0m\u001b[0m\n\u001b[0m\u001b[1;32m    880\u001b[0m \u001b[0;34m\u001b[0m\u001b[0m\n\u001b[1;32m    881\u001b[0m     \u001b[0;32mdef\u001b[0m \u001b[0m_is_scalar_access\u001b[0m\u001b[0;34m(\u001b[0m\u001b[0mself\u001b[0m\u001b[0;34m,\u001b[0m \u001b[0mkey\u001b[0m\u001b[0;34m:\u001b[0m \u001b[0mTuple\u001b[0m\u001b[0;34m)\u001b[0m\u001b[0;34m:\u001b[0m\u001b[0;34m\u001b[0m\u001b[0;34m\u001b[0m\u001b[0m\n",
            "\u001b[0;32m/usr/local/lib/python3.7/dist-packages/pandas/core/indexing.py\u001b[0m in \u001b[0;36m_getitem_axis\u001b[0;34m(self, key, axis)\u001b[0m\n\u001b[1;32m   1494\u001b[0m \u001b[0;34m\u001b[0m\u001b[0m\n\u001b[1;32m   1495\u001b[0m             \u001b[0;31m# validate the location\u001b[0m\u001b[0;34m\u001b[0m\u001b[0;34m\u001b[0m\u001b[0;34m\u001b[0m\u001b[0m\n\u001b[0;32m-> 1496\u001b[0;31m             \u001b[0mself\u001b[0m\u001b[0;34m.\u001b[0m\u001b[0m_validate_integer\u001b[0m\u001b[0;34m(\u001b[0m\u001b[0mkey\u001b[0m\u001b[0;34m,\u001b[0m \u001b[0maxis\u001b[0m\u001b[0;34m)\u001b[0m\u001b[0;34m\u001b[0m\u001b[0;34m\u001b[0m\u001b[0m\n\u001b[0m\u001b[1;32m   1497\u001b[0m \u001b[0;34m\u001b[0m\u001b[0m\n\u001b[1;32m   1498\u001b[0m             \u001b[0;32mreturn\u001b[0m \u001b[0mself\u001b[0m\u001b[0;34m.\u001b[0m\u001b[0mobj\u001b[0m\u001b[0;34m.\u001b[0m\u001b[0m_ixs\u001b[0m\u001b[0;34m(\u001b[0m\u001b[0mkey\u001b[0m\u001b[0;34m,\u001b[0m \u001b[0maxis\u001b[0m\u001b[0;34m=\u001b[0m\u001b[0maxis\u001b[0m\u001b[0;34m)\u001b[0m\u001b[0;34m\u001b[0m\u001b[0;34m\u001b[0m\u001b[0m\n",
            "\u001b[0;32m/usr/local/lib/python3.7/dist-packages/pandas/core/indexing.py\u001b[0m in \u001b[0;36m_validate_integer\u001b[0;34m(self, key, axis)\u001b[0m\n\u001b[1;32m   1435\u001b[0m         \u001b[0mlen_axis\u001b[0m \u001b[0;34m=\u001b[0m \u001b[0mlen\u001b[0m\u001b[0;34m(\u001b[0m\u001b[0mself\u001b[0m\u001b[0;34m.\u001b[0m\u001b[0mobj\u001b[0m\u001b[0;34m.\u001b[0m\u001b[0m_get_axis\u001b[0m\u001b[0;34m(\u001b[0m\u001b[0maxis\u001b[0m\u001b[0;34m)\u001b[0m\u001b[0;34m)\u001b[0m\u001b[0;34m\u001b[0m\u001b[0;34m\u001b[0m\u001b[0m\n\u001b[1;32m   1436\u001b[0m         \u001b[0;32mif\u001b[0m \u001b[0mkey\u001b[0m \u001b[0;34m>=\u001b[0m \u001b[0mlen_axis\u001b[0m \u001b[0;32mor\u001b[0m \u001b[0mkey\u001b[0m \u001b[0;34m<\u001b[0m \u001b[0;34m-\u001b[0m\u001b[0mlen_axis\u001b[0m\u001b[0;34m:\u001b[0m\u001b[0;34m\u001b[0m\u001b[0;34m\u001b[0m\u001b[0m\n\u001b[0;32m-> 1437\u001b[0;31m             \u001b[0;32mraise\u001b[0m \u001b[0mIndexError\u001b[0m\u001b[0;34m(\u001b[0m\u001b[0;34m\"single positional indexer is out-of-bounds\"\u001b[0m\u001b[0;34m)\u001b[0m\u001b[0;34m\u001b[0m\u001b[0;34m\u001b[0m\u001b[0m\n\u001b[0m\u001b[1;32m   1438\u001b[0m \u001b[0;34m\u001b[0m\u001b[0m\n\u001b[1;32m   1439\u001b[0m     \u001b[0;31m# -------------------------------------------------------------------\u001b[0m\u001b[0;34m\u001b[0m\u001b[0;34m\u001b[0m\u001b[0;34m\u001b[0m\u001b[0m\n",
            "\u001b[0;31mIndexError\u001b[0m: single positional indexer is out-of-bounds"
          ]
        }
      ]
    },
    {
      "cell_type": "markdown",
      "metadata": {
        "id": "rbbTQ3dfyfps"
      },
      "source": [
        "#Real Estate"
      ]
    },
    {
      "cell_type": "code",
      "metadata": {
        "id": "jDebzHCxyfPa"
      },
      "source": [
        "real_estate = ['O', 'SPG', 'PSA', 'DLR', 'AMT', 'STAG', 'NTP', 'IHT',\n",
        "               'AEI', 'CBRE', 'QK', 'HT', 'SKT', 'XHR']"
      ],
      "execution_count": 42,
      "outputs": []
    },
    {
      "cell_type": "code",
      "metadata": {
        "colab": {
          "base_uri": "https://localhost:8080/",
          "height": 1000
        },
        "id": "ELCqVWNHnmt4",
        "outputId": "49c44d72-a439-46cf-b228-3fa24bb53f67"
      },
      "source": [
        "test_optimize(real_estate, start, end, sma_range, lma_range)"
      ],
      "execution_count": null,
      "outputs": [
        {
          "output_type": "stream",
          "text": [
            "[*********************100%***********************]  1 of 1 completed\n",
            "SMA value: 2 and LMA value: 60\n",
            "SMA value: 2 and LMA value: 65\n",
            "SMA value: 2 and LMA value: 70\n",
            "SMA value: 2 and LMA value: 75\n",
            "SMA value: 4 and LMA value: 60\n",
            "SMA value: 4 and LMA value: 65\n",
            "SMA value: 4 and LMA value: 70\n",
            "SMA value: 4 and LMA value: 75\n",
            "SMA value: 6 and LMA value: 60\n",
            "SMA value: 6 and LMA value: 65\n",
            "SMA value: 6 and LMA value: 70\n",
            "SMA value: 6 and LMA value: 75\n",
            "SMA value: 8 and LMA value: 60\n",
            "SMA value: 8 and LMA value: 65\n",
            "SMA value: 8 and LMA value: 70\n",
            "SMA value: 8 and LMA value: 75\n",
            "SMA value: 10 and LMA value: 60\n",
            "SMA value: 10 and LMA value: 65\n",
            "SMA value: 10 and LMA value: 70\n",
            "SMA value: 10 and LMA value: 75\n",
            "Cummulative strategy returns for O: 0.075\n",
            "[*********************100%***********************]  1 of 1 completed\n",
            "SMA value: 2 and LMA value: 60\n",
            "SMA value: 2 and LMA value: 65\n",
            "SMA value: 2 and LMA value: 70\n",
            "SMA value: 2 and LMA value: 75\n",
            "SMA value: 4 and LMA value: 60\n",
            "SMA value: 4 and LMA value: 65\n",
            "SMA value: 4 and LMA value: 70\n",
            "SMA value: 4 and LMA value: 75\n",
            "SMA value: 6 and LMA value: 60\n",
            "SMA value: 6 and LMA value: 65\n",
            "SMA value: 6 and LMA value: 70\n",
            "SMA value: 6 and LMA value: 75\n",
            "SMA value: 8 and LMA value: 60\n",
            "SMA value: 8 and LMA value: 65\n",
            "SMA value: 8 and LMA value: 70\n",
            "SMA value: 8 and LMA value: 75\n",
            "SMA value: 10 and LMA value: 60\n",
            "SMA value: 10 and LMA value: 65\n",
            "SMA value: 10 and LMA value: 70\n",
            "SMA value: 10 and LMA value: 75\n",
            "Cummulative strategy returns for SPG: 0.486\n",
            "[*********************100%***********************]  1 of 1 completed\n",
            "SMA value: 2 and LMA value: 60\n",
            "SMA value: 2 and LMA value: 65\n",
            "SMA value: 2 and LMA value: 70\n",
            "SMA value: 2 and LMA value: 75\n",
            "SMA value: 4 and LMA value: 60\n",
            "SMA value: 4 and LMA value: 65\n",
            "SMA value: 4 and LMA value: 70\n",
            "SMA value: 4 and LMA value: 75\n",
            "SMA value: 6 and LMA value: 60\n",
            "SMA value: 6 and LMA value: 65\n",
            "SMA value: 6 and LMA value: 70\n",
            "SMA value: 6 and LMA value: 75\n",
            "SMA value: 8 and LMA value: 60\n",
            "SMA value: 8 and LMA value: 65\n",
            "SMA value: 8 and LMA value: 70\n",
            "SMA value: 8 and LMA value: 75\n",
            "SMA value: 10 and LMA value: 60\n",
            "SMA value: 10 and LMA value: 65\n",
            "SMA value: 10 and LMA value: 70\n",
            "SMA value: 10 and LMA value: 75\n",
            "Cummulative strategy returns for PSA: 0.074\n",
            "[*********************100%***********************]  1 of 1 completed\n",
            "SMA value: 2 and LMA value: 60\n",
            "SMA value: 2 and LMA value: 65\n",
            "SMA value: 2 and LMA value: 70\n",
            "SMA value: 2 and LMA value: 75\n",
            "SMA value: 4 and LMA value: 60\n",
            "SMA value: 4 and LMA value: 65\n",
            "SMA value: 4 and LMA value: 70\n",
            "SMA value: 4 and LMA value: 75\n",
            "SMA value: 6 and LMA value: 60\n",
            "SMA value: 6 and LMA value: 65\n",
            "SMA value: 6 and LMA value: 70\n",
            "SMA value: 6 and LMA value: 75\n",
            "SMA value: 8 and LMA value: 60\n",
            "SMA value: 8 and LMA value: 65\n",
            "SMA value: 8 and LMA value: 70\n",
            "SMA value: 8 and LMA value: 75\n",
            "SMA value: 10 and LMA value: 60\n",
            "SMA value: 10 and LMA value: 65\n",
            "SMA value: 10 and LMA value: 70\n",
            "SMA value: 10 and LMA value: 75\n",
            "Cummulative strategy returns for DLR: 0.034\n",
            "[*********************100%***********************]  1 of 1 completed\n",
            "SMA value: 2 and LMA value: 60\n",
            "SMA value: 2 and LMA value: 65\n",
            "SMA value: 2 and LMA value: 70\n",
            "SMA value: 2 and LMA value: 75\n",
            "SMA value: 4 and LMA value: 60\n",
            "SMA value: 4 and LMA value: 65\n",
            "SMA value: 4 and LMA value: 70\n",
            "SMA value: 4 and LMA value: 75\n",
            "SMA value: 6 and LMA value: 60\n",
            "SMA value: 6 and LMA value: 65\n",
            "SMA value: 6 and LMA value: 70\n",
            "SMA value: 6 and LMA value: 75\n",
            "SMA value: 8 and LMA value: 60\n",
            "SMA value: 8 and LMA value: 65\n",
            "SMA value: 8 and LMA value: 70\n",
            "SMA value: 8 and LMA value: 75\n",
            "SMA value: 10 and LMA value: 60\n",
            "SMA value: 10 and LMA value: 65\n",
            "SMA value: 10 and LMA value: 70\n",
            "SMA value: 10 and LMA value: 75\n",
            "Cummulative strategy returns for AMT: 0.061\n",
            "[*********************100%***********************]  1 of 1 completed\n",
            "SMA value: 2 and LMA value: 60\n",
            "SMA value: 2 and LMA value: 65\n",
            "SMA value: 2 and LMA value: 70\n",
            "SMA value: 2 and LMA value: 75\n",
            "SMA value: 4 and LMA value: 60\n",
            "SMA value: 4 and LMA value: 65\n",
            "SMA value: 4 and LMA value: 70\n",
            "SMA value: 4 and LMA value: 75\n",
            "SMA value: 6 and LMA value: 60\n",
            "SMA value: 6 and LMA value: 65\n",
            "SMA value: 6 and LMA value: 70\n",
            "SMA value: 6 and LMA value: 75\n",
            "SMA value: 8 and LMA value: 60\n",
            "SMA value: 8 and LMA value: 65\n",
            "SMA value: 8 and LMA value: 70\n",
            "SMA value: 8 and LMA value: 75\n",
            "SMA value: 10 and LMA value: 60\n",
            "SMA value: 10 and LMA value: 65\n",
            "SMA value: 10 and LMA value: 70\n",
            "SMA value: 10 and LMA value: 75\n",
            "Cummulative strategy returns for STAG: 0.15\n",
            "[*********************100%***********************]  1 of 1 completed\n",
            "SMA value: 2 and LMA value: 60\n",
            "SMA value: 2 and LMA value: 65\n",
            "SMA value: 2 and LMA value: 70\n",
            "SMA value: 2 and LMA value: 75\n",
            "SMA value: 4 and LMA value: 60\n",
            "SMA value: 4 and LMA value: 65\n",
            "SMA value: 4 and LMA value: 70\n",
            "SMA value: 4 and LMA value: 75\n",
            "SMA value: 6 and LMA value: 60\n",
            "SMA value: 6 and LMA value: 65\n",
            "SMA value: 6 and LMA value: 70\n",
            "SMA value: 6 and LMA value: 75\n",
            "SMA value: 8 and LMA value: 60\n",
            "SMA value: 8 and LMA value: 65\n",
            "SMA value: 8 and LMA value: 70\n",
            "SMA value: 8 and LMA value: 75\n",
            "SMA value: 10 and LMA value: 60\n",
            "SMA value: 10 and LMA value: 65\n",
            "SMA value: 10 and LMA value: 70\n",
            "SMA value: 10 and LMA value: 75\n",
            "Cummulative strategy returns for NTP: 7.224\n",
            "[*********************100%***********************]  1 of 1 completed\n",
            "SMA value: 2 and LMA value: 60\n",
            "SMA value: 2 and LMA value: 65\n",
            "SMA value: 2 and LMA value: 70\n",
            "SMA value: 2 and LMA value: 75\n",
            "SMA value: 4 and LMA value: 60\n",
            "SMA value: 4 and LMA value: 65\n",
            "SMA value: 4 and LMA value: 70\n",
            "SMA value: 4 and LMA value: 75\n",
            "SMA value: 6 and LMA value: 60\n",
            "SMA value: 6 and LMA value: 65\n",
            "SMA value: 6 and LMA value: 70\n",
            "SMA value: 6 and LMA value: 75\n",
            "SMA value: 8 and LMA value: 60\n",
            "SMA value: 8 and LMA value: 65\n",
            "SMA value: 8 and LMA value: 70\n",
            "SMA value: 8 and LMA value: 75\n",
            "SMA value: 10 and LMA value: 60\n",
            "SMA value: 10 and LMA value: 65\n",
            "SMA value: 10 and LMA value: 70\n",
            "SMA value: 10 and LMA value: 75\n",
            "Cummulative strategy returns for IHT: -0.838\n",
            "[*********************100%***********************]  1 of 1 completed\n",
            "SMA value: 2 and LMA value: 60\n",
            "SMA value: 2 and LMA value: 65\n"
          ],
          "name": "stdout"
        },
        {
          "output_type": "error",
          "ename": "IndexError",
          "evalue": "ignored",
          "traceback": [
            "\u001b[0;31m---------------------------------------------------------------------------\u001b[0m",
            "\u001b[0;31mIndexError\u001b[0m                                Traceback (most recent call last)",
            "\u001b[0;32m<ipython-input-44-d29d3ca8858d>\u001b[0m in \u001b[0;36m<module>\u001b[0;34m()\u001b[0m\n\u001b[0;32m----> 1\u001b[0;31m \u001b[0mtest_optimize\u001b[0m\u001b[0;34m(\u001b[0m\u001b[0mreal_estate\u001b[0m\u001b[0;34m,\u001b[0m \u001b[0mstart\u001b[0m\u001b[0;34m,\u001b[0m \u001b[0mend\u001b[0m\u001b[0;34m,\u001b[0m \u001b[0msma_range\u001b[0m\u001b[0;34m,\u001b[0m \u001b[0mlma_range\u001b[0m\u001b[0;34m)\u001b[0m\u001b[0;34m\u001b[0m\u001b[0;34m\u001b[0m\u001b[0m\n\u001b[0m",
            "\u001b[0;32m<ipython-input-22-edfc7a433e26>\u001b[0m in \u001b[0;36mtest_optimize\u001b[0;34m(stock_list, start_string, end_string, sma_range, lma_range)\u001b[0m\n\u001b[1;32m     82\u001b[0m         \u001b[0mdata\u001b[0m \u001b[0;34m=\u001b[0m \u001b[0myf\u001b[0m\u001b[0;34m.\u001b[0m\u001b[0mdownload\u001b[0m\u001b[0;34m(\u001b[0m\u001b[0mstock\u001b[0m\u001b[0;34m,\u001b[0m \u001b[0mstart\u001b[0m \u001b[0;34m=\u001b[0m \u001b[0mstart_string\u001b[0m\u001b[0;34m,\u001b[0m \u001b[0mend\u001b[0m \u001b[0;34m=\u001b[0m \u001b[0mend_string\u001b[0m\u001b[0;34m)\u001b[0m\u001b[0;34m\u001b[0m\u001b[0;34m\u001b[0m\u001b[0m\n\u001b[1;32m     83\u001b[0m \u001b[0;34m\u001b[0m\u001b[0m\n\u001b[0;32m---> 84\u001b[0;31m         \u001b[0mnet_returns\u001b[0m\u001b[0;34m,\u001b[0m \u001b[0mb_sma\u001b[0m\u001b[0;34m,\u001b[0m \u001b[0mb_lma\u001b[0m \u001b[0;34m=\u001b[0m \u001b[0moptimize\u001b[0m\u001b[0;34m(\u001b[0m\u001b[0mdata\u001b[0m\u001b[0;34m,\u001b[0m \u001b[0msma_range\u001b[0m\u001b[0;34m,\u001b[0m \u001b[0mlma_range\u001b[0m\u001b[0;34m)\u001b[0m\u001b[0;34m\u001b[0m\u001b[0;34m\u001b[0m\u001b[0m\n\u001b[0m\u001b[1;32m     85\u001b[0m \u001b[0;34m\u001b[0m\u001b[0m\n\u001b[1;32m     86\u001b[0m         \u001b[0mprint\u001b[0m\u001b[0;34m(\u001b[0m\u001b[0;34mf'Cummulative strategy returns for {stock}:'\u001b[0m\u001b[0;34m,\u001b[0m \u001b[0mnet_returns\u001b[0m\u001b[0;34m)\u001b[0m\u001b[0;34m\u001b[0m\u001b[0;34m\u001b[0m\u001b[0m\n",
            "\u001b[0;32m<ipython-input-22-edfc7a433e26>\u001b[0m in \u001b[0;36moptimize\u001b[0;34m(data, sma_range, lma_range)\u001b[0m\n\u001b[1;32m     65\u001b[0m \u001b[0;34m\u001b[0m\u001b[0m\n\u001b[1;32m     66\u001b[0m         \u001b[0mprint\u001b[0m\u001b[0;34m(\u001b[0m\u001b[0;34mf'SMA value: {sma_val} and LMA value: {lma_val}'\u001b[0m\u001b[0;34m)\u001b[0m\u001b[0;34m\u001b[0m\u001b[0;34m\u001b[0m\u001b[0m\n\u001b[0;32m---> 67\u001b[0;31m         \u001b[0mreturns\u001b[0m \u001b[0;34m=\u001b[0m \u001b[0mbacktest_strategy\u001b[0m\u001b[0;34m(\u001b[0m\u001b[0mdata\u001b[0m\u001b[0;34m,\u001b[0m \u001b[0msma_val\u001b[0m\u001b[0;34m,\u001b[0m \u001b[0mlma_val\u001b[0m\u001b[0;34m)\u001b[0m\u001b[0;34m\u001b[0m\u001b[0;34m\u001b[0m\u001b[0m\n\u001b[0m\u001b[1;32m     68\u001b[0m \u001b[0;34m\u001b[0m\u001b[0m\n\u001b[1;32m     69\u001b[0m         \u001b[0;32mif\u001b[0m \u001b[0mreturns\u001b[0m \u001b[0;34m>\u001b[0m \u001b[0mbest_returns\u001b[0m\u001b[0;34m:\u001b[0m\u001b[0;34m\u001b[0m\u001b[0;34m\u001b[0m\u001b[0m\n",
            "\u001b[0;32m<ipython-input-22-edfc7a433e26>\u001b[0m in \u001b[0;36mbacktest_strategy\u001b[0;34m(data, sma, lma)\u001b[0m\n\u001b[1;32m     13\u001b[0m     \u001b[0mcum_s_returns\u001b[0m \u001b[0;34m=\u001b[0m \u001b[0;34m(\u001b[0m\u001b[0mdata\u001b[0m\u001b[0;34m[\u001b[0m\u001b[0;34m'strategic_returns'\u001b[0m\u001b[0;34m]\u001b[0m\u001b[0;34m+\u001b[0m \u001b[0;36m1\u001b[0m\u001b[0;34m)\u001b[0m\u001b[0;34m.\u001b[0m\u001b[0mcumprod\u001b[0m\u001b[0;34m(\u001b[0m\u001b[0;34m)\u001b[0m\u001b[0;34m\u001b[0m\u001b[0;34m\u001b[0m\u001b[0m\n\u001b[1;32m     14\u001b[0m \u001b[0;34m\u001b[0m\u001b[0m\n\u001b[0;32m---> 15\u001b[0;31m     \u001b[0;32mreturn\u001b[0m \u001b[0mround\u001b[0m\u001b[0;34m(\u001b[0m\u001b[0mcum_s_returns\u001b[0m\u001b[0;34m.\u001b[0m\u001b[0miloc\u001b[0m\u001b[0;34m[\u001b[0m\u001b[0;34m-\u001b[0m\u001b[0;36m1\u001b[0m\u001b[0;34m]\u001b[0m \u001b[0;34m-\u001b[0m\u001b[0;36m1\u001b[0m\u001b[0;34m,\u001b[0m \u001b[0;36m3\u001b[0m\u001b[0;34m)\u001b[0m\u001b[0;34m\u001b[0m\u001b[0;34m\u001b[0m\u001b[0m\n\u001b[0m\u001b[1;32m     16\u001b[0m \u001b[0;34m\u001b[0m\u001b[0m\n\u001b[1;32m     17\u001b[0m \u001b[0;32mdef\u001b[0m \u001b[0mcumm_returns\u001b[0m\u001b[0;34m(\u001b[0m\u001b[0mticker_list\u001b[0m\u001b[0;34m,\u001b[0m \u001b[0msma\u001b[0m\u001b[0;34m,\u001b[0m \u001b[0mlma\u001b[0m\u001b[0;34m,\u001b[0m \u001b[0mstart_string\u001b[0m\u001b[0;34m,\u001b[0m \u001b[0mend_string\u001b[0m\u001b[0;34m)\u001b[0m\u001b[0;34m:\u001b[0m\u001b[0;34m\u001b[0m\u001b[0;34m\u001b[0m\u001b[0m\n",
            "\u001b[0;32m/usr/local/lib/python3.7/dist-packages/pandas/core/indexing.py\u001b[0m in \u001b[0;36m__getitem__\u001b[0;34m(self, key)\u001b[0m\n\u001b[1;32m    877\u001b[0m \u001b[0;34m\u001b[0m\u001b[0m\n\u001b[1;32m    878\u001b[0m             \u001b[0mmaybe_callable\u001b[0m \u001b[0;34m=\u001b[0m \u001b[0mcom\u001b[0m\u001b[0;34m.\u001b[0m\u001b[0mapply_if_callable\u001b[0m\u001b[0;34m(\u001b[0m\u001b[0mkey\u001b[0m\u001b[0;34m,\u001b[0m \u001b[0mself\u001b[0m\u001b[0;34m.\u001b[0m\u001b[0mobj\u001b[0m\u001b[0;34m)\u001b[0m\u001b[0;34m\u001b[0m\u001b[0;34m\u001b[0m\u001b[0m\n\u001b[0;32m--> 879\u001b[0;31m             \u001b[0;32mreturn\u001b[0m \u001b[0mself\u001b[0m\u001b[0;34m.\u001b[0m\u001b[0m_getitem_axis\u001b[0m\u001b[0;34m(\u001b[0m\u001b[0mmaybe_callable\u001b[0m\u001b[0;34m,\u001b[0m \u001b[0maxis\u001b[0m\u001b[0;34m=\u001b[0m\u001b[0maxis\u001b[0m\u001b[0;34m)\u001b[0m\u001b[0;34m\u001b[0m\u001b[0;34m\u001b[0m\u001b[0m\n\u001b[0m\u001b[1;32m    880\u001b[0m \u001b[0;34m\u001b[0m\u001b[0m\n\u001b[1;32m    881\u001b[0m     \u001b[0;32mdef\u001b[0m \u001b[0m_is_scalar_access\u001b[0m\u001b[0;34m(\u001b[0m\u001b[0mself\u001b[0m\u001b[0;34m,\u001b[0m \u001b[0mkey\u001b[0m\u001b[0;34m:\u001b[0m \u001b[0mTuple\u001b[0m\u001b[0;34m)\u001b[0m\u001b[0;34m:\u001b[0m\u001b[0;34m\u001b[0m\u001b[0;34m\u001b[0m\u001b[0m\n",
            "\u001b[0;32m/usr/local/lib/python3.7/dist-packages/pandas/core/indexing.py\u001b[0m in \u001b[0;36m_getitem_axis\u001b[0;34m(self, key, axis)\u001b[0m\n\u001b[1;32m   1494\u001b[0m \u001b[0;34m\u001b[0m\u001b[0m\n\u001b[1;32m   1495\u001b[0m             \u001b[0;31m# validate the location\u001b[0m\u001b[0;34m\u001b[0m\u001b[0;34m\u001b[0m\u001b[0;34m\u001b[0m\u001b[0m\n\u001b[0;32m-> 1496\u001b[0;31m             \u001b[0mself\u001b[0m\u001b[0;34m.\u001b[0m\u001b[0m_validate_integer\u001b[0m\u001b[0;34m(\u001b[0m\u001b[0mkey\u001b[0m\u001b[0;34m,\u001b[0m \u001b[0maxis\u001b[0m\u001b[0;34m)\u001b[0m\u001b[0;34m\u001b[0m\u001b[0;34m\u001b[0m\u001b[0m\n\u001b[0m\u001b[1;32m   1497\u001b[0m \u001b[0;34m\u001b[0m\u001b[0m\n\u001b[1;32m   1498\u001b[0m             \u001b[0;32mreturn\u001b[0m \u001b[0mself\u001b[0m\u001b[0;34m.\u001b[0m\u001b[0mobj\u001b[0m\u001b[0;34m.\u001b[0m\u001b[0m_ixs\u001b[0m\u001b[0;34m(\u001b[0m\u001b[0mkey\u001b[0m\u001b[0;34m,\u001b[0m \u001b[0maxis\u001b[0m\u001b[0;34m=\u001b[0m\u001b[0maxis\u001b[0m\u001b[0;34m)\u001b[0m\u001b[0;34m\u001b[0m\u001b[0;34m\u001b[0m\u001b[0m\n",
            "\u001b[0;32m/usr/local/lib/python3.7/dist-packages/pandas/core/indexing.py\u001b[0m in \u001b[0;36m_validate_integer\u001b[0;34m(self, key, axis)\u001b[0m\n\u001b[1;32m   1435\u001b[0m         \u001b[0mlen_axis\u001b[0m \u001b[0;34m=\u001b[0m \u001b[0mlen\u001b[0m\u001b[0;34m(\u001b[0m\u001b[0mself\u001b[0m\u001b[0;34m.\u001b[0m\u001b[0mobj\u001b[0m\u001b[0;34m.\u001b[0m\u001b[0m_get_axis\u001b[0m\u001b[0;34m(\u001b[0m\u001b[0maxis\u001b[0m\u001b[0;34m)\u001b[0m\u001b[0;34m)\u001b[0m\u001b[0;34m\u001b[0m\u001b[0;34m\u001b[0m\u001b[0m\n\u001b[1;32m   1436\u001b[0m         \u001b[0;32mif\u001b[0m \u001b[0mkey\u001b[0m \u001b[0;34m>=\u001b[0m \u001b[0mlen_axis\u001b[0m \u001b[0;32mor\u001b[0m \u001b[0mkey\u001b[0m \u001b[0;34m<\u001b[0m \u001b[0;34m-\u001b[0m\u001b[0mlen_axis\u001b[0m\u001b[0;34m:\u001b[0m\u001b[0;34m\u001b[0m\u001b[0;34m\u001b[0m\u001b[0m\n\u001b[0;32m-> 1437\u001b[0;31m             \u001b[0;32mraise\u001b[0m \u001b[0mIndexError\u001b[0m\u001b[0;34m(\u001b[0m\u001b[0;34m\"single positional indexer is out-of-bounds\"\u001b[0m\u001b[0;34m)\u001b[0m\u001b[0;34m\u001b[0m\u001b[0;34m\u001b[0m\u001b[0m\n\u001b[0m\u001b[1;32m   1438\u001b[0m \u001b[0;34m\u001b[0m\u001b[0m\n\u001b[1;32m   1439\u001b[0m     \u001b[0;31m# -------------------------------------------------------------------\u001b[0m\u001b[0;34m\u001b[0m\u001b[0;34m\u001b[0m\u001b[0;34m\u001b[0m\u001b[0m\n",
            "\u001b[0;31mIndexError\u001b[0m: single positional indexer is out-of-bounds"
          ]
        }
      ]
    },
    {
      "cell_type": "code",
      "metadata": {
        "colab": {
          "base_uri": "https://localhost:8080/",
          "height": 919
        },
        "id": "VDsXw5SC3XzC",
        "outputId": "98ceddc9-5d95-49bc-da71-dfe036320c83"
      },
      "source": [
        "visualize_returns(real_estate, sma, lma, start, end)"
      ],
      "execution_count": null,
      "outputs": [
        {
          "output_type": "stream",
          "text": [
            "[*********************100%***********************]  1 of 1 completed\n",
            "Cummulative Strategy Returns for O: -0.32\n",
            "[*********************100%***********************]  1 of 1 completed\n",
            "Cummulative Strategy Returns for SPG: -0.474\n",
            "[*********************100%***********************]  1 of 1 completed\n",
            "Cummulative Strategy Returns for PSA: -0.218\n",
            "[*********************100%***********************]  1 of 1 completed\n",
            "Cummulative Strategy Returns for DLR: -0.342\n",
            "[*********************100%***********************]  1 of 1 completed\n",
            "Cummulative Strategy Returns for AMT: -0.442\n",
            "[*********************100%***********************]  1 of 1 completed\n",
            "Cummulative Strategy Returns for STAG: 0.478\n",
            "[*********************100%***********************]  1 of 1 completed\n",
            "Cummulative Strategy Returns for NTP: 2.814\n",
            "[*********************100%***********************]  1 of 1 completed\n",
            "Cummulative Strategy Returns for IHT: -0.994\n",
            "[*********************100%***********************]  1 of 1 completed\n",
            "Cummulative Strategy Returns for AEI: 0.343\n",
            "[*********************100%***********************]  1 of 1 completed\n",
            "Cummulative Strategy Returns for CBRE: -0.208\n",
            "[*********************100%***********************]  1 of 1 completed\n",
            "Cummulative Strategy Returns for QK: 1.094\n",
            "[*********************100%***********************]  1 of 1 completed\n",
            "Cummulative Strategy Returns for HT: -0.808\n",
            "[*********************100%***********************]  1 of 1 completed\n",
            "Cummulative Strategy Returns for SKT: 0.003\n",
            "[*********************100%***********************]  1 of 1 completed\n",
            "Cummulative Strategy Returns for XHR: -0.303\n"
          ],
          "name": "stdout"
        },
        {
          "output_type": "display_data",
          "data": {
            "image/png": "[encoded data removed]",
            "text/plain": [
              "<Figure size 1008x504 with 1 Axes>"
            ]
          },
          "metadata": {
            "tags": [],
            "needs_background": "light"
          }
        }
      ]
    },
    {
      "cell_type": "markdown",
      "metadata": {
        "id": "lyQsw_v9XACL"
      },
      "source": [
        "#Materials"
      ]
    },
    {
      "cell_type": "code",
      "metadata": {
        "id": "DQbJxMjZydIu"
      },
      "source": [
        "materials=['VALE', 'HUN', 'SCCO', 'FCX', 'ECL', 'APD', 'DD', 'XLB', 'CE', 'NEU', 'SCCO',\n",
        "           'NUE', 'RPM', 'CC', 'OLN', 'XLB', 'RIO', 'LYB', 'IP', ]"
      ],
      "execution_count": 45,
      "outputs": []
    },
    {
      "cell_type": "code",
      "metadata": {
        "colab": {
          "base_uri": "https://localhost:8080/",
          "height": 1000
        },
        "id": "GrPW2Xla3Yiu",
        "outputId": "598e492a-b3f5-4745-f0bd-9f39b011a434"
      },
      "source": [
        "visualize_returns(materials, sma, lma, start, end)"
      ],
      "execution_count": 46,
      "outputs": [
        {
          "output_type": "stream",
          "text": [
            "[*********************100%***********************]  1 of 1 completed\n",
            "Cummulative Strategy Returns for VALE: -0.209\n",
            "[*********************100%***********************]  1 of 1 completed\n",
            "Cummulative Strategy Returns for HUN: 0.928\n",
            "[*********************100%***********************]  1 of 1 completed\n",
            "Cummulative Strategy Returns for SCCO: 1.859\n",
            "[*********************100%***********************]  1 of 1 completed\n",
            "Cummulative Strategy Returns for FCX: 1.056\n",
            "[*********************100%***********************]  1 of 1 completed\n",
            "Cummulative Strategy Returns for ECL: -0.624\n",
            "[*********************100%***********************]  1 of 1 completed\n",
            "Cummulative Strategy Returns for APD: -0.371\n",
            "[*********************100%***********************]  1 of 1 completed\n",
            "Cummulative Strategy Returns for DD: -0.413\n",
            "[*********************100%***********************]  1 of 1 completed\n",
            "Cummulative Strategy Returns for XLB: 0.207\n",
            "[*********************100%***********************]  1 of 1 completed\n",
            "Cummulative Strategy Returns for CE: 1.729\n",
            "[*********************100%***********************]  1 of 1 completed\n",
            "Cummulative Strategy Returns for NEU: -0.43\n",
            "[*********************100%***********************]  1 of 1 completed\n",
            "Cummulative Strategy Returns for SCCO: 1.859\n",
            "[*********************100%***********************]  1 of 1 completed\n",
            "Cummulative Strategy Returns for NUE: -0.334\n",
            "[*********************100%***********************]  1 of 1 completed\n",
            "Cummulative Strategy Returns for RPM: -0.314\n",
            "[*********************100%***********************]  1 of 1 completed\n",
            "Cummulative Strategy Returns for CC: 7.007\n",
            "[*********************100%***********************]  1 of 1 completed\n",
            "Cummulative Strategy Returns for OLN: -0.553\n",
            "[*********************100%***********************]  1 of 1 completed\n",
            "Cummulative Strategy Returns for XLB: 0.207\n",
            "[*********************100%***********************]  1 of 1 completed\n",
            "Cummulative Strategy Returns for RIO: -0.105\n",
            "[*********************100%***********************]  1 of 1 completed\n",
            "Cummulative Strategy Returns for LYB: 1.098\n",
            "[*********************100%***********************]  1 of 1 completed\n",
            "Cummulative Strategy Returns for IP: 0.119\n"
          ],
          "name": "stdout"
        },
        {
          "output_type": "display_data",
          "data": {
            "image/png": "[encoded data removed]",
            "text/plain": [
              "<Figure size 1008x504 with 1 Axes>"
            ]
          },
          "metadata": {
            "tags": [],
            "needs_background": "light"
          }
        }
      ]
    },
    {
      "cell_type": "code",
      "metadata": {
        "colab": {
          "base_uri": "https://localhost:8080/"
        },
        "id": "aWQY2Amdnq-O",
        "outputId": "22c55cf5-d124-42d3-f44b-fff7a366fd93"
      },
      "source": [
        "test_optimize(materials, start, end, sma_range, lma_range)"
      ],
      "execution_count": 47,
      "outputs": [
        {
          "output_type": "stream",
          "text": [
            "[*********************100%***********************]  1 of 1 completed\n",
            "SMA value: 2 and LMA value: 60\n",
            "SMA value: 2 and LMA value: 65\n",
            "SMA value: 2 and LMA value: 70\n",
            "SMA value: 2 and LMA value: 75\n",
            "SMA value: 4 and LMA value: 60\n",
            "SMA value: 4 and LMA value: 65\n",
            "SMA value: 4 and LMA value: 70\n",
            "SMA value: 4 and LMA value: 75\n",
            "SMA value: 6 and LMA value: 60\n",
            "SMA value: 6 and LMA value: 65\n",
            "SMA value: 6 and LMA value: 70\n",
            "SMA value: 6 and LMA value: 75\n",
            "SMA value: 8 and LMA value: 60\n",
            "SMA value: 8 and LMA value: 65\n",
            "SMA value: 8 and LMA value: 70\n",
            "SMA value: 8 and LMA value: 75\n",
            "SMA value: 10 and LMA value: 60\n",
            "SMA value: 10 and LMA value: 65\n",
            "SMA value: 10 and LMA value: 70\n",
            "SMA value: 10 and LMA value: 75\n",
            "Cummulative strategy returns for VALE: 0.858\n",
            "[*********************100%***********************]  1 of 1 completed\n",
            "SMA value: 2 and LMA value: 60\n",
            "SMA value: 2 and LMA value: 65\n",
            "SMA value: 2 and LMA value: 70\n",
            "SMA value: 2 and LMA value: 75\n",
            "SMA value: 4 and LMA value: 60\n",
            "SMA value: 4 and LMA value: 65\n",
            "SMA value: 4 and LMA value: 70\n",
            "SMA value: 4 and LMA value: 75\n",
            "SMA value: 6 and LMA value: 60\n",
            "SMA value: 6 and LMA value: 65\n",
            "SMA value: 6 and LMA value: 70\n",
            "SMA value: 6 and LMA value: 75\n",
            "SMA value: 8 and LMA value: 60\n",
            "SMA value: 8 and LMA value: 65\n",
            "SMA value: 8 and LMA value: 70\n",
            "SMA value: 8 and LMA value: 75\n",
            "SMA value: 10 and LMA value: 60\n",
            "SMA value: 10 and LMA value: 65\n",
            "SMA value: 10 and LMA value: 70\n",
            "SMA value: 10 and LMA value: 75\n",
            "Cummulative strategy returns for HUN: 0.616\n",
            "[*********************100%***********************]  1 of 1 completed\n",
            "SMA value: 2 and LMA value: 60\n",
            "SMA value: 2 and LMA value: 65\n",
            "SMA value: 2 and LMA value: 70\n",
            "SMA value: 2 and LMA value: 75\n",
            "SMA value: 4 and LMA value: 60\n",
            "SMA value: 4 and LMA value: 65\n",
            "SMA value: 4 and LMA value: 70\n",
            "SMA value: 4 and LMA value: 75\n",
            "SMA value: 6 and LMA value: 60\n",
            "SMA value: 6 and LMA value: 65\n",
            "SMA value: 6 and LMA value: 70\n",
            "SMA value: 6 and LMA value: 75\n",
            "SMA value: 8 and LMA value: 60\n",
            "SMA value: 8 and LMA value: 65\n",
            "SMA value: 8 and LMA value: 70\n",
            "SMA value: 8 and LMA value: 75\n",
            "SMA value: 10 and LMA value: 60\n",
            "SMA value: 10 and LMA value: 65\n",
            "SMA value: 10 and LMA value: 70\n",
            "SMA value: 10 and LMA value: 75\n",
            "Cummulative strategy returns for SCCO: 1.469\n",
            "[*********************100%***********************]  1 of 1 completed\n",
            "SMA value: 2 and LMA value: 60\n",
            "SMA value: 2 and LMA value: 65\n",
            "SMA value: 2 and LMA value: 70\n",
            "SMA value: 2 and LMA value: 75\n",
            "SMA value: 4 and LMA value: 60\n",
            "SMA value: 4 and LMA value: 65\n",
            "SMA value: 4 and LMA value: 70\n",
            "SMA value: 4 and LMA value: 75\n",
            "SMA value: 6 and LMA value: 60\n",
            "SMA value: 6 and LMA value: 65\n",
            "SMA value: 6 and LMA value: 70\n",
            "SMA value: 6 and LMA value: 75\n",
            "SMA value: 8 and LMA value: 60\n",
            "SMA value: 8 and LMA value: 65\n",
            "SMA value: 8 and LMA value: 70\n",
            "SMA value: 8 and LMA value: 75\n",
            "SMA value: 10 and LMA value: 60\n",
            "SMA value: 10 and LMA value: 65\n",
            "SMA value: 10 and LMA value: 70\n",
            "SMA value: 10 and LMA value: 75\n",
            "Cummulative strategy returns for FCX: 2.901\n",
            "[*********************100%***********************]  1 of 1 completed\n",
            "SMA value: 2 and LMA value: 60\n",
            "SMA value: 2 and LMA value: 65\n",
            "SMA value: 2 and LMA value: 70\n",
            "SMA value: 2 and LMA value: 75\n",
            "SMA value: 4 and LMA value: 60\n",
            "SMA value: 4 and LMA value: 65\n",
            "SMA value: 4 and LMA value: 70\n",
            "SMA value: 4 and LMA value: 75\n",
            "SMA value: 6 and LMA value: 60\n",
            "SMA value: 6 and LMA value: 65\n",
            "SMA value: 6 and LMA value: 70\n",
            "SMA value: 6 and LMA value: 75\n",
            "SMA value: 8 and LMA value: 60\n",
            "SMA value: 8 and LMA value: 65\n",
            "SMA value: 8 and LMA value: 70\n",
            "SMA value: 8 and LMA value: 75\n",
            "SMA value: 10 and LMA value: 60\n",
            "SMA value: 10 and LMA value: 65\n",
            "SMA value: 10 and LMA value: 70\n",
            "SMA value: 10 and LMA value: 75\n",
            "Cummulative strategy returns for ECL: -0.04\n",
            "[*********************100%***********************]  1 of 1 completed\n",
            "SMA value: 2 and LMA value: 60\n",
            "SMA value: 2 and LMA value: 65\n",
            "SMA value: 2 and LMA value: 70\n",
            "SMA value: 2 and LMA value: 75\n",
            "SMA value: 4 and LMA value: 60\n",
            "SMA value: 4 and LMA value: 65\n",
            "SMA value: 4 and LMA value: 70\n",
            "SMA value: 4 and LMA value: 75\n",
            "SMA value: 6 and LMA value: 60\n",
            "SMA value: 6 and LMA value: 65\n",
            "SMA value: 6 and LMA value: 70\n",
            "SMA value: 6 and LMA value: 75\n",
            "SMA value: 8 and LMA value: 60\n",
            "SMA value: 8 and LMA value: 65\n",
            "SMA value: 8 and LMA value: 70\n",
            "SMA value: 8 and LMA value: 75\n",
            "SMA value: 10 and LMA value: 60\n",
            "SMA value: 10 and LMA value: 65\n",
            "SMA value: 10 and LMA value: 70\n",
            "SMA value: 10 and LMA value: 75\n",
            "Cummulative strategy returns for APD: 0.05\n",
            "[*********************100%***********************]  1 of 1 completed\n",
            "SMA value: 2 and LMA value: 60\n",
            "SMA value: 2 and LMA value: 65\n",
            "SMA value: 2 and LMA value: 70\n",
            "SMA value: 2 and LMA value: 75\n",
            "SMA value: 4 and LMA value: 60\n",
            "SMA value: 4 and LMA value: 65\n",
            "SMA value: 4 and LMA value: 70\n",
            "SMA value: 4 and LMA value: 75\n",
            "SMA value: 6 and LMA value: 60\n",
            "SMA value: 6 and LMA value: 65\n",
            "SMA value: 6 and LMA value: 70\n",
            "SMA value: 6 and LMA value: 75\n",
            "SMA value: 8 and LMA value: 60\n",
            "SMA value: 8 and LMA value: 65\n",
            "SMA value: 8 and LMA value: 70\n",
            "SMA value: 8 and LMA value: 75\n",
            "SMA value: 10 and LMA value: 60\n",
            "SMA value: 10 and LMA value: 65\n",
            "SMA value: 10 and LMA value: 70\n",
            "SMA value: 10 and LMA value: 75\n",
            "Cummulative strategy returns for DD: 0.656\n",
            "[*********************100%***********************]  1 of 1 completed\n",
            "SMA value: 2 and LMA value: 60\n",
            "SMA value: 2 and LMA value: 65\n",
            "SMA value: 2 and LMA value: 70\n",
            "SMA value: 2 and LMA value: 75\n",
            "SMA value: 4 and LMA value: 60\n",
            "SMA value: 4 and LMA value: 65\n",
            "SMA value: 4 and LMA value: 70\n",
            "SMA value: 4 and LMA value: 75\n",
            "SMA value: 6 and LMA value: 60\n",
            "SMA value: 6 and LMA value: 65\n",
            "SMA value: 6 and LMA value: 70\n",
            "SMA value: 6 and LMA value: 75\n",
            "SMA value: 8 and LMA value: 60\n",
            "SMA value: 8 and LMA value: 65\n",
            "SMA value: 8 and LMA value: 70\n",
            "SMA value: 8 and LMA value: 75\n",
            "SMA value: 10 and LMA value: 60\n",
            "SMA value: 10 and LMA value: 65\n",
            "SMA value: 10 and LMA value: 70\n",
            "SMA value: 10 and LMA value: 75\n",
            "Cummulative strategy returns for XLB: 0.576\n",
            "[*********************100%***********************]  1 of 1 completed\n",
            "SMA value: 2 and LMA value: 60\n",
            "SMA value: 2 and LMA value: 65\n",
            "SMA value: 2 and LMA value: 70\n",
            "SMA value: 2 and LMA value: 75\n",
            "SMA value: 4 and LMA value: 60\n",
            "SMA value: 4 and LMA value: 65\n",
            "SMA value: 4 and LMA value: 70\n",
            "SMA value: 4 and LMA value: 75\n",
            "SMA value: 6 and LMA value: 60\n",
            "SMA value: 6 and LMA value: 65\n",
            "SMA value: 6 and LMA value: 70\n",
            "SMA value: 6 and LMA value: 75\n",
            "SMA value: 8 and LMA value: 60\n",
            "SMA value: 8 and LMA value: 65\n",
            "SMA value: 8 and LMA value: 70\n",
            "SMA value: 8 and LMA value: 75\n",
            "SMA value: 10 and LMA value: 60\n",
            "SMA value: 10 and LMA value: 65\n",
            "SMA value: 10 and LMA value: 70\n",
            "SMA value: 10 and LMA value: 75\n",
            "Cummulative strategy returns for CE: 1.405\n",
            "[*********************100%***********************]  1 of 1 completed\n",
            "SMA value: 2 and LMA value: 60\n",
            "SMA value: 2 and LMA value: 65\n",
            "SMA value: 2 and LMA value: 70\n",
            "SMA value: 2 and LMA value: 75\n",
            "SMA value: 4 and LMA value: 60\n",
            "SMA value: 4 and LMA value: 65\n",
            "SMA value: 4 and LMA value: 70\n",
            "SMA value: 4 and LMA value: 75\n",
            "SMA value: 6 and LMA value: 60\n",
            "SMA value: 6 and LMA value: 65\n",
            "SMA value: 6 and LMA value: 70\n",
            "SMA value: 6 and LMA value: 75\n",
            "SMA value: 8 and LMA value: 60\n",
            "SMA value: 8 and LMA value: 65\n",
            "SMA value: 8 and LMA value: 70\n",
            "SMA value: 8 and LMA value: 75\n",
            "SMA value: 10 and LMA value: 60\n",
            "SMA value: 10 and LMA value: 65\n",
            "SMA value: 10 and LMA value: 70\n",
            "SMA value: 10 and LMA value: 75\n",
            "Cummulative strategy returns for NEU: 0.115\n",
            "[*********************100%***********************]  1 of 1 completed\n",
            "SMA value: 2 and LMA value: 60\n",
            "SMA value: 2 and LMA value: 65\n",
            "SMA value: 2 and LMA value: 70\n",
            "SMA value: 2 and LMA value: 75\n",
            "SMA value: 4 and LMA value: 60\n",
            "SMA value: 4 and LMA value: 65\n",
            "SMA value: 4 and LMA value: 70\n",
            "SMA value: 4 and LMA value: 75\n",
            "SMA value: 6 and LMA value: 60\n",
            "SMA value: 6 and LMA value: 65\n",
            "SMA value: 6 and LMA value: 70\n",
            "SMA value: 6 and LMA value: 75\n",
            "SMA value: 8 and LMA value: 60\n",
            "SMA value: 8 and LMA value: 65\n",
            "SMA value: 8 and LMA value: 70\n",
            "SMA value: 8 and LMA value: 75\n",
            "SMA value: 10 and LMA value: 60\n",
            "SMA value: 10 and LMA value: 65\n",
            "SMA value: 10 and LMA value: 70\n",
            "SMA value: 10 and LMA value: 75\n",
            "Cummulative strategy returns for SCCO: 1.469\n",
            "[*********************100%***********************]  1 of 1 completed\n",
            "SMA value: 2 and LMA value: 60\n",
            "SMA value: 2 and LMA value: 65\n",
            "SMA value: 2 and LMA value: 70\n",
            "SMA value: 2 and LMA value: 75\n",
            "SMA value: 4 and LMA value: 60\n",
            "SMA value: 4 and LMA value: 65\n",
            "SMA value: 4 and LMA value: 70\n",
            "SMA value: 4 and LMA value: 75\n",
            "SMA value: 6 and LMA value: 60\n",
            "SMA value: 6 and LMA value: 65\n",
            "SMA value: 6 and LMA value: 70\n",
            "SMA value: 6 and LMA value: 75\n",
            "SMA value: 8 and LMA value: 60\n",
            "SMA value: 8 and LMA value: 65\n",
            "SMA value: 8 and LMA value: 70\n",
            "SMA value: 8 and LMA value: 75\n",
            "SMA value: 10 and LMA value: 60\n",
            "SMA value: 10 and LMA value: 65\n",
            "SMA value: 10 and LMA value: 70\n",
            "SMA value: 10 and LMA value: 75\n",
            "Cummulative strategy returns for NUE: 0.947\n",
            "[*********************100%***********************]  1 of 1 completed\n",
            "SMA value: 2 and LMA value: 60\n",
            "SMA value: 2 and LMA value: 65\n",
            "SMA value: 2 and LMA value: 70\n",
            "SMA value: 2 and LMA value: 75\n",
            "SMA value: 4 and LMA value: 60\n",
            "SMA value: 4 and LMA value: 65\n",
            "SMA value: 4 and LMA value: 70\n",
            "SMA value: 4 and LMA value: 75\n",
            "SMA value: 6 and LMA value: 60\n",
            "SMA value: 6 and LMA value: 65\n",
            "SMA value: 6 and LMA value: 70\n",
            "SMA value: 6 and LMA value: 75\n",
            "SMA value: 8 and LMA value: 60\n",
            "SMA value: 8 and LMA value: 65\n",
            "SMA value: 8 and LMA value: 70\n",
            "SMA value: 8 and LMA value: 75\n",
            "SMA value: 10 and LMA value: 60\n",
            "SMA value: 10 and LMA value: 65\n",
            "SMA value: 10 and LMA value: 70\n",
            "SMA value: 10 and LMA value: 75\n",
            "Cummulative strategy returns for RPM: 0.289\n",
            "[*********************100%***********************]  1 of 1 completed\n",
            "SMA value: 2 and LMA value: 60\n",
            "SMA value: 2 and LMA value: 65\n",
            "SMA value: 2 and LMA value: 70\n",
            "SMA value: 2 and LMA value: 75\n",
            "SMA value: 4 and LMA value: 60\n",
            "SMA value: 4 and LMA value: 65\n",
            "SMA value: 4 and LMA value: 70\n",
            "SMA value: 4 and LMA value: 75\n",
            "SMA value: 6 and LMA value: 60\n",
            "SMA value: 6 and LMA value: 65\n",
            "SMA value: 6 and LMA value: 70\n",
            "SMA value: 6 and LMA value: 75\n",
            "SMA value: 8 and LMA value: 60\n",
            "SMA value: 8 and LMA value: 65\n",
            "SMA value: 8 and LMA value: 70\n",
            "SMA value: 8 and LMA value: 75\n",
            "SMA value: 10 and LMA value: 60\n",
            "SMA value: 10 and LMA value: 65\n",
            "SMA value: 10 and LMA value: 70\n",
            "SMA value: 10 and LMA value: 75\n",
            "Cummulative strategy returns for CC: 2.913\n",
            "[*********************100%***********************]  1 of 1 completed\n",
            "SMA value: 2 and LMA value: 60\n",
            "SMA value: 2 and LMA value: 65\n",
            "SMA value: 2 and LMA value: 70\n",
            "SMA value: 2 and LMA value: 75\n",
            "SMA value: 4 and LMA value: 60\n",
            "SMA value: 4 and LMA value: 65\n",
            "SMA value: 4 and LMA value: 70\n",
            "SMA value: 4 and LMA value: 75\n",
            "SMA value: 6 and LMA value: 60\n",
            "SMA value: 6 and LMA value: 65\n",
            "SMA value: 6 and LMA value: 70\n",
            "SMA value: 6 and LMA value: 75\n",
            "SMA value: 8 and LMA value: 60\n",
            "SMA value: 8 and LMA value: 65\n",
            "SMA value: 8 and LMA value: 70\n",
            "SMA value: 8 and LMA value: 75\n",
            "SMA value: 10 and LMA value: 60\n",
            "SMA value: 10 and LMA value: 65\n",
            "SMA value: 10 and LMA value: 70\n",
            "SMA value: 10 and LMA value: 75\n",
            "Cummulative strategy returns for OLN: 2.688\n",
            "[*********************100%***********************]  1 of 1 completed\n",
            "SMA value: 2 and LMA value: 60\n",
            "SMA value: 2 and LMA value: 65\n",
            "SMA value: 2 and LMA value: 70\n",
            "SMA value: 2 and LMA value: 75\n",
            "SMA value: 4 and LMA value: 60\n",
            "SMA value: 4 and LMA value: 65\n",
            "SMA value: 4 and LMA value: 70\n",
            "SMA value: 4 and LMA value: 75\n",
            "SMA value: 6 and LMA value: 60\n",
            "SMA value: 6 and LMA value: 65\n",
            "SMA value: 6 and LMA value: 70\n",
            "SMA value: 6 and LMA value: 75\n",
            "SMA value: 8 and LMA value: 60\n",
            "SMA value: 8 and LMA value: 65\n",
            "SMA value: 8 and LMA value: 70\n",
            "SMA value: 8 and LMA value: 75\n",
            "SMA value: 10 and LMA value: 60\n",
            "SMA value: 10 and LMA value: 65\n",
            "SMA value: 10 and LMA value: 70\n",
            "SMA value: 10 and LMA value: 75\n",
            "Cummulative strategy returns for XLB: 0.576\n",
            "[*********************100%***********************]  1 of 1 completed\n",
            "SMA value: 2 and LMA value: 60\n",
            "SMA value: 2 and LMA value: 65\n",
            "SMA value: 2 and LMA value: 70\n",
            "SMA value: 2 and LMA value: 75\n",
            "SMA value: 4 and LMA value: 60\n",
            "SMA value: 4 and LMA value: 65\n",
            "SMA value: 4 and LMA value: 70\n",
            "SMA value: 4 and LMA value: 75\n",
            "SMA value: 6 and LMA value: 60\n",
            "SMA value: 6 and LMA value: 65\n",
            "SMA value: 6 and LMA value: 70\n",
            "SMA value: 6 and LMA value: 75\n",
            "SMA value: 8 and LMA value: 60\n",
            "SMA value: 8 and LMA value: 65\n",
            "SMA value: 8 and LMA value: 70\n",
            "SMA value: 8 and LMA value: 75\n",
            "SMA value: 10 and LMA value: 60\n",
            "SMA value: 10 and LMA value: 65\n",
            "SMA value: 10 and LMA value: 70\n",
            "SMA value: 10 and LMA value: 75\n",
            "Cummulative strategy returns for RIO: 0.477\n",
            "[*********************100%***********************]  1 of 1 completed\n",
            "SMA value: 2 and LMA value: 60\n",
            "SMA value: 2 and LMA value: 65\n",
            "SMA value: 2 and LMA value: 70\n",
            "SMA value: 2 and LMA value: 75\n",
            "SMA value: 4 and LMA value: 60\n",
            "SMA value: 4 and LMA value: 65\n",
            "SMA value: 4 and LMA value: 70\n",
            "SMA value: 4 and LMA value: 75\n",
            "SMA value: 6 and LMA value: 60\n",
            "SMA value: 6 and LMA value: 65\n",
            "SMA value: 6 and LMA value: 70\n",
            "SMA value: 6 and LMA value: 75\n",
            "SMA value: 8 and LMA value: 60\n",
            "SMA value: 8 and LMA value: 65\n",
            "SMA value: 8 and LMA value: 70\n",
            "SMA value: 8 and LMA value: 75\n",
            "SMA value: 10 and LMA value: 60\n",
            "SMA value: 10 and LMA value: 65\n",
            "SMA value: 10 and LMA value: 70\n",
            "SMA value: 10 and LMA value: 75\n",
            "Cummulative strategy returns for LYB: 0.405\n",
            "[*********************100%***********************]  1 of 1 completed\n",
            "SMA value: 2 and LMA value: 60\n",
            "SMA value: 2 and LMA value: 65\n",
            "SMA value: 2 and LMA value: 70\n",
            "SMA value: 2 and LMA value: 75\n",
            "SMA value: 4 and LMA value: 60\n",
            "SMA value: 4 and LMA value: 65\n",
            "SMA value: 4 and LMA value: 70\n",
            "SMA value: 4 and LMA value: 75\n",
            "SMA value: 6 and LMA value: 60\n",
            "SMA value: 6 and LMA value: 65\n",
            "SMA value: 6 and LMA value: 70\n",
            "SMA value: 6 and LMA value: 75\n",
            "SMA value: 8 and LMA value: 60\n",
            "SMA value: 8 and LMA value: 65\n",
            "SMA value: 8 and LMA value: 70\n",
            "SMA value: 8 and LMA value: 75\n",
            "SMA value: 10 and LMA value: 60\n",
            "SMA value: 10 and LMA value: 65\n",
            "SMA value: 10 and LMA value: 70\n",
            "SMA value: 10 and LMA value: 75\n",
            "Cummulative strategy returns for IP: 0.713\n",
            "Computations completed!\n",
            "The final values are as follows: \n",
            "{'VALE': 0.858, 'HUN': 0.616, 'SCCO': 1.469, 'FCX': 2.901, 'ECL': -0.04, 'APD': 0.05, 'DD': 0.656, 'XLB': 0.576, 'CE': 1.405, 'NEU': 0.115, 'NUE': 0.947, 'RPM': 0.289, 'CC': 2.913, 'OLN': 2.688, 'RIO': 0.477, 'LYB': 0.405, 'IP': 0.713}\n",
            " {'VALE': 8, 'HUN': 4, 'SCCO': 2, 'FCX': 10, 'ECL': 10, 'APD': 10, 'DD': 8, 'XLB': 8, 'CE': 2, 'NEU': 10, 'NUE': 8, 'RPM': 8, 'CC': 2, 'OLN': 10, 'RIO': 6, 'LYB': 8, 'IP': 10}\n",
            " {'VALE': 70, 'HUN': 65, 'SCCO': 70, 'FCX': 60, 'ECL': 75, 'APD': 60, 'DD': 70, 'XLB': 70, 'CE': 70, 'NEU': 75, 'NUE': 70, 'RPM': 65, 'CC': 60, 'OLN': 65, 'RIO': 70, 'LYB': 65, 'IP': 60}\n"
          ],
          "name": "stdout"
        }
      ]
    },
    {
      "cell_type": "markdown",
      "metadata": {
        "id": "pHKNWqrtylcb"
      },
      "source": [
        "#Utilities/ Energy\n",
        "* Duke Electric"
      ]
    },
    {
      "cell_type": "code",
      "metadata": {
        "id": "qqdXK6Jkyqkh"
      },
      "source": [
        "util = ['NEE', 'CVX', 'DUK', 'D', 'XEL', 'XLU', 'SRE', 'VST', 'UGI', 'WTRG', 'EIX', 'AEP', \n",
        "        'AES', 'CNP', 'DTE', 'ETR', 'IDA', 'NFG', 'NI', 'NRG', 'NOVA', 'AWK', 'BIP', 'NEE']"
      ],
      "execution_count": null,
      "outputs": []
    },
    {
      "cell_type": "code",
      "metadata": {
        "id": "sKp9FUQv3ZPU"
      },
      "source": [
        "visualize_returns(util, sma, lma, start, end)"
      ],
      "execution_count": null,
      "outputs": []
    },
    {
      "cell_type": "code",
      "metadata": {
        "id": "K_Ytyd_-5NPt"
      },
      "source": [
        "test_optimize(util, start, end, sma_range, lma_range)"
      ],
      "execution_count": null,
      "outputs": []
    },
    {
      "cell_type": "code",
      "metadata": {
        "id": "Lr1IyqjApbNh"
      },
      "source": [
        ""
      ],
      "execution_count": null,
      "outputs": []
    }
  ]
}
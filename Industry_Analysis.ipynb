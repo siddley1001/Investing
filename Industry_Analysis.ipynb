{
  "nbformat": 4,
  "nbformat_minor": 0,
  "metadata": {
    "colab": {
      "name": "Industry Analysis",
      "provenance": [],
      "collapsed_sections": [],
      "authorship_tag": "ABX9TyMIAoVJgVJllANs2mRqj+Zs",
      "include_colab_link": true
    },
    "kernelspec": {
      "name": "python3",
      "display_name": "Python 3"
    },
    "language_info": {
      "name": "python"
    }
  },
  "cells": [
    {
      "cell_type": "markdown",
      "metadata": {
        "id": "view-in-github",
        "colab_type": "text"
      },
      "source": [
        "<a href=\"https://colab.research.google.com/github/siddley1001/Investing/blob/main/Industry_Analysis.ipynb\" target=\"_parent\"><img src=\"https://colab.research.google.com/assets/colab-badge.svg\" alt=\"Open In Colab\"/></a>"
      ]
    },
    {
      "cell_type": "code",
      "metadata": {
        "colab": {
          "base_uri": "https://localhost:8080/"
        },
        "id": "oxEqESLPn653",
        "outputId": "7ad93b14-b42c-4f43-e964-d071fafa841f"
      },
      "source": [
        "%pip install yfinance\n",
        "# %pip install ta-lib\n",
        "%pip install zipline"
      ],
      "execution_count": 1,
      "outputs": [
        {
          "output_type": "stream",
          "text": [
            "Requirement already satisfied: yfinance in /usr/local/lib/python3.7/dist-packages (0.1.59)\n",
            "Requirement already satisfied: pandas>=0.24 in /usr/local/lib/python3.7/dist-packages (from yfinance) (1.1.5)\n",
            "Requirement already satisfied: lxml>=4.5.1 in /usr/local/lib/python3.7/dist-packages (from yfinance) (4.6.3)\n",
            "Requirement already satisfied: multitasking>=0.0.7 in /usr/local/lib/python3.7/dist-packages (from yfinance) (0.0.9)\n",
            "Requirement already satisfied: numpy>=1.15 in /usr/local/lib/python3.7/dist-packages (from yfinance) (1.19.5)\n",
            "Requirement already satisfied: requests>=2.20 in /usr/local/lib/python3.7/dist-packages (from yfinance) (2.23.0)\n",
            "Requirement already satisfied: python-dateutil>=2.7.3 in /usr/local/lib/python3.7/dist-packages (from pandas>=0.24->yfinance) (2.8.1)\n",
            "Requirement already satisfied: pytz>=2017.2 in /usr/local/lib/python3.7/dist-packages (from pandas>=0.24->yfinance) (2018.9)\n",
            "Requirement already satisfied: urllib3!=1.25.0,!=1.25.1,<1.26,>=1.21.1 in /usr/local/lib/python3.7/dist-packages (from requests>=2.20->yfinance) (1.24.3)\n",
            "Requirement already satisfied: chardet<4,>=3.0.2 in /usr/local/lib/python3.7/dist-packages (from requests>=2.20->yfinance) (3.0.4)\n",
            "Requirement already satisfied: certifi>=2017.4.17 in /usr/local/lib/python3.7/dist-packages (from requests>=2.20->yfinance) (2020.12.5)\n",
            "Requirement already satisfied: idna<3,>=2.5 in /usr/local/lib/python3.7/dist-packages (from requests>=2.20->yfinance) (2.10)\n",
            "Requirement already satisfied: six>=1.5 in /usr/local/lib/python3.7/dist-packages (from python-dateutil>=2.7.3->pandas>=0.24->yfinance) (1.15.0)\n",
            "Collecting zipline\n",
            "  Using cached https://files.pythonhosted.org/packages/42/9b/5a55c79ca66e1c3ed2d94155cb71eb033eaf96cea71b81eb0579610d489f/zipline-1.4.1.tar.gz\n",
            "Requirement already satisfied: pip>=7.1.0 in /usr/local/lib/python3.7/dist-packages (from zipline) (19.3.1)\n",
            "Requirement already satisfied: setuptools>18.0 in /usr/local/lib/python3.7/dist-packages (from zipline) (56.1.0)\n",
            "Collecting Logbook>=0.12.5\n",
            "  Using cached https://files.pythonhosted.org/packages/2f/d9/16ac346f7c0102835814cc9e5b684aaadea101560bb932a2403bd26b2320/Logbook-1.5.3.tar.gz\n",
            "Requirement already satisfied: click>=4.0.0 in /usr/local/lib/python3.7/dist-packages (from zipline) (8.0.0)\n",
            "Requirement already satisfied: six>=1.10.0 in /usr/local/lib/python3.7/dist-packages (from zipline) (1.15.0)\n",
            "Collecting python-interface>=1.5.3\n",
            "  Using cached https://files.pythonhosted.org/packages/fc/e9/092908ad6587b2537ab19fd68cea2eae520321530f23c4b82af71a38b8a1/python-interface-1.6.1.tar.gz\n",
            "Collecting multipledispatch>=0.6.0\n",
            "  Using cached https://files.pythonhosted.org/packages/89/79/429ecef45fd5e4504f7474d4c3c3c4668c267be3370e4c2fd33e61506833/multipledispatch-0.6.0-py3-none-any.whl\n",
            "Requirement already satisfied: toolz>=0.8.2 in /usr/local/lib/python3.7/dist-packages (from zipline) (0.11.1)\n",
            "Requirement already satisfied: numpy>=1.11.3 in /usr/local/lib/python3.7/dist-packages (from zipline) (1.19.5)\n",
            "Collecting pandas<=0.22,>=0.18.1\n",
            "  Using cached https://files.pythonhosted.org/packages/08/01/803834bc8a4e708aedebb133095a88a4dad9f45bbaf5ad777d2bea543c7e/pandas-0.22.0.tar.gz\n",
            "  Installing build dependencies ... \u001b[?25l\u001b[?25herror\n",
            "\u001b[31mERROR: Command errored out with exit status 1: /usr/bin/python3 /usr/local/lib/python3.7/dist-packages/pip install --ignore-installed --no-user --prefix /tmp/pip-build-env-9zr9chc0/overlay --no-warn-script-location -v --no-binary :none: --only-binary :none: -i https://pypi.org/simple -- wheel setuptools Cython 'numpy==1.9.3; python_version=='\"'\"'3.5'\"'\"'' 'numpy==1.12.1; python_version=='\"'\"'3.6'\"'\"'' 'numpy==1.13.1; python_version>='\"'\"'3.7'\"'\"'' Check the logs for full command output.\u001b[0m\n"
          ],
          "name": "stdout"
        }
      ]
    },
    {
      "cell_type": "code",
      "metadata": {
        "id": "4OCTJd_GnuHV"
      },
      "source": [
        "import yfinance as yf\n",
        "import pandas as pd\n",
        "import numpy as np\n",
        "import matplotlib.pyplot as plt\n",
        "import seaborn as sns\n",
        "\n",
        "#Trading Libraries\n",
        "# import talib #Technical Analysis Libraries: Bollinger Bands, Aroon Oscillator, MACD (MA Convergence/Divergence), RSI (Relative Strength Index)\n",
        "# import zipline #Backtesting and Live Trading"
      ],
      "execution_count": 2,
      "outputs": []
    },
    {
      "cell_type": "markdown",
      "metadata": {
        "id": "gePw-guxQwR0"
      },
      "source": [
        "#Backtesting Helper Functions"
      ]
    },
    {
      "cell_type": "code",
      "metadata": {
        "id": "hflXz6MCQw33"
      },
      "source": [
        "sma = 14\n",
        "lma = 60\n",
        "\n",
        "start = '2010-01-01'\n",
        "end = '2021-12-31'\n",
        "\n",
        "def backtest_strategy(data, sma, lma):\n",
        "    data['daily_returns'] = data['Adj Close'].pct_change()\n",
        "\n",
        "    data['sma'] = data['Adj Close'].rolling(sma).mean()\n",
        "    data['lma'] = data['Adj Close'].rolling(lma).mean()\n",
        "\n",
        "    data['signals'] = np.where(data['sma'] >= data['lma'], 1, -1)\n",
        "\n",
        "    data.dropna(inplace = True)\n",
        "\n",
        "    data['strategic_returns'] = data['daily_returns'] * data['signals'].shift(1)\n",
        "    \n",
        "    cum_s_returns = (data['strategic_returns']+ 1).cumprod()\n",
        "\n",
        "    return round(cum_s_returns.iloc[-1] -1, 3)\n",
        "\n",
        "def cumm_returns(ticker_list, sma, lma, start_string, end_string):\n",
        "    returns = dict()\n",
        "    for ticker in ticker_list:\n",
        "        data = yf.download(ticker, start_string, end_string)\n",
        "\n",
        "        ticker_return = backtest_strategy(data, sma, lma)\n",
        "\n",
        "        print(f'Cummulative Strategy Returns for {ticker}:', ticker_return)\n",
        "\n",
        "        returns[ticker] = ticker_return\n",
        "    else:\n",
        "        print('Computations Completed!')\n",
        "\n",
        "def visualize_returns(ticker_list, sma, lma, start_string, end_string):\n",
        "    returns = dict()\n",
        "    colors = list()\n",
        "\n",
        "    for ticker in ticker_list:\n",
        "        data = yf.download(ticker, start_string, end_string)\n",
        "\n",
        "        ticker_return = backtest_strategy(data, sma, lma)\n",
        "\n",
        "        print(f'Cummulative Strategy Returns for {ticker}:', ticker_return)\n",
        "\n",
        "        returns[ticker] = ticker_return\n",
        "    \n",
        "    #colors for visualization\n",
        "    for k, v in returns.items():\n",
        "        if v > 0:\n",
        "            colors.append('lightgreen')\n",
        "        else:\n",
        "            colors.append('lightcoral')\n",
        "    \n",
        "    plt.figure(figsize = (14,7))\n",
        "    plt.bar(returns.keys(), returns.values(), color = colors)\n",
        "    plt.title('MAC Returns on stocks')\n",
        "    plt.xlabel('Stocks')\n",
        "    plt.ylabel('Returns')\n",
        "    plt.show()"
      ],
      "execution_count": 29,
      "outputs": []
    },
    {
      "cell_type": "markdown",
      "metadata": {
        "id": "pEk-IlCwmVEm"
      },
      "source": [
        "# Travel (Airlines)\n",
        "- Delta (DAL)\n",
        "- United Airlines (UAL)\n",
        "- Spirit (SAVE)\n",
        "- American Airlines (AAL)\n",
        "- Alaska Airlines (ALK)"
      ]
    },
    {
      "cell_type": "code",
      "metadata": {
        "id": "OcAksUL5mSRG"
      },
      "source": [
        "airlines = ['DAL', 'UAL', 'SAVE', 'AAL', 'ALK']"
      ],
      "execution_count": 4,
      "outputs": []
    },
    {
      "cell_type": "code",
      "metadata": {
        "colab": {
          "base_uri": "https://localhost:8080/",
          "height": 632
        },
        "id": "OksG2-vU1GtW",
        "outputId": "77d377c4-d171-401c-ea9f-a9e2524473d7"
      },
      "source": [
        "visualize_returns(airlines, sma, lma, start, end)"
      ],
      "execution_count": 30,
      "outputs": [
        {
          "output_type": "stream",
          "text": [
            "\r[*********************100%***********************]  1 of 1 completed\n",
            "Cummulative Strategy Returns for DAL: -0.735\n",
            "[*********************100%***********************]  1 of 1 completed\n",
            "Cummulative Strategy Returns for UAL: -0.995\n",
            "[*********************100%***********************]  1 of 1 completed\n",
            "Cummulative Strategy Returns for SAVE: -0.309\n",
            "[*********************100%***********************]  1 of 1 completed\n",
            "Cummulative Strategy Returns for AAL: -0.994\n",
            "[*********************100%***********************]  1 of 1 completed\n",
            "Cummulative Strategy Returns for ALK: -0.413\n"
          ],
          "name": "stdout"
        },
        {
          "output_type": "display_data",
          "data": {
            "image/png": "[encoded data removed]",
            "text/plain": [
              "<Figure size 1008x504 with 1 Axes>"
            ]
          },
          "metadata": {
            "tags": [],
            "needs_background": "light"
          }
        }
      ]
    },
    {
      "cell_type": "markdown",
      "metadata": {
        "id": "uy0TkRkpma4r"
      },
      "source": [
        "# Finance (Traditional - Banks)\n",
        "\n",
        "- Wells Fargo (WF)\n",
        "- JPMorgan Chase (JPM)\n",
        "- Bank of America (BAC)\n",
        "- Citi (C)\n",
        "\n",
        "\n",
        "\n",
        "\n",
        "\n"
      ]
    },
    {
      "cell_type": "code",
      "metadata": {
        "id": "5JZ18vN5me-j"
      },
      "source": [
        "banks = ['WF', 'JPM', 'BAC', 'C']"
      ],
      "execution_count": 6,
      "outputs": []
    },
    {
      "cell_type": "code",
      "metadata": {
        "colab": {
          "base_uri": "https://localhost:8080/",
          "height": 597
        },
        "id": "khkOLzQm2SXG",
        "outputId": "212d9338-55b2-439d-ae67-35e34cf1a3a9"
      },
      "source": [
        "visualize_returns(banks, sma, lma, start, end)"
      ],
      "execution_count": 31,
      "outputs": [
        {
          "output_type": "stream",
          "text": [
            "\r[*********************100%***********************]  1 of 1 completed\n",
            "Cummulative Strategy Returns for WF: -0.805\n",
            "[*********************100%***********************]  1 of 1 completed\n",
            "Cummulative Strategy Returns for JPM: -0.629\n",
            "[*********************100%***********************]  1 of 1 completed\n",
            "Cummulative Strategy Returns for BAC: 1.145\n",
            "[*********************100%***********************]  1 of 1 completed\n",
            "Cummulative Strategy Returns for C: -0.505\n"
          ],
          "name": "stdout"
        },
        {
          "output_type": "display_data",
          "data": {
            "image/png": "[encoded data removed]",
            "text/plain": [
              "<Figure size 1008x504 with 1 Axes>"
            ]
          },
          "metadata": {
            "tags": [],
            "needs_background": "light"
          }
        }
      ]
    },
    {
      "cell_type": "markdown",
      "metadata": {
        "id": "YYWuDxSBmfzs"
      },
      "source": [
        "# Telecommunications (Wireless Carriers)\n",
        "- AT&T (T)\n",
        "- Verizon (VZ)\n",
        "- T-mobile (TMUS)"
      ]
    },
    {
      "cell_type": "code",
      "metadata": {
        "id": "BgLP525CooAk"
      },
      "source": [
        "telecoms = ['T', 'VZ', 'TMUS']"
      ],
      "execution_count": 8,
      "outputs": []
    },
    {
      "cell_type": "code",
      "metadata": {
        "colab": {
          "base_uri": "https://localhost:8080/",
          "height": 562
        },
        "id": "AFNOG4gXTQSh",
        "outputId": "24641968-fc9b-4228-fe8e-194769367f61"
      },
      "source": [
        "visualize_returns(telecoms, sma, lma, start, end)"
      ],
      "execution_count": 32,
      "outputs": [
        {
          "output_type": "stream",
          "text": [
            "\r[*********************100%***********************]  1 of 1 completed\n",
            "Cummulative Strategy Returns for T: -0.392\n",
            "[*********************100%***********************]  1 of 1 completed\n",
            "Cummulative Strategy Returns for VZ: -0.802\n",
            "[*********************100%***********************]  1 of 1 completed\n",
            "Cummulative Strategy Returns for TMUS: 3.555\n"
          ],
          "name": "stdout"
        },
        {
          "output_type": "display_data",
          "data": {
            "image/png": "[encoded data removed]",
            "text/plain": [
              "<Figure size 1008x504 with 1 Axes>"
            ]
          },
          "metadata": {
            "tags": [],
            "needs_background": "light"
          }
        }
      ]
    },
    {
      "cell_type": "markdown",
      "metadata": {
        "id": "11ufzWnZooAV"
      },
      "source": [
        "# Travel (Auto)\n",
        "- Tesla (TSLA)\n",
        "- Ford (F)\n",
        "- BMW (BMWYY)\n",
        "- Toyota (TM)\n",
        "- Honda (HMC)\n",
        "- Nio (NIO)"
      ]
    },
    {
      "cell_type": "code",
      "metadata": {
        "id": "CObWgPATmkfZ"
      },
      "source": [
        "autos = ['TSLA', 'F', 'BMWYY', 'TM', 'HMC', 'NIO']"
      ],
      "execution_count": 10,
      "outputs": []
    },
    {
      "cell_type": "code",
      "metadata": {
        "colab": {
          "base_uri": "https://localhost:8080/",
          "height": 666
        },
        "id": "5Z-olIbdVJ6Y",
        "outputId": "02eaebf2-756c-42e1-8092-67a4daa2171c"
      },
      "source": [
        "visualize_returns(autos, sma, lma, start, end)"
      ],
      "execution_count": 33,
      "outputs": [
        {
          "output_type": "stream",
          "text": [
            "\r[*********************100%***********************]  1 of 1 completed\n",
            "Cummulative Strategy Returns for TSLA: 0.383\n",
            "[*********************100%***********************]  1 of 1 completed\n",
            "Cummulative Strategy Returns for F: 0.372\n",
            "[*********************100%***********************]  1 of 1 completed\n",
            "Cummulative Strategy Returns for BMWYY: -0.783\n",
            "[*********************100%***********************]  1 of 1 completed\n",
            "Cummulative Strategy Returns for TM: -0.107\n",
            "[*********************100%***********************]  1 of 1 completed\n",
            "Cummulative Strategy Returns for HMC: -0.396\n",
            "[*********************100%***********************]  1 of 1 completed\n",
            "Cummulative Strategy Returns for NIO: 5.285\n"
          ],
          "name": "stdout"
        },
        {
          "output_type": "display_data",
          "data": {
            "image/png": "[encoded data removed]",
            "text/plain": [
              "<Figure size 1008x504 with 1 Axes>"
            ]
          },
          "metadata": {
            "tags": [],
            "needs_background": "light"
          }
        }
      ]
    },
    {
      "cell_type": "markdown",
      "metadata": {
        "id": "hHyFGtkLV1SA"
      },
      "source": [
        "# HealthCare\n",
        "\n",
        "*   Hospital conglomerates\n",
        "\n",
        "*   Insurance companies\n",
        "\n",
        "*   Institutional services\n",
        "\n",
        "* Drug Manufacturers\n",
        "\n",
        "*   Medical instrument makers\n",
        "\n",
        "*   Biomedical companies\n",
        "\n",
        "**52.3% CAGR** with advent of AI"
      ]
    },
    {
      "cell_type": "markdown",
      "metadata": {
        "id": "kWV59-2Yb5Ue"
      },
      "source": [
        ""
      ]
    },
    {
      "cell_type": "code",
      "metadata": {
        "id": "eju-I9L4VXrK"
      },
      "source": [
        "healthcare = ['SNSE', 'PDSB', 'LFMD', 'PROG', 'GTH', 'DBTX', 'IMMP', 'PRPO', 'IMAB']"
      ],
      "execution_count": 12,
      "outputs": []
    },
    {
      "cell_type": "code",
      "metadata": {
        "colab": {
          "base_uri": "https://localhost:8080/",
          "height": 770
        },
        "id": "4j1B_VLfV0oW",
        "outputId": "19567b9e-c3b4-488a-f016-dad877b064bc"
      },
      "source": [
        "visualize_returns(healthcare, sma, lma, start, end)"
      ],
      "execution_count": 34,
      "outputs": [
        {
          "output_type": "stream",
          "text": [
            "\r[*********************100%***********************]  1 of 1 completed\n",
            "Cummulative Strategy Returns for SNSE: -0.08\n",
            "[*********************100%***********************]  1 of 1 completed\n",
            "Cummulative Strategy Returns for PDSB: -0.97\n",
            "[*********************100%***********************]  1 of 1 completed\n",
            "Cummulative Strategy Returns for LFMD: -1.0\n",
            "[*********************100%***********************]  1 of 1 completed\n",
            "Cummulative Strategy Returns for PROG: 0.093\n",
            "[*********************100%***********************]  1 of 1 completed\n",
            "Cummulative Strategy Returns for GTH: 0.087\n",
            "[*********************100%***********************]  1 of 1 completed\n",
            "Cummulative Strategy Returns for DBTX: -0.24\n",
            "[*********************100%***********************]  1 of 1 completed\n",
            "Cummulative Strategy Returns for IMMP: -0.953\n",
            "[*********************100%***********************]  1 of 1 completed\n",
            "Cummulative Strategy Returns for PRPO: -1.129\n",
            "[*********************100%***********************]  1 of 1 completed\n",
            "Cummulative Strategy Returns for IMAB: 1.284\n"
          ],
          "name": "stdout"
        },
        {
          "output_type": "display_data",
          "data": {
            "image/png": "[encoded data removed]",
            "text/plain": [
              "<Figure size 1008x504 with 1 Axes>"
            ]
          },
          "metadata": {
            "tags": [],
            "needs_background": "light"
          }
        }
      ]
    },
    {
      "cell_type": "markdown",
      "metadata": {
        "id": "wx3D3C_JWsD5"
      },
      "source": [
        "# Computer and Tech (IT)\n",
        "\n",
        "*   Product Manufacturers\n",
        "*   Service Providers\n",
        "\n",
        "**22% CAGR potential**\n"
      ]
    },
    {
      "cell_type": "code",
      "metadata": {
        "id": "6Fc7tGhlWxVd"
      },
      "source": [
        "it = ['INTZ', 'LSPD', 'TLS', 'AUUD', 'CPSH', 'TAIT', 'AMPG', 'QRVO']"
      ],
      "execution_count": 14,
      "outputs": []
    },
    {
      "cell_type": "code",
      "metadata": {
        "colab": {
          "base_uri": "https://localhost:8080/",
          "height": 701
        },
        "id": "F52krVZCdnqT",
        "outputId": "8907ab74-ecdc-4f41-fe30-069ed6fd524e"
      },
      "source": [
        "visualize_returns(it, sma, lma, start, end)"
      ],
      "execution_count": 35,
      "outputs": [
        {
          "output_type": "stream",
          "text": [
            "[*********************100%***********************]  1 of 1 completed\n",
            "Cummulative Strategy Returns for INTZ: -1.0\n",
            "[*********************100%***********************]  1 of 1 completed\n",
            "Cummulative Strategy Returns for LSPD: -0.286\n",
            "[*********************100%***********************]  1 of 1 completed\n",
            "Cummulative Strategy Returns for TLS: -0.196\n",
            "[*********************100%***********************]  1 of 1 completed\n",
            "Cummulative Strategy Returns for AUUD: -0.054\n",
            "[*********************100%***********************]  1 of 1 completed\n",
            "Cummulative Strategy Returns for CPSH: -1.0\n",
            "[*********************100%***********************]  1 of 1 completed\n",
            "Cummulative Strategy Returns for TAIT: -0.742\n",
            "[*********************100%***********************]  1 of 1 completed\n",
            "Cummulative Strategy Returns for AMPG: 0.981\n"
          ],
          "name": "stdout"
        },
        {
          "output_type": "display_data",
          "data": {
            "image/png": "[encoded data removed]",
            "text/plain": [
              "<Figure size 1008x504 with 1 Axes>"
            ]
          },
          "metadata": {
            "tags": [],
            "needs_background": "light"
          }
        }
      ]
    },
    {
      "cell_type": "markdown",
      "metadata": {
        "id": "b4DL3OckfC70"
      },
      "source": [
        "# Business Services"
      ]
    },
    {
      "cell_type": "code",
      "metadata": {
        "id": "ZoxymLEtfDZ3"
      },
      "source": [
        "busiserv = ['BRPA', 'LMFA', 'OXBR', 'GHVI', 'BTCM', 'TIG', 'MFH', 'LYL', 'AMRK', 'FDBC']\n",
        "busiserv_down = ['HFBL', 'BHV', 'RICE', 'ASPS', 'VERY', 'EMCF', 'MN', 'AEL']"
      ],
      "execution_count": 16,
      "outputs": []
    },
    {
      "cell_type": "code",
      "metadata": {
        "colab": {
          "base_uri": "https://localhost:8080/",
          "height": 805
        },
        "id": "1JPXXqiuu6sJ",
        "outputId": "c9fdd44e-5114-4a9e-e4ec-3ca5256add82"
      },
      "source": [
        "visualize_returns(busiserv, sma, lma, start, end)"
      ],
      "execution_count": 36,
      "outputs": [
        {
          "output_type": "stream",
          "text": [
            "[*********************100%***********************]  1 of 1 completed\n",
            "Cummulative Strategy Returns for BRPA: -0.912\n",
            "[*********************100%***********************]  1 of 1 completed\n",
            "Cummulative Strategy Returns for LMFA: -0.971\n",
            "[*********************100%***********************]  1 of 1 completed\n",
            "Cummulative Strategy Returns for OXBR: -1.07\n",
            "[*********************100%***********************]  1 of 1 completed\n",
            "Cummulative Strategy Returns for GHVI: -0.007\n",
            "[*********************100%***********************]  1 of 1 completed\n",
            "Cummulative Strategy Returns for BTCM: -0.542\n",
            "[*********************100%***********************]  1 of 1 completed\n",
            "Cummulative Strategy Returns for TIG: -0.138\n",
            "[*********************100%***********************]  1 of 1 completed\n",
            "Cummulative Strategy Returns for MFH: -0.109\n",
            "[*********************100%***********************]  1 of 1 completed\n",
            "Cummulative Strategy Returns for LYL: -0.962\n",
            "[*********************100%***********************]  1 of 1 completed\n",
            "Cummulative Strategy Returns for AMRK: 1.041\n",
            "[*********************100%***********************]  1 of 1 completed\n",
            "Cummulative Strategy Returns for FDBC: -0.227\n"
          ],
          "name": "stdout"
        },
        {
          "output_type": "display_data",
          "data": {
            "image/png": "[encoded data removed]",
            "text/plain": [
              "<Figure size 1008x504 with 1 Axes>"
            ]
          },
          "metadata": {
            "tags": [],
            "needs_background": "light"
          }
        }
      ]
    },
    {
      "cell_type": "code",
      "metadata": {
        "colab": {
          "base_uri": "https://localhost:8080/"
        },
        "id": "5HtbGvWcwQNQ",
        "outputId": "0666e4a5-6fd5-4eb3-9cb0-22273347d003"
      },
      "source": [
        "cumm_returns(busiserv_down, sma, lma, start, end)"
      ],
      "execution_count": 18,
      "outputs": [
        {
          "output_type": "stream",
          "text": [
            "\r[*********************100%***********************]  1 of 1 completed\n",
            "Cummulative Strategy Returns for HFBL: -0.075\n",
            "[*********************100%***********************]  1 of 1 completed\n",
            "Cummulative Strategy Returns for BHV: -0.257\n",
            "[*********************100%***********************]  1 of 1 completed\n",
            "Cummulative Strategy Returns for RICE: -0.555\n",
            "[*********************100%***********************]  1 of 1 completed\n",
            "Cummulative Strategy Returns for ASPS: -0.965\n",
            "[*********************100%***********************]  1 of 1 completed\n",
            "Cummulative Strategy Returns for VERY: -0.786\n",
            "[*********************100%***********************]  1 of 1 completed\n",
            "Cummulative Strategy Returns for EMCF: -0.873\n",
            "[*********************100%***********************]  1 of 1 completed\n",
            "Cummulative Strategy Returns for MN: -0.977\n",
            "[*********************100%***********************]  1 of 1 completed\n",
            "Cummulative Strategy Returns for AEL: -0.972\n",
            "Computations Completed!\n"
          ],
          "name": "stdout"
        }
      ]
    },
    {
      "cell_type": "markdown",
      "metadata": {
        "id": "33XfqKfFW3TC"
      },
      "source": [
        "# Fast Moving Consumer Goods (FMCG)"
      ]
    },
    {
      "cell_type": "code",
      "metadata": {
        "id": "p40-Ssr6W60Y"
      },
      "source": [
        "fmcg = ['PLIN', 'REDU', 'HIMS', 'HRL', 'UG', 'AMBO', 'FEDU', 'CELH', 'PETZ', 'CLEU']\n",
        "fmcg_down = ['COE', 'LXEH', 'PME', 'REED', 'BJ', 'METX', 'ONE', 'RLX']"
      ],
      "execution_count": 22,
      "outputs": []
    },
    {
      "cell_type": "code",
      "metadata": {
        "colab": {
          "base_uri": "https://localhost:8080/",
          "height": 805
        },
        "id": "O0KIvHrwW7nZ",
        "outputId": "3f1c4f93-85a2-4dc8-dbc8-61ed67bb5b1f"
      },
      "source": [
        "visualize_returns(fmcg, sma, lma, start, end)"
      ],
      "execution_count": 37,
      "outputs": [
        {
          "output_type": "stream",
          "text": [
            "[*********************100%***********************]  1 of 1 completed\n",
            "Cummulative Strategy Returns for PLIN: -0.303\n",
            "[*********************100%***********************]  1 of 1 completed\n",
            "Cummulative Strategy Returns for REDU: -0.656\n",
            "[*********************100%***********************]  1 of 1 completed\n",
            "Cummulative Strategy Returns for HIMS: -0.101\n",
            "[*********************100%***********************]  1 of 1 completed\n",
            "Cummulative Strategy Returns for HRL: -0.421\n",
            "[*********************100%***********************]  1 of 1 completed\n",
            "Cummulative Strategy Returns for UG: -0.751\n",
            "[*********************100%***********************]  1 of 1 completed\n",
            "Cummulative Strategy Returns for AMBO: -1.014\n",
            "[*********************100%***********************]  1 of 1 completed\n",
            "Cummulative Strategy Returns for FEDU: -0.107\n",
            "[*********************100%***********************]  1 of 1 completed\n",
            "Cummulative Strategy Returns for CELH: -1.0\n",
            "[*********************100%***********************]  1 of 1 completed\n",
            "Cummulative Strategy Returns for PETZ: -1.0\n",
            "[*********************100%***********************]  1 of 1 completed\n",
            "Cummulative Strategy Returns for CLEU: -0.908\n"
          ],
          "name": "stdout"
        },
        {
          "output_type": "display_data",
          "data": {
            "image/png": "[encoded data removed]",
            "text/plain": [
              "<Figure size 1008x504 with 1 Axes>"
            ]
          },
          "metadata": {
            "tags": [],
            "needs_background": "light"
          }
        }
      ]
    },
    {
      "cell_type": "code",
      "metadata": {
        "colab": {
          "base_uri": "https://localhost:8080/"
        },
        "id": "KKKpv-fAvs56",
        "outputId": "d3497146-7424-40a1-f2ab-86b58016f957"
      },
      "source": [
        "cumm_returns(fmcg_down, sma, lma, start, end)"
      ],
      "execution_count": 24,
      "outputs": [
        {
          "output_type": "stream",
          "text": [
            "[*********************100%***********************]  1 of 1 completed\n",
            "Cummulative Strategy Returns for COE: -0.912\n",
            "[*********************100%***********************]  1 of 1 completed\n",
            "Cummulative Strategy Returns for LXEH: -0.405\n",
            "[*********************100%***********************]  1 of 1 completed\n",
            "Cummulative Strategy Returns for PME: -0.732\n",
            "[*********************100%***********************]  1 of 1 completed\n",
            "Cummulative Strategy Returns for REED: 2.82\n",
            "[*********************100%***********************]  1 of 1 completed\n",
            "Cummulative Strategy Returns for BJ: -0.464\n",
            "[*********************100%***********************]  1 of 1 completed\n",
            "Cummulative Strategy Returns for METX: 0.635\n",
            "[*********************100%***********************]  1 of 1 completed\n",
            "Cummulative Strategy Returns for ONE: -0.317\n",
            "[*********************100%***********************]  1 of 1 completed\n",
            "Cummulative Strategy Returns for RLX: -0.265\n",
            "Computations Completed!\n"
          ],
          "name": "stdout"
        }
      ]
    },
    {
      "cell_type": "markdown",
      "metadata": {
        "id": "fWdVOAU0W8DO"
      },
      "source": [
        "# Consumer Discretionary\n",
        "AKA cylical consumer stocks"
      ]
    },
    {
      "cell_type": "code",
      "metadata": {
        "id": "ayl83fFJW-7x"
      },
      "source": [
        "cd = ['BBQ', 'BBIG', 'MRM', 'FORD', 'OCG', 'CATO', 'AUVI', 'RICK', 'POSH', \n",
        "      'DIS', 'HLT', 'WMT']\n",
        "cd_down = ['RIDE', 'FOSL', 'KSS', 'ANF', 'RL', 'URBN', 'JWN', 'LOTZ', 'LCUT']"
      ],
      "execution_count": 39,
      "outputs": []
    },
    {
      "cell_type": "code",
      "metadata": {
        "colab": {
          "base_uri": "https://localhost:8080/",
          "height": 874
        },
        "id": "FQgaE_O6W_kg",
        "outputId": "9915607f-91bd-492b-80e4-33304e352939"
      },
      "source": [
        "visualize_returns(cd, sma, lma, start, end)"
      ],
      "execution_count": 40,
      "outputs": [
        {
          "output_type": "stream",
          "text": [
            "[*********************100%***********************]  1 of 1 completed\n",
            "Cummulative Strategy Returns for BBQ: -0.815\n",
            "[*********************100%***********************]  1 of 1 completed\n",
            "Cummulative Strategy Returns for BBIG: -1.06\n",
            "[*********************100%***********************]  1 of 1 completed\n",
            "Cummulative Strategy Returns for MRM: -0.084\n",
            "[*********************100%***********************]  1 of 1 completed\n",
            "Cummulative Strategy Returns for FORD: -0.985\n",
            "[*********************100%***********************]  1 of 1 completed\n",
            "Cummulative Strategy Returns for OCG: -1.051\n",
            "[*********************100%***********************]  1 of 1 completed\n",
            "Cummulative Strategy Returns for CATO: 1.185\n",
            "[*********************100%***********************]  1 of 1 completed\n",
            "Cummulative Strategy Returns for AUVI: 0.767\n",
            "[*********************100%***********************]  1 of 1 completed\n",
            "Cummulative Strategy Returns for RICK: -0.621\n",
            "[*********************100%***********************]  1 of 1 completed\n",
            "Cummulative Strategy Returns for POSH: -0.085\n",
            "[*********************100%***********************]  1 of 1 completed\n",
            "Cummulative Strategy Returns for DIS: 1.156\n",
            "[*********************100%***********************]  1 of 1 completed\n",
            "Cummulative Strategy Returns for HLT: 0.037\n",
            "[*********************100%***********************]  1 of 1 completed\n",
            "Cummulative Strategy Returns for WMT: 0.481\n"
          ],
          "name": "stdout"
        },
        {
          "output_type": "display_data",
          "data": {
            "image/png": "[encoded data removed]",
            "text/plain": [
              "<Figure size 1008x504 with 1 Axes>"
            ]
          },
          "metadata": {
            "tags": [],
            "needs_background": "light"
          }
        }
      ]
    },
    {
      "cell_type": "code",
      "metadata": {
        "colab": {
          "base_uri": "https://localhost:8080/",
          "height": 770
        },
        "id": "HvbDk94LxSFo",
        "outputId": "335deab5-5c9f-49ec-bf2f-cbd77b097980"
      },
      "source": [
        "visualize_returns(cd_down, sma, lma, start, end)"
      ],
      "execution_count": 41,
      "outputs": [
        {
          "output_type": "stream",
          "text": [
            "\r[*********************100%***********************]  1 of 1 completed\n",
            "Cummulative Strategy Returns for RIDE: -0.653\n",
            "[*********************100%***********************]  1 of 1 completed\n",
            "Cummulative Strategy Returns for FOSL: -0.96\n",
            "[*********************100%***********************]  1 of 1 completed\n",
            "Cummulative Strategy Returns for KSS: -0.653\n",
            "[*********************100%***********************]  1 of 1 completed\n",
            "Cummulative Strategy Returns for ANF: -0.806\n",
            "[*********************100%***********************]  1 of 1 completed\n",
            "Cummulative Strategy Returns for RL: -0.641\n",
            "[*********************100%***********************]  1 of 1 completed\n",
            "Cummulative Strategy Returns for URBN: 0.294\n",
            "[*********************100%***********************]  1 of 1 completed\n",
            "Cummulative Strategy Returns for JWN: -0.528\n",
            "[*********************100%***********************]  1 of 1 completed\n",
            "Cummulative Strategy Returns for LOTZ: 0.282\n",
            "[*********************100%***********************]  1 of 1 completed\n",
            "Cummulative Strategy Returns for LCUT: -0.981\n"
          ],
          "name": "stdout"
        },
        {
          "output_type": "display_data",
          "data": {
            "image/png": "[encoded data removed]",
            "text/plain": [
              "<Figure size 1008x504 with 1 Axes>"
            ]
          },
          "metadata": {
            "tags": [],
            "needs_background": "light"
          }
        }
      ]
    },
    {
      "cell_type": "markdown",
      "metadata": {
        "id": "rbbTQ3dfyfps"
      },
      "source": [
        "#Real Estate"
      ]
    },
    {
      "cell_type": "code",
      "metadata": {
        "id": "jDebzHCxyfPa"
      },
      "source": [
        "real_estate = ['O', 'SPG', 'PSA', 'DLR', 'AMT', 'STAG', 'NTP', 'IHT',\n",
        "               'AEI', 'CBRE', 'QK', 'HT', 'SKT', 'XHR']"
      ],
      "execution_count": 46,
      "outputs": []
    },
    {
      "cell_type": "code",
      "metadata": {
        "colab": {
          "base_uri": "https://localhost:8080/",
          "height": 944
        },
        "id": "VDsXw5SC3XzC",
        "outputId": "4ee67a2b-87e1-4c19-fa34-d7cbb4011246"
      },
      "source": [
        "visualize_returns(real_estate, sma, lma, start, end)"
      ],
      "execution_count": 47,
      "outputs": [
        {
          "output_type": "stream",
          "text": [
            "\r[*********************100%***********************]  1 of 1 completed\n",
            "Cummulative Strategy Returns for O: -0.315\n",
            "[*********************100%***********************]  1 of 1 completed\n",
            "Cummulative Strategy Returns for SPG: -0.649\n",
            "[*********************100%***********************]  1 of 1 completed\n",
            "Cummulative Strategy Returns for PSA: -0.597\n",
            "[*********************100%***********************]  1 of 1 completed\n",
            "Cummulative Strategy Returns for DLR: -0.572\n",
            "[*********************100%***********************]  1 of 1 completed\n",
            "Cummulative Strategy Returns for AMT: -0.559\n",
            "[*********************100%***********************]  1 of 1 completed\n",
            "Cummulative Strategy Returns for STAG: 0.501\n",
            "[*********************100%***********************]  1 of 1 completed\n",
            "Cummulative Strategy Returns for NTP: -0.158\n",
            "[*********************100%***********************]  1 of 1 completed\n",
            "Cummulative Strategy Returns for IHT: -1.0\n",
            "[*********************100%***********************]  1 of 1 completed\n",
            "Cummulative Strategy Returns for AEI: 0.46\n",
            "[*********************100%***********************]  1 of 1 completed\n",
            "Cummulative Strategy Returns for CBRE: 0.112\n",
            "[*********************100%***********************]  1 of 1 completed\n",
            "Cummulative Strategy Returns for QK: 1.146\n",
            "[*********************100%***********************]  1 of 1 completed\n",
            "Cummulative Strategy Returns for HT: -0.896\n",
            "[*********************100%***********************]  1 of 1 completed\n",
            "Cummulative Strategy Returns for SKT: -0.208\n",
            "[*********************100%***********************]  1 of 1 completed\n",
            "Cummulative Strategy Returns for XHR: -0.18\n"
          ],
          "name": "stdout"
        },
        {
          "output_type": "display_data",
          "data": {
            "image/png": "[encoded data removed]",
            "text/plain": [
              "<Figure size 1008x504 with 1 Axes>"
            ]
          },
          "metadata": {
            "tags": [],
            "needs_background": "light"
          }
        }
      ]
    },
    {
      "cell_type": "markdown",
      "metadata": {
        "id": "lyQsw_v9XACL"
      },
      "source": [
        "#Materials"
      ]
    },
    {
      "cell_type": "code",
      "metadata": {
        "id": "DQbJxMjZydIu"
      },
      "source": [
        "materials=['VALE', 'HUN', 'SCCO', 'FCX', 'ECL', 'APD', 'DD', 'XLB', 'CE', 'NEU', 'SCCO',\n",
        "           'NUE', 'RPM', 'CC', 'OLN', 'XLB', 'RIO', 'LYB', 'IP', ]"
      ],
      "execution_count": 52,
      "outputs": []
    },
    {
      "cell_type": "code",
      "metadata": {
        "colab": {
          "base_uri": "https://localhost:8080/",
          "height": 1000
        },
        "id": "GrPW2Xla3Yiu",
        "outputId": "8bf28545-cc4f-4208-8065-c3bfd91f3735"
      },
      "source": [
        "visualize_returns(materials, sma, lma, start, end)"
      ],
      "execution_count": 53,
      "outputs": [
        {
          "output_type": "stream",
          "text": [
            "\r[*********************100%***********************]  1 of 1 completed\n",
            "Cummulative Strategy Returns for VALE: -0.664\n",
            "[*********************100%***********************]  1 of 1 completed\n",
            "Cummulative Strategy Returns for HUN: -0.308\n",
            "[*********************100%***********************]  1 of 1 completed\n",
            "Cummulative Strategy Returns for SCCO: -0.391\n",
            "[*********************100%***********************]  1 of 1 completed\n",
            "Cummulative Strategy Returns for FCX: 0.053\n",
            "[*********************100%***********************]  1 of 1 completed\n",
            "Cummulative Strategy Returns for ECL: -0.761\n",
            "[*********************100%***********************]  1 of 1 completed\n",
            "Cummulative Strategy Returns for APD: -0.505\n",
            "[*********************100%***********************]  1 of 1 completed\n",
            "Cummulative Strategy Returns for DD: -0.372\n",
            "[*********************100%***********************]  1 of 1 completed\n",
            "Cummulative Strategy Returns for XLB: -0.284\n",
            "[*********************100%***********************]  1 of 1 completed\n",
            "Cummulative Strategy Returns for CE: 0.028\n",
            "[*********************100%***********************]  1 of 1 completed\n",
            "Cummulative Strategy Returns for NEU: -0.475\n",
            "[*********************100%***********************]  1 of 1 completed\n",
            "Cummulative Strategy Returns for SCCO: -0.391\n",
            "[*********************100%***********************]  1 of 1 completed\n",
            "Cummulative Strategy Returns for NUE: -0.302\n",
            "[*********************100%***********************]  1 of 1 completed\n",
            "Cummulative Strategy Returns for RPM: -0.583\n",
            "[*********************100%***********************]  1 of 1 completed\n",
            "Cummulative Strategy Returns for CC: 7.267\n",
            "[*********************100%***********************]  1 of 1 completed\n",
            "Cummulative Strategy Returns for OLN: -0.855\n",
            "[*********************100%***********************]  1 of 1 completed\n",
            "Cummulative Strategy Returns for XLB: -0.284\n",
            "[*********************100%***********************]  1 of 1 completed\n",
            "Cummulative Strategy Returns for RIO: -0.848\n",
            "[*********************100%***********************]  1 of 1 completed\n",
            "Cummulative Strategy Returns for LYB: 10.875\n",
            "[*********************100%***********************]  1 of 1 completed\n",
            "Cummulative Strategy Returns for IP: -0.471\n"
          ],
          "name": "stdout"
        },
        {
          "output_type": "display_data",
          "data": {
            "image/png": "[encoded data removed]",
            "text/plain": [
              "<Figure size 1008x504 with 1 Axes>"
            ]
          },
          "metadata": {
            "tags": [],
            "needs_background": "light"
          }
        }
      ]
    },
    {
      "cell_type": "markdown",
      "metadata": {
        "id": "pHKNWqrtylcb"
      },
      "source": [
        "#Utilities/ Energy\n",
        "* Duke Electric"
      ]
    },
    {
      "cell_type": "code",
      "metadata": {
        "id": "qqdXK6Jkyqkh"
      },
      "source": [
        "util = ['NEE', 'CVX', 'DUK', 'D', 'XEL', 'XLU', 'SRE', 'VST', 'UGI', 'WTRG', 'EIX', 'AEP', \n",
        "        'AES', 'CNP', 'DTE', 'ETR', 'IDA', 'NFG', 'NI', 'NRG', 'NOVA', 'AWK', 'BIP', 'NEE']"
      ],
      "execution_count": 48,
      "outputs": []
    },
    {
      "cell_type": "code",
      "metadata": {
        "colab": {
          "base_uri": "https://localhost:8080/",
          "height": 1000
        },
        "id": "sKp9FUQv3ZPU",
        "outputId": "5b6b5623-1dd2-49a2-8502-bb03a4cfd805"
      },
      "source": [
        "visualize_returns(util, sma, lma, start, end)"
      ],
      "execution_count": 49,
      "outputs": [
        {
          "output_type": "stream",
          "text": [
            "\r[*********************100%***********************]  1 of 1 completed\n",
            "Cummulative Strategy Returns for NEE: -0.321\n",
            "[*********************100%***********************]  1 of 1 completed\n",
            "Cummulative Strategy Returns for CVX: -0.507\n",
            "[*********************100%***********************]  1 of 1 completed\n",
            "Cummulative Strategy Returns for DUK: -0.623\n",
            "[*********************100%***********************]  1 of 1 completed\n",
            "Cummulative Strategy Returns for D: -0.501\n",
            "[*********************100%***********************]  1 of 1 completed\n",
            "Cummulative Strategy Returns for XEL: -0.352\n",
            "[*********************100%***********************]  1 of 1 completed\n",
            "Cummulative Strategy Returns for XLU: -0.481\n",
            "[*********************100%***********************]  1 of 1 completed\n",
            "Cummulative Strategy Returns for SRE: -0.36\n",
            "[*********************100%***********************]  1 of 1 completed\n",
            "Cummulative Strategy Returns for VST: -0.548\n",
            "[*********************100%***********************]  1 of 1 completed\n",
            "Cummulative Strategy Returns for UGI: -0.418\n",
            "[*********************100%***********************]  1 of 1 completed\n",
            "Cummulative Strategy Returns for WTRG: -0.325\n",
            "[*********************100%***********************]  1 of 1 completed\n",
            "Cummulative Strategy Returns for EIX: -0.385\n",
            "[*********************100%***********************]  1 of 1 completed\n",
            "Cummulative Strategy Returns for AEP: -0.069\n",
            "[*********************100%***********************]  1 of 1 completed\n",
            "Cummulative Strategy Returns for AES: 0.998\n",
            "[*********************100%***********************]  1 of 1 completed\n",
            "Cummulative Strategy Returns for CNP: -0.364\n",
            "[*********************100%***********************]  1 of 1 completed\n",
            "Cummulative Strategy Returns for DTE: -0.281\n",
            "[*********************100%***********************]  1 of 1 completed\n",
            "Cummulative Strategy Returns for ETR: -0.243\n",
            "[*********************100%***********************]  1 of 1 completed\n",
            "Cummulative Strategy Returns for IDA: -0.643\n",
            "[*********************100%***********************]  1 of 1 completed\n",
            "Cummulative Strategy Returns for NFG: -0.643\n",
            "[*********************100%***********************]  1 of 1 completed\n",
            "Cummulative Strategy Returns for NI: -0.334\n",
            "[*********************100%***********************]  1 of 1 completed\n",
            "Cummulative Strategy Returns for NRG: -0.223\n",
            "[*********************100%***********************]  1 of 1 completed\n",
            "Cummulative Strategy Returns for NOVA: 0.029\n",
            "[*********************100%***********************]  1 of 1 completed\n",
            "Cummulative Strategy Returns for AWK: -0.226\n",
            "[*********************100%***********************]  1 of 1 completed\n",
            "Cummulative Strategy Returns for BIP: -0.405\n",
            "[*********************100%***********************]  1 of 1 completed\n",
            "Cummulative Strategy Returns for NEE: -0.321\n"
          ],
          "name": "stdout"
        },
        {
          "output_type": "display_data",
          "data": {
            "image/png": "[encoded data removed]",
            "text/plain": [
              "<Figure size 1008x504 with 1 Axes>"
            ]
          },
          "metadata": {
            "tags": [],
            "needs_background": "light"
          }
        }
      ]
    },
    {
      "cell_type": "code",
      "metadata": {
        "id": "K_Ytyd_-5NPt"
      },
      "source": [
        ""
      ],
      "execution_count": null,
      "outputs": []
    }
  ]
}